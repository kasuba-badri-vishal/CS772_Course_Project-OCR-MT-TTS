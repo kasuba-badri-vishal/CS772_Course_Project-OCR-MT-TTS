{
 "metadata": {
  "kernelspec": {
   "language": "python",
   "display_name": "Python 3",
   "name": "python3"
  },
  "language_info": {
   "name": "python",
   "version": "3.7.10",
   "mimetype": "text/x-python",
   "codemirror_mode": {
    "name": "ipython",
    "version": 3
   },
   "pygments_lexer": "ipython3",
   "nbconvert_exporter": "python",
   "file_extension": ".py"
  }
 },
 "nbformat_minor": 4,
 "nbformat": 4,
 "cells": [
  {
   "cell_type": "code",
   "source": "# This Python 3 environment comes with many helpful analytics libraries installed\n# It is defined by the kaggle/python Docker image: https://github.com/kaggle/docker-python\n# For example, here's several helpful packages to load\n\nimport numpy as np # linear algebra\nimport pandas as pd # data processing, CSV file I/O (e.g. pd.read_csv)\nimport tensorflow as tf\n# Input data files are available in the read-only \"../input/\" directory\n# For example, running this (by clicking run or pressing Shift+Enter) will list all files under the input directory\n\nimport os\nfor dirname, _, filenames in os.walk('/kaggle/input'):\n    for filename in filenames:\n        print(os.path.join(dirname, filename))\n\n# You can write up to 20GB to the current directory (/kaggle/working/) that gets preserved as output when you create a version using \"Save & Run All\" \n# You can also write temporary files to /kaggle/temp/, but they won't be saved outside of the current session",
   "metadata": {
    "_uuid": "8f2839f25d086af736a60e9eeb907d3b93b6e0e5",
    "_cell_guid": "b1076dfc-b9ad-4769-8c92-a6c4dae69d19",
    "execution": {
     "iopub.status.busy": "2023-04-28T11:12:26.150072Z",
     "iopub.execute_input": "2023-04-28T11:12:26.150377Z",
     "iopub.status.idle": "2023-04-28T11:12:26.160955Z",
     "shell.execute_reply.started": "2023-04-28T11:12:26.150342Z",
     "shell.execute_reply": "2023-04-28T11:12:26.160241Z"
    },
    "trusted": true
   },
   "execution_count": 39,
   "outputs": [
    {
     "name": "stdout",
     "text": "/kaggle/input/hindi-english-parallel-corpus/hindi_english_parallel.csv\n",
     "output_type": "stream"
    }
   ]
  },
  {
   "cell_type": "markdown",
   "source": "# AOML Lab\n# Experiment - 11\n",
   "metadata": {}
  },
  {
   "cell_type": "markdown",
   "source": "### Divyansh Agarwal\n### AIML B-3\n### 500076414\n### R177219079",
   "metadata": {}
  },
  {
   "cell_type": "code",
   "source": "import numpy as np\nimport pandas as pd\nimport tensorflow\nimport keras\nfrom keras.models import Model\nfrom keras.layers import Input, LSTM, Dense,TimeDistributed,Embedding,Bidirectional\nfrom keras.preprocessing.text import Tokenizer\nfrom nltk.corpus import stopwords\nfrom keras.preprocessing.sequence import pad_sequences\nfrom sklearn.model_selection import train_test_split\nfrom string import digits\nimport nltk\nimport re\nimport string",
   "metadata": {
    "execution": {
     "iopub.status.busy": "2023-04-28T11:12:26.753990Z",
     "iopub.execute_input": "2023-04-28T11:12:26.754289Z",
     "iopub.status.idle": "2023-04-28T11:12:26.759445Z",
     "shell.execute_reply.started": "2023-04-28T11:12:26.754239Z",
     "shell.execute_reply": "2023-04-28T11:12:26.758683Z"
    },
    "trusted": true
   },
   "execution_count": 40,
   "outputs": []
  },
  {
   "cell_type": "code",
   "source": "df = pd.read_csv(\"/kaggle/input/hindi-english-parallel-corpus/hindi_english_parallel.csv\")\ndf.head()",
   "metadata": {
    "execution": {
     "iopub.status.busy": "2023-04-28T11:12:26.926016Z",
     "iopub.execute_input": "2023-04-28T11:12:26.926319Z",
     "iopub.status.idle": "2023-04-28T11:12:32.042555Z",
     "shell.execute_reply.started": "2023-04-28T11:12:26.926291Z",
     "shell.execute_reply": "2023-04-28T11:12:32.041728Z"
    },
    "trusted": true
   },
   "execution_count": 41,
   "outputs": [
    {
     "execution_count": 41,
     "output_type": "execute_result",
     "data": {
      "text/plain": "                                               hindi  \\\n0    अपने अनुप्रयोग को पहुंचनीयता व्यायाम का लाभ दें   \n1                    एक्सेर्साइसर पहुंचनीयता अन्वेषक   \n2              निचले पटल के लिए डिफोल्ट प्लग-इन खाका   \n3               ऊपरी पटल के लिए डिफोल्ट प्लग-इन खाका   \n4  उन प्लग-इनों की सूची जिन्हें डिफोल्ट रूप से नि...   \n\n                                          english  \n0  Give your application an accessibility workout  \n1               Accerciser Accessibility Explorer  \n2  The default plugin layout for the bottom panel  \n3     The default plugin layout for the top panel  \n4  A list of plugins that are disabled by default  ",
      "text/html": "<div>\n<style scoped>\n    .dataframe tbody tr th:only-of-type {\n        vertical-align: middle;\n    }\n\n    .dataframe tbody tr th {\n        vertical-align: top;\n    }\n\n    .dataframe thead th {\n        text-align: right;\n    }\n</style>\n<table border=\"1\" class=\"dataframe\">\n  <thead>\n    <tr style=\"text-align: right;\">\n      <th></th>\n      <th>hindi</th>\n      <th>english</th>\n    </tr>\n  </thead>\n  <tbody>\n    <tr>\n      <th>0</th>\n      <td>अपने अनुप्रयोग को पहुंचनीयता व्यायाम का लाभ दें</td>\n      <td>Give your application an accessibility workout</td>\n    </tr>\n    <tr>\n      <th>1</th>\n      <td>एक्सेर्साइसर पहुंचनीयता अन्वेषक</td>\n      <td>Accerciser Accessibility Explorer</td>\n    </tr>\n    <tr>\n      <th>2</th>\n      <td>निचले पटल के लिए डिफोल्ट प्लग-इन खाका</td>\n      <td>The default plugin layout for the bottom panel</td>\n    </tr>\n    <tr>\n      <th>3</th>\n      <td>ऊपरी पटल के लिए डिफोल्ट प्लग-इन खाका</td>\n      <td>The default plugin layout for the top panel</td>\n    </tr>\n    <tr>\n      <th>4</th>\n      <td>उन प्लग-इनों की सूची जिन्हें डिफोल्ट रूप से नि...</td>\n      <td>A list of plugins that are disabled by default</td>\n    </tr>\n  </tbody>\n</table>\n</div>"
     },
     "metadata": {}
    }
   ]
  },
  {
   "cell_type": "code",
   "source": "df.shape",
   "metadata": {
    "execution": {
     "iopub.status.busy": "2023-04-28T11:12:32.044416Z",
     "iopub.execute_input": "2023-04-28T11:12:32.044695Z",
     "iopub.status.idle": "2023-04-28T11:12:32.050442Z",
     "shell.execute_reply.started": "2023-04-28T11:12:32.044658Z",
     "shell.execute_reply": "2023-04-28T11:12:32.049590Z"
    },
    "trusted": true
   },
   "execution_count": 42,
   "outputs": [
    {
     "execution_count": 42,
     "output_type": "execute_result",
     "data": {
      "text/plain": "(1561841, 2)"
     },
     "metadata": {}
    }
   ]
  },
  {
   "cell_type": "code",
   "source": "df.isna().sum()",
   "metadata": {
    "execution": {
     "iopub.status.busy": "2023-04-28T11:12:32.051978Z",
     "iopub.execute_input": "2023-04-28T11:12:32.052237Z",
     "iopub.status.idle": "2023-04-28T11:12:32.274329Z",
     "shell.execute_reply.started": "2023-04-28T11:12:32.052203Z",
     "shell.execute_reply": "2023-04-28T11:12:32.273607Z"
    },
    "trusted": true
   },
   "execution_count": 43,
   "outputs": [
    {
     "execution_count": 43,
     "output_type": "execute_result",
     "data": {
      "text/plain": "hindi      6056\nenglish     725\ndtype: int64"
     },
     "metadata": {}
    }
   ]
  },
  {
   "cell_type": "code",
   "source": "df = df[:85000]",
   "metadata": {
    "execution": {
     "iopub.status.busy": "2023-04-28T11:12:32.276521Z",
     "iopub.execute_input": "2023-04-28T11:12:32.276796Z",
     "iopub.status.idle": "2023-04-28T11:12:32.281092Z",
     "shell.execute_reply.started": "2023-04-28T11:12:32.276762Z",
     "shell.execute_reply": "2023-04-28T11:12:32.280288Z"
    },
    "trusted": true
   },
   "execution_count": 44,
   "outputs": []
  },
  {
   "cell_type": "code",
   "source": "df.shape",
   "metadata": {
    "execution": {
     "iopub.status.busy": "2023-04-28T11:12:32.282375Z",
     "iopub.execute_input": "2023-04-28T11:12:32.282743Z",
     "iopub.status.idle": "2023-04-28T11:12:32.297001Z",
     "shell.execute_reply.started": "2023-04-28T11:12:32.282708Z",
     "shell.execute_reply": "2023-04-28T11:12:32.296363Z"
    },
    "trusted": true
   },
   "execution_count": 45,
   "outputs": [
    {
     "execution_count": 45,
     "output_type": "execute_result",
     "data": {
      "text/plain": "(85000, 2)"
     },
     "metadata": {}
    }
   ]
  },
  {
   "cell_type": "code",
   "source": "df.isna().sum()",
   "metadata": {
    "execution": {
     "iopub.status.busy": "2023-04-28T11:12:32.298998Z",
     "iopub.execute_input": "2023-04-28T11:12:32.299259Z",
     "iopub.status.idle": "2023-04-28T11:12:32.319709Z",
     "shell.execute_reply.started": "2023-04-28T11:12:32.299227Z",
     "shell.execute_reply": "2023-04-28T11:12:32.318994Z"
    },
    "trusted": true
   },
   "execution_count": 46,
   "outputs": [
    {
     "execution_count": 46,
     "output_type": "execute_result",
     "data": {
      "text/plain": "hindi      3\nenglish    0\ndtype: int64"
     },
     "metadata": {}
    }
   ]
  },
  {
   "cell_type": "code",
   "source": "df.dropna(inplace=True)",
   "metadata": {
    "execution": {
     "iopub.status.busy": "2023-04-28T11:12:32.321092Z",
     "iopub.execute_input": "2023-04-28T11:12:32.321329Z",
     "iopub.status.idle": "2023-04-28T11:12:32.338602Z",
     "shell.execute_reply.started": "2023-04-28T11:12:32.321299Z",
     "shell.execute_reply": "2023-04-28T11:12:32.337970Z"
    },
    "trusted": true
   },
   "execution_count": 47,
   "outputs": []
  },
  {
   "cell_type": "code",
   "source": "df.isna().sum()",
   "metadata": {
    "execution": {
     "iopub.status.busy": "2023-04-28T11:12:32.339927Z",
     "iopub.execute_input": "2023-04-28T11:12:32.340175Z",
     "iopub.status.idle": "2023-04-28T11:12:32.354101Z",
     "shell.execute_reply.started": "2023-04-28T11:12:32.340143Z",
     "shell.execute_reply": "2023-04-28T11:12:32.353272Z"
    },
    "trusted": true
   },
   "execution_count": 48,
   "outputs": [
    {
     "execution_count": 48,
     "output_type": "execute_result",
     "data": {
      "text/plain": "hindi      0\nenglish    0\ndtype: int64"
     },
     "metadata": {}
    }
   ]
  },
  {
   "cell_type": "markdown",
   "source": "### Preprocessing",
   "metadata": {}
  },
  {
   "cell_type": "code",
   "source": "# lowercasing\nfor col in df.columns:\n    df[col] = df[col].apply(lambda x: str(x))\n    df[col] = df[col].apply(lambda x: x.lower())\nprint(\"data converted to lowercase\")\nprint(\"======================================\")\n    \n# removing stopwords\nstop_words = stopwords.words('english')\nprint(\"removing stopwords...\")\nprint(stop_words[:10])\ndf['english'] = df['english'].apply(lambda x: ' '.join([word for word in x.split() if word not in (stop_words)]))\ndf['hindi'] = df['hindi'].apply(lambda x: ' '.join([word for word in x.split() if word not in (stop_words)]))\nprint(\"stopwords have been removed!\")\nprint(\"======================================\")\n\n# removing quotes\ndf['english'] = df['english'].apply(lambda x: re.sub(\"'\", '', x))\ndf['hindi'] = df['hindi'].apply(lambda x: re.sub(\"'\", '', x))\nprint(\"data is now free of any qoutes\")\nprint(\"sample:\", df[\"english\"][0])\nprint(\"======================================\")\n\n# removing all the special characters\npunc = set(string.punctuation)\nprint(\"fixing punctuation...\")\nprint(punc)\ndf['english'] = df['english'].apply(lambda x: ''.join(y for y in x if y not in punc))\ndf['hindi'] = df['hindi'].apply(lambda x: ''.join(y for y in x if y not in punc))\nprint(\"all the special characters have been removed!\")\nprint(\"======================================\")\n\n# removing digits\ndigits = \"1234567890\"\nremove_digits = str.maketrans('','',digits)\nprint(\"removing digits...\")\nprint(remove_digits)\ndf['english'] = df['english'].apply(lambda x: x.translate(remove_digits))\ndf['hindi'] = df['hindi'].apply(lambda x: x.translate(remove_digits))\ndf['hindi'] = df['hindi'].apply(lambda x: re.sub(\"[२३०८१५७९४६]\", \"\", x))\nprint(\"all the digits have been removed!\")\nprint(\"======================================\")\n\n# removing extra spaces\ndf['english'] = df['english'].apply(lambda x: x.strip())\ndf['hindi'] = df['hindi'].apply(lambda x: x.strip())\ndf['english'] = df['english'].apply(lambda x: re.sub(\" +\", \" \", x))\ndf['hindi'] = df['hindi'].apply(lambda x: re.sub(\" +\", \" \", x))\nprint(\"extra spaces have been removed!\")\nprint(\"======================================\")\n\nprint(\"clean data:\")\ndf.head(51)",
   "metadata": {
    "execution": {
     "iopub.status.busy": "2023-04-28T11:12:32.355690Z",
     "iopub.execute_input": "2023-04-28T11:12:32.355939Z",
     "iopub.status.idle": "2023-04-28T11:12:36.248246Z",
     "shell.execute_reply.started": "2023-04-28T11:12:32.355907Z",
     "shell.execute_reply": "2023-04-28T11:12:36.247467Z"
    },
    "trusted": true
   },
   "execution_count": 49,
   "outputs": [
    {
     "name": "stdout",
     "text": "data converted to lowercase\n======================================\nremoving stopwords...\n['i', 'me', 'my', 'myself', 'we', 'our', 'ours', 'ourselves', 'you', \"you're\"]\nstopwords have been removed!\n======================================\ndata is now free of any qoutes\nsample: give application accessibility workout\n======================================\nfixing punctuation...\n{'!', '#', '-', ')', '@', ':', '*', '+', '%', '<', '?', '^', '/', '=', '(', ';', ',', \"'\", '_', '[', '&', '}', '\\\\', ']', '>', '`', '{', '.', '~', '|', '$', '\"'}\nall the special characters have been removed!\n======================================\nremoving digits...\n{49: None, 50: None, 51: None, 52: None, 53: None, 54: None, 55: None, 56: None, 57: None, 48: None}\nall the digits have been removed!\n======================================\nextra spaces have been removed!\n======================================\nclean data:\n",
     "output_type": "stream"
    },
    {
     "execution_count": 49,
     "output_type": "execute_result",
     "data": {
      "text/plain": "                                                hindi  \\\n0     अपने अनुप्रयोग को पहुंचनीयता व्यायाम का लाभ दें   \n1                     एक्सेर्साइसर पहुंचनीयता अन्वेषक   \n2                निचले पटल के लिए डिफोल्ट प्लगइन खाका   \n3                 ऊपरी पटल के लिए डिफोल्ट प्लगइन खाका   \n4   उन प्लगइनों की सूची जिन्हें डिफोल्ट रूप से निष...   \n5                                अवधि को हाइलाइट रकें   \n6   पहुंचनीय आसंधि नोड को चुनते समय हाइलाइट बक्से ...   \n7                सीमांत बोर्डर के रंग को हाइलाइट करें   \n8        हाइलाइट किए गए सीमांत का रंग और अपारदर्शिता।   \n9                         भराई के रंग को हाइलाइट करें   \n10        हाइलाइट किया गया भराई का रंग और पारदर्शिता।   \n11                                        एपीआई विचरक   \n12  इस समय जिसे प्राप्त किया गया हो उसकी विभिन्न व...   \n13                               निजी गुणों को छिपाएं   \n14                                               विधि   \n15                                            गुणधर्म   \n16                                                मान   \n17                                     आईपाइथन कन्सोल   \n18  इस समय चुने गए एक्सेसेबेल से काम लेने के लिए अ...   \n19                                        घटना मानिटर   \n20                            घटनाओं को मानिटर करें m   \n21                                   चुनाव को हटाएं c   \n22                                                सभी   \n23                                  चुने गए अनुप्रयोग   \n24                                 चुने गए एक्सेसेबेल   \n25                                              स्रोत   \n26                                        घटना मानिटर   \n27  चुने गए प्रकारों और स्रोतों से घटनाएं जैसेजैसे...   \n28                 अंतिम प्रविष्ट घटना को हाइलाइट करो   \n29                       घटना रेकोर्डिंग शुरू करोरोको   \n30                                घटना रोजनामचा मिटाओ   \n31                                     कोई विवरण नहीं   \n32                                              वर्णन   \n33                                             दिखाएं   \n34                                           पहुंचनीय   \n35                               कार्रवाई संपन्न करें   \n36                                         कार्रवाई o   \n37                                               आईडी   \n38                                         औजार बक्सा   \n39                                            संस्करण   \n40                                          अनुप्रयोग   \n41                                             संग्रह   \n42                                                      \n43                                     सापेक्ष स्थिति   \n44                                               आकार   \n45                                             विडजेट   \n46                                               स्तर   \n47                                      एमडीआईजेडक्रम   \n48                                              अल्फा   \n49                                    निरपेक्ष स्थिति   \n50                                                घटक   \n\n                                              english  \n0              give application accessibility workout  \n1                   accerciser accessibility explorer  \n2                  default plugin layout bottom panel  \n3                     default plugin layout top panel  \n4                       list plugins disabled default  \n5                                  highlight duration  \n6   duration highlight box selecting accessible nodes  \n7                              highlight border color  \n8                      color opacity highlight border  \n9                                highlight fill color  \n10                       color opacity highlight fill  \n11                                        api browser  \n12          browse various methods current accessible  \n13                            hide private attributes  \n14                                             method  \n15                                           property  \n16                                              value  \n17                                    ipython console  \n18  interactive console manipulating currently sel...  \n19                                      event monitor  \n20                                     monitor events  \n21                                   c lear selection  \n22                                         everything  \n23                               selected application  \n24                                selected accessible  \n25                                             source  \n26                                      event monitor  \n27          shows events occur selected types sources  \n28                         highlight last event entry  \n29                         start stop event recording  \n30                                    clear event log  \n31                                     no description  \n32                                        description  \n33                                               show  \n34                                         accessible  \n35                                     perform action  \n36                                               acti  \n37                                                 id  \n38                                            toolkit  \n39                                            version  \n40                                       ap plication  \n41                                        col lection  \n42                                                     \n43                                  relative position  \n44                                               size  \n45                                             widget  \n46                                              layer  \n47                                        mdi z order  \n48                                              alpha  \n49                                  absolute position  \n50                                         co mponent  ",
      "text/html": "<div>\n<style scoped>\n    .dataframe tbody tr th:only-of-type {\n        vertical-align: middle;\n    }\n\n    .dataframe tbody tr th {\n        vertical-align: top;\n    }\n\n    .dataframe thead th {\n        text-align: right;\n    }\n</style>\n<table border=\"1\" class=\"dataframe\">\n  <thead>\n    <tr style=\"text-align: right;\">\n      <th></th>\n      <th>hindi</th>\n      <th>english</th>\n    </tr>\n  </thead>\n  <tbody>\n    <tr>\n      <th>0</th>\n      <td>अपने अनुप्रयोग को पहुंचनीयता व्यायाम का लाभ दें</td>\n      <td>give application accessibility workout</td>\n    </tr>\n    <tr>\n      <th>1</th>\n      <td>एक्सेर्साइसर पहुंचनीयता अन्वेषक</td>\n      <td>accerciser accessibility explorer</td>\n    </tr>\n    <tr>\n      <th>2</th>\n      <td>निचले पटल के लिए डिफोल्ट प्लगइन खाका</td>\n      <td>default plugin layout bottom panel</td>\n    </tr>\n    <tr>\n      <th>3</th>\n      <td>ऊपरी पटल के लिए डिफोल्ट प्लगइन खाका</td>\n      <td>default plugin layout top panel</td>\n    </tr>\n    <tr>\n      <th>4</th>\n      <td>उन प्लगइनों की सूची जिन्हें डिफोल्ट रूप से निष...</td>\n      <td>list plugins disabled default</td>\n    </tr>\n    <tr>\n      <th>5</th>\n      <td>अवधि को हाइलाइट रकें</td>\n      <td>highlight duration</td>\n    </tr>\n    <tr>\n      <th>6</th>\n      <td>पहुंचनीय आसंधि नोड को चुनते समय हाइलाइट बक्से ...</td>\n      <td>duration highlight box selecting accessible nodes</td>\n    </tr>\n    <tr>\n      <th>7</th>\n      <td>सीमांत बोर्डर के रंग को हाइलाइट करें</td>\n      <td>highlight border color</td>\n    </tr>\n    <tr>\n      <th>8</th>\n      <td>हाइलाइट किए गए सीमांत का रंग और अपारदर्शिता।</td>\n      <td>color opacity highlight border</td>\n    </tr>\n    <tr>\n      <th>9</th>\n      <td>भराई के रंग को हाइलाइट करें</td>\n      <td>highlight fill color</td>\n    </tr>\n    <tr>\n      <th>10</th>\n      <td>हाइलाइट किया गया भराई का रंग और पारदर्शिता।</td>\n      <td>color opacity highlight fill</td>\n    </tr>\n    <tr>\n      <th>11</th>\n      <td>एपीआई विचरक</td>\n      <td>api browser</td>\n    </tr>\n    <tr>\n      <th>12</th>\n      <td>इस समय जिसे प्राप्त किया गया हो उसकी विभिन्न व...</td>\n      <td>browse various methods current accessible</td>\n    </tr>\n    <tr>\n      <th>13</th>\n      <td>निजी गुणों को छिपाएं</td>\n      <td>hide private attributes</td>\n    </tr>\n    <tr>\n      <th>14</th>\n      <td>विधि</td>\n      <td>method</td>\n    </tr>\n    <tr>\n      <th>15</th>\n      <td>गुणधर्म</td>\n      <td>property</td>\n    </tr>\n    <tr>\n      <th>16</th>\n      <td>मान</td>\n      <td>value</td>\n    </tr>\n    <tr>\n      <th>17</th>\n      <td>आईपाइथन कन्सोल</td>\n      <td>ipython console</td>\n    </tr>\n    <tr>\n      <th>18</th>\n      <td>इस समय चुने गए एक्सेसेबेल से काम लेने के लिए अ...</td>\n      <td>interactive console manipulating currently sel...</td>\n    </tr>\n    <tr>\n      <th>19</th>\n      <td>घटना मानिटर</td>\n      <td>event monitor</td>\n    </tr>\n    <tr>\n      <th>20</th>\n      <td>घटनाओं को मानिटर करें m</td>\n      <td>monitor events</td>\n    </tr>\n    <tr>\n      <th>21</th>\n      <td>चुनाव को हटाएं c</td>\n      <td>c lear selection</td>\n    </tr>\n    <tr>\n      <th>22</th>\n      <td>सभी</td>\n      <td>everything</td>\n    </tr>\n    <tr>\n      <th>23</th>\n      <td>चुने गए अनुप्रयोग</td>\n      <td>selected application</td>\n    </tr>\n    <tr>\n      <th>24</th>\n      <td>चुने गए एक्सेसेबेल</td>\n      <td>selected accessible</td>\n    </tr>\n    <tr>\n      <th>25</th>\n      <td>स्रोत</td>\n      <td>source</td>\n    </tr>\n    <tr>\n      <th>26</th>\n      <td>घटना मानिटर</td>\n      <td>event monitor</td>\n    </tr>\n    <tr>\n      <th>27</th>\n      <td>चुने गए प्रकारों और स्रोतों से घटनाएं जैसेजैसे...</td>\n      <td>shows events occur selected types sources</td>\n    </tr>\n    <tr>\n      <th>28</th>\n      <td>अंतिम प्रविष्ट घटना को हाइलाइट करो</td>\n      <td>highlight last event entry</td>\n    </tr>\n    <tr>\n      <th>29</th>\n      <td>घटना रेकोर्डिंग शुरू करोरोको</td>\n      <td>start stop event recording</td>\n    </tr>\n    <tr>\n      <th>30</th>\n      <td>घटना रोजनामचा मिटाओ</td>\n      <td>clear event log</td>\n    </tr>\n    <tr>\n      <th>31</th>\n      <td>कोई विवरण नहीं</td>\n      <td>no description</td>\n    </tr>\n    <tr>\n      <th>32</th>\n      <td>वर्णन</td>\n      <td>description</td>\n    </tr>\n    <tr>\n      <th>33</th>\n      <td>दिखाएं</td>\n      <td>show</td>\n    </tr>\n    <tr>\n      <th>34</th>\n      <td>पहुंचनीय</td>\n      <td>accessible</td>\n    </tr>\n    <tr>\n      <th>35</th>\n      <td>कार्रवाई संपन्न करें</td>\n      <td>perform action</td>\n    </tr>\n    <tr>\n      <th>36</th>\n      <td>कार्रवाई o</td>\n      <td>acti</td>\n    </tr>\n    <tr>\n      <th>37</th>\n      <td>आईडी</td>\n      <td>id</td>\n    </tr>\n    <tr>\n      <th>38</th>\n      <td>औजार बक्सा</td>\n      <td>toolkit</td>\n    </tr>\n    <tr>\n      <th>39</th>\n      <td>संस्करण</td>\n      <td>version</td>\n    </tr>\n    <tr>\n      <th>40</th>\n      <td>अनुप्रयोग</td>\n      <td>ap plication</td>\n    </tr>\n    <tr>\n      <th>41</th>\n      <td>संग्रह</td>\n      <td>col lection</td>\n    </tr>\n    <tr>\n      <th>42</th>\n      <td></td>\n      <td></td>\n    </tr>\n    <tr>\n      <th>43</th>\n      <td>सापेक्ष स्थिति</td>\n      <td>relative position</td>\n    </tr>\n    <tr>\n      <th>44</th>\n      <td>आकार</td>\n      <td>size</td>\n    </tr>\n    <tr>\n      <th>45</th>\n      <td>विडजेट</td>\n      <td>widget</td>\n    </tr>\n    <tr>\n      <th>46</th>\n      <td>स्तर</td>\n      <td>layer</td>\n    </tr>\n    <tr>\n      <th>47</th>\n      <td>एमडीआईजेडक्रम</td>\n      <td>mdi z order</td>\n    </tr>\n    <tr>\n      <th>48</th>\n      <td>अल्फा</td>\n      <td>alpha</td>\n    </tr>\n    <tr>\n      <th>49</th>\n      <td>निरपेक्ष स्थिति</td>\n      <td>absolute position</td>\n    </tr>\n    <tr>\n      <th>50</th>\n      <td>घटक</td>\n      <td>co mponent</td>\n    </tr>\n  </tbody>\n</table>\n</div>"
     },
     "metadata": {}
    }
   ]
  },
  {
   "cell_type": "markdown",
   "source": "### Adding start and end tokens to target sequences",
   "metadata": {}
  },
  {
   "cell_type": "code",
   "source": "df['hindi'] = df['hindi'].apply(lambda x : 'START_ '+ x + ' _END')\ndf.head()",
   "metadata": {
    "execution": {
     "iopub.status.busy": "2023-04-28T11:12:36.250883Z",
     "iopub.execute_input": "2023-04-28T11:12:36.251214Z",
     "iopub.status.idle": "2023-04-28T11:12:36.293387Z",
     "shell.execute_reply.started": "2023-04-28T11:12:36.251178Z",
     "shell.execute_reply": "2023-04-28T11:12:36.292593Z"
    },
    "trusted": true
   },
   "execution_count": 50,
   "outputs": [
    {
     "execution_count": 50,
     "output_type": "execute_result",
     "data": {
      "text/plain": "                                               hindi  \\\n0  START_ अपने अनुप्रयोग को पहुंचनीयता व्यायाम का...   \n1        START_ एक्सेर्साइसर पहुंचनीयता अन्वेषक _END   \n2   START_ निचले पटल के लिए डिफोल्ट प्लगइन खाका _END   \n3    START_ ऊपरी पटल के लिए डिफोल्ट प्लगइन खाका _END   \n4  START_ उन प्लगइनों की सूची जिन्हें डिफोल्ट रूप...   \n\n                                  english  \n0  give application accessibility workout  \n1       accerciser accessibility explorer  \n2      default plugin layout bottom panel  \n3         default plugin layout top panel  \n4           list plugins disabled default  ",
      "text/html": "<div>\n<style scoped>\n    .dataframe tbody tr th:only-of-type {\n        vertical-align: middle;\n    }\n\n    .dataframe tbody tr th {\n        vertical-align: top;\n    }\n\n    .dataframe thead th {\n        text-align: right;\n    }\n</style>\n<table border=\"1\" class=\"dataframe\">\n  <thead>\n    <tr style=\"text-align: right;\">\n      <th></th>\n      <th>hindi</th>\n      <th>english</th>\n    </tr>\n  </thead>\n  <tbody>\n    <tr>\n      <th>0</th>\n      <td>START_ अपने अनुप्रयोग को पहुंचनीयता व्यायाम का...</td>\n      <td>give application accessibility workout</td>\n    </tr>\n    <tr>\n      <th>1</th>\n      <td>START_ एक्सेर्साइसर पहुंचनीयता अन्वेषक _END</td>\n      <td>accerciser accessibility explorer</td>\n    </tr>\n    <tr>\n      <th>2</th>\n      <td>START_ निचले पटल के लिए डिफोल्ट प्लगइन खाका _END</td>\n      <td>default plugin layout bottom panel</td>\n    </tr>\n    <tr>\n      <th>3</th>\n      <td>START_ ऊपरी पटल के लिए डिफोल्ट प्लगइन खाका _END</td>\n      <td>default plugin layout top panel</td>\n    </tr>\n    <tr>\n      <th>4</th>\n      <td>START_ उन प्लगइनों की सूची जिन्हें डिफोल्ट रूप...</td>\n      <td>list plugins disabled default</td>\n    </tr>\n  </tbody>\n</table>\n</div>"
     },
     "metadata": {}
    }
   ]
  },
  {
   "cell_type": "markdown",
   "source": "### Generating dictionaries",
   "metadata": {}
  },
  {
   "cell_type": "code",
   "source": "### Get English and Hindi Vocabulary\nall_eng_words = set()\nfor eng in df['english']:\n    for word in eng.split():\n        if word not in all_eng_words:\n            all_eng_words.add(word)\n\nall_hin_words = set()\nfor hin in df['hindi']:\n    for word in hin.split():\n        if word not in all_hin_words:\n            all_hin_words.add(word)",
   "metadata": {
    "execution": {
     "iopub.status.busy": "2023-04-28T11:12:36.294574Z",
     "iopub.execute_input": "2023-04-28T11:12:36.294953Z",
     "iopub.status.idle": "2023-04-28T11:12:36.509240Z",
     "shell.execute_reply.started": "2023-04-28T11:12:36.294912Z",
     "shell.execute_reply": "2023-04-28T11:12:36.508580Z"
    },
    "trusted": true
   },
   "execution_count": 51,
   "outputs": []
  },
  {
   "cell_type": "code",
   "source": "all_eng_words",
   "metadata": {
    "execution": {
     "iopub.status.busy": "2023-04-28T11:12:36.511402Z",
     "iopub.execute_input": "2023-04-28T11:12:36.511913Z",
     "iopub.status.idle": "2023-04-28T11:12:36.531884Z",
     "shell.execute_reply.started": "2023-04-28T11:12:36.511875Z",
     "shell.execute_reply": "2023-04-28T11:12:36.530975Z"
    },
    "trusted": true
   },
   "execution_count": 52,
   "outputs": [
    {
     "execution_count": 52,
     "output_type": "execute_result",
     "data": {
      "text/plain": "{'se',\n 'reconnecting',\n 'saves',\n 'unreachable',\n 'un',\n 'orward',\n 'dateeditor',\n 'gobject',\n 'folded',\n 'delivery',\n 'music',\n 'resolution',\n 'determines',\n 'audience',\n 'xml',\n 'sender',\n 'invalid',\n 'took',\n 'unfinished',\n 'coordinate',\n 'track…',\n 'tinvalid',\n 'popups',\n 'indent',\n 'armenian',\n 'ethod',\n 'individual',\n 'outbox',\n 'lan',\n 'mount',\n 'perform',\n 'provider',\n 'association',\n 'messages',\n 'shortcut',\n 'counterc',\n 'incognito',\n 'now',\n 'dismiss',\n 'mark',\n 'manipulating',\n 'monte',\n 'appear',\n 'bugzilla',\n 'luanda',\n 'clubs',\n 'minimise',\n 'm',\n 'u',\n 'historical',\n 'symbolic',\n 'xover',\n 'point',\n 'declaration',\n 'replaced',\n 'romanian',\n 'ok',\n 'ps',\n 'remaining',\n 'welcome',\n 'mismatch',\n 'length',\n 'shrink',\n 'limits',\n 'clicking',\n 'pressing',\n 'powered',\n 'elm',\n 'organi',\n 'widespread',\n 'reminder',\n 'online',\n 'http',\n 'picture',\n 'examine',\n 'late',\n 'dm',\n 'ook',\n 'details',\n 'www',\n 'compute',\n 'macarabic',\n 'verride',\n 'untrusted',\n 'manage',\n 'lder…',\n 'amp',\n 'august',\n 'bujumbura',\n 'module',\n 'warp',\n 'padded',\n 'participant',\n 'dominica',\n 'location…',\n 'tutorial',\n 'ko',\n 'snapped',\n 'unsaved',\n 'caution',\n 'library…',\n 'painted',\n 'anonymously',\n 'port',\n 'buttons',\n 'occured',\n 'responding',\n 'svcd',\n 'escalator',\n 'sheet',\n 'way',\n 'dvdcss',\n 'drag',\n 'dump',\n 'start',\n 'development',\n 'marks',\n 'configuration',\n 'faster',\n 'prefill',\n 'protected',\n 'magic',\n 'outlook',\n 'quatorze',\n 'alphanumerics',\n 'libanjuta',\n 'requested',\n 'wilt',\n 'medium',\n 'specialist',\n 'elevator',\n 'shared',\n 'operations',\n 'additional',\n 'voip',\n 'topic',\n 'ppm',\n 'turning',\n 'gnomecard',\n 'decrypt',\n 'round',\n 'marshaller',\n 'novell',\n 'inbox',\n 'dozen',\n 'instantiate',\n 'transaction',\n 'rewriting',\n 'foundation',\n 'written',\n 'developers',\n 'origin',\n 'mapped',\n 'iptc',\n 'forces',\n 'thursday',\n 'uniformity',\n 'seahaven',\n 'reconnect',\n 'developer',\n 'blondes',\n 'scorpion',\n 'travel',\n 'omitted',\n 'help',\n 'blanking',\n 'pin',\n 'decide',\n 'utc',\n 'routing',\n 'alidate',\n 'scoring',\n 'estimated',\n 'encountered',\n 'nickname',\n 'snapshot',\n 'burner',\n 'fill',\n 'goodbye',\n 'downloaded',\n '…',\n 'dot',\n 'num',\n 'questions',\n 'accessed',\n 'tracing',\n 'opposite',\n 'effective',\n 'r',\n 'duration',\n 'tear',\n 'front',\n 'built',\n 'banjul',\n 'speeds',\n 'smaller',\n 'kbps',\n 'mooth',\n 'bds',\n 'clickable',\n 'merged',\n 'stuff',\n 'normalize',\n 'f',\n 'dest',\n 'normalizing',\n 'sidebar',\n 'exceptions',\n 'ields',\n 'gcrd',\n 'tell',\n 'pre',\n 'roman',\n 'cdrtools',\n 'threshold',\n 'filechooser',\n 'encoder',\n 'buy',\n 'artwork',\n 'porto',\n 'blank…',\n 'looking',\n 'ssh',\n 'multipart',\n 'designer',\n 'passing',\n 'authenticated',\n 'csv',\n 'hintslight',\n 'drop',\n 'cycles',\n 'chicago',\n 'advance',\n 'lets',\n 'icalendar',\n 'eate',\n 'class',\n 'anguilla',\n 'oe',\n 'any',\n 'ompile',\n 'ram',\n 'urce',\n 'perspective',\n 'calibration',\n 'saratoga',\n 'og',\n 'safe',\n 'cryptographic',\n 'nntp',\n 'definition',\n 'horiz',\n 'device',\n 'subscribe',\n 'quit',\n 'project…',\n 'fits',\n 'printing',\n 'ii',\n 'server…',\n 'disc',\n 'important',\n 'installed',\n '‘’',\n 'lideshow',\n 'usually',\n 'constraint',\n 'assistive',\n 'tiles',\n 'toolbar',\n 'reshuffle',\n 'category',\n 'gssapi',\n 'duplicated',\n 'executable',\n 'wire',\n 'agent',\n 'vcdimager',\n 'capture',\n 'stages',\n 'cueing',\n 'monitored',\n 'pause',\n 'decryption',\n 'tcp',\n 'filtered',\n 'exif',\n 'exited',\n 'jkl',\n 'command…',\n 'enhancements',\n 'encryption',\n 'maputo',\n 'arrives',\n 'number…',\n 'accelerator…',\n 'dsl',\n 'protection',\n 'v',\n 'last',\n 'patch',\n 'addrcheck',\n 'share',\n 'issue',\n 'dvd',\n 'j',\n 'other',\n 'scale',\n 'hue',\n 'authenticate',\n 'stapler',\n 'transit',\n 'browsing',\n 'increment',\n 'width',\n 'incoming',\n 'tableau',\n 'reload',\n 'handling',\n 'agree',\n 'yption',\n 'pulseaudio',\n 'workspace',\n 'ensure',\n 'another',\n 'lines',\n 'squiggle',\n 'mininum',\n 'pane',\n 'lens',\n 'zooming',\n 'except',\n 'assoc',\n 'combined',\n 'logs',\n 'package',\n 'java',\n 'bay',\n 'johannesburg',\n 'instead',\n 'errno',\n 'cl',\n 'spiderette',\n 'combo',\n 'simple',\n 'readcd',\n 'resulting',\n 'lexical',\n 'genisoimage',\n 'translations',\n 'autodetector',\n 'splash',\n 'terminated',\n 'nces',\n 'starget',\n 'asian',\n 'suppress',\n 'pointing',\n 'guarantee',\n 'divisions',\n 'compression',\n 'urs',\n 'cant',\n 'engine',\n 'transcode',\n 'accessing',\n 'ove',\n 'viewed',\n 'criterion',\n 'tilt',\n 'focal',\n 'pretend',\n 'recharge',\n 'composer',\n 'report',\n 'tv',\n 'geographic',\n 'douala',\n 'pics',\n 'iii',\n 'english',\n '“https”',\n 'needs',\n 'customize',\n 'monday',\n 'projects',\n 'mment',\n 'leftmost',\n 'convert',\n 'oggle',\n 'glsl',\n 'inuvik',\n 'col',\n 'locations',\n 'was',\n 'unsubscribe',\n 'batching',\n 'honour',\n 'malabo',\n 'encr',\n 'salvador',\n 'uri',\n 'cancellable',\n 'hexadecimal',\n 'choices',\n 'fcntl',\n 'ellipsize',\n 'anchors',\n 'pid',\n 'compiled',\n 'fault',\n 'previewer',\n 'filled',\n 'requirements',\n 'offered',\n 'ones',\n 'vcards',\n 'goals',\n 'antler',\n 'phones',\n 'dots',\n 'transmission',\n 'revert…',\n 'reading',\n 'offscreen',\n 'macroman',\n 'overwritting',\n 'parser',\n 'unsent',\n 'gathered',\n 'tmp',\n 'loader',\n 'opacity',\n 'writing',\n 'char',\n 'eep',\n 'sr',\n 'skid',\n 'service',\n 'lesser',\n 'dash',\n 'enveloped',\n 'layout',\n 'formatting',\n 'away',\n 'readers',\n 'several',\n 'serial',\n 'con',\n 'nspr',\n 'autocomplete',\n 'monterrey',\n 'at',\n 'pattern',\n 'reloaded',\n 'maccyrillic',\n 'tt',\n 'subfolders',\n 'attachfile',\n 'braces',\n 'cu',\n 'advertisers',\n 'flatten',\n 'cover',\n 'max',\n 'selected',\n 'monitor',\n 'entered',\n 'rope',\n 'done',\n 'environment',\n 'celtic',\n 'criterium',\n 'macos',\n 'rooms',\n 'lookups',\n 'objectives',\n 'pushes',\n 'mouse',\n 'mponent',\n 'move',\n 'indicated',\n 'supervisor',\n 'storing',\n 'autogenerate',\n 'global',\n 'role',\n 'inc',\n 'keep',\n 'includes',\n 'specific',\n 'asks',\n 'randomly',\n 'moveable',\n 'def',\n 'fortran',\n 'exceeded',\n 'yuv',\n 'option',\n 'telephone',\n 'eol',\n 'emergency',\n 'thorough',\n 'based',\n 'kmark…',\n 'damage',\n 'prior',\n 'ilters',\n 'revision',\n 'decode',\n 'utils',\n 'oolbars',\n 'coglobjects',\n 'metadata',\n 'maintain',\n 'opy',\n 'locked',\n 'softphone',\n 'goose',\n 'consecutive',\n 'sensitive',\n 'separators',\n 'crashed',\n 'japanese',\n 'high',\n 'grab',\n 'addition',\n 'switch',\n 'classt',\n 'one',\n 'lit',\n 'determined',\n 'url',\n 'diff…',\n 'treat',\n 'cancellation',\n 'italian',\n 'variable…',\n 'gmail',\n 'edi',\n 'djvu',\n 'early',\n 'wxyz',\n 'macgreek',\n 'updating',\n 'redheads',\n 'acceleration',\n 'finalizing',\n 'memcheck',\n 'booth',\n 'endpoint',\n 'icons',\n 'transparent',\n 'dependencies',\n 'chan',\n 'fi',\n 'crea',\n 'gtodo',\n 'remove…',\n 'identify',\n 'silence',\n 'meta',\n 'printed',\n 'au',\n 'gecko',\n 'times',\n 'discussion',\n 'prope',\n 'indexed',\n 'notes',\n 'valgrind',\n 'exists',\n 'product',\n 'wants',\n 'webproject',\n 'generate',\n 'workout',\n 'homepage',\n 'pro',\n 'linked',\n 'primary',\n 'inactive',\n 'wizard',\n 'tips',\n 'athena',\n 'supported',\n 'll',\n 'inconsistent',\n 'power',\n 'q',\n 'per',\n 'ntsc',\n 'puzzle',\n 'px',\n 'neighbours',\n 'tacts',\n 'pri',\n 'recursion',\n 'decompressing',\n 'classify',\n 'encrypting',\n 'pile',\n 'interrupting',\n 'things',\n 'mple',\n 'procmail',\n 'gypsy',\n 'family',\n 'center',\n 'square',\n 'ontrol',\n 'controls',\n 'captured',\n 'suppliers',\n 'mode',\n 'ekiga',\n 'specified',\n 'zips',\n 'split',\n 'ipython',\n 'browsed',\n 'saturday',\n 'thou',\n 'libburnia',\n 'france',\n 'frequently',\n 'weight',\n 'coglblendstring',\n 'leadout',\n 'investigating',\n 'fullscale',\n 'take',\n 'invite',\n 'organizational',\n 'abcdefghijk',\n 'hug',\n 'portugese',\n 'exposure',\n 'adds',\n 'branch',\n 'shutter',\n 'recording',\n 'sequence',\n 'annotation',\n 'verbose',\n 'manually',\n 'thanks',\n 'content',\n 'transferring',\n 'checksum',\n 'ui',\n 'apply',\n 'information',\n 'print',\n 'documentations',\n 'identity',\n 'vendor',\n 'parent',\n 'copy…',\n 'training',\n 'quotas',\n 'rectangle',\n 'distclean',\n 'paths…',\n 'machebrew',\n 'happens',\n 'udp',\n 'full',\n 'opposition',\n 'cable',\n 'removing',\n 'spin',\n 'think',\n 'override',\n 'ukrainian',\n 'city',\n 'factories',\n 'junk',\n 'either',\n 'argument',\n 'art',\n 'concurrent',\n 'york',\n 'encode',\n 'affects',\n 'browse',\n 'status……',\n 'pixbuf',\n 'natively',\n 'obtain',\n 'ustomize',\n 'available',\n 'merida',\n 'journal',\n 'remainder',\n 'newsgroup',\n 's…',\n 'redundant',\n 'don',\n 'or',\n 'libbrasero',\n 'percent',\n 'storage',\n 'series',\n 'fonts',\n 'simplified',\n 'keywords',\n 'rsvp',\n 'abc',\n 'template',\n 'check',\n 'translate',\n 'undone',\n 'semicolon',\n 'longer',\n 'requesting',\n 'predictive',\n 'decrease',\n 'about',\n 'interrupt',\n 'ave',\n 'starter',\n 'different',\n 'pgp',\n 'normalization',\n 'small',\n 'boa',\n 'reconstructing',\n 'genre',\n 'aperture',\n 'realized',\n 'ratio',\n 'shorter',\n 'form',\n 'individually',\n 'lunch',\n 'disable',\n 'hardware',\n 'shut',\n 'july',\n 'six',\n 'types',\n 'saying',\n 'formats',\n 'suspected',\n 'anyone',\n 'acti',\n 'queens',\n 'pointer',\n 'work',\n 'strings',\n 'east',\n 'key',\n 'terminals',\n 'gurmukhi',\n 'google',\n 'hi',\n 'vietnamese',\n 'conversation…',\n 'mute',\n 'system',\n 'part',\n 'system…',\n 'requested…',\n 'enlarged',\n 'curacao',\n 'columns',\n 'mu',\n 'prefer',\n 'cleanup',\n 'certification',\n 'screen',\n 'omanian',\n 'lookup',\n 'corrupted',\n 'it',\n 'magnification',\n 'redistribute',\n 'giant',\n 'in',\n 'yet',\n 'initialization',\n 'hex',\n 'danish',\n 'focus',\n 'hosts',\n 'credit',\n 'kground',\n 'wireframes',\n 'certificates',\n 'interface',\n 'decimal',\n 'vim',\n 'slideshow',\n 'bison',\n 'rdf',\n 'configure',\n 'transition',\n 'supply',\n 'dx',\n 'list',\n 'showers',\n 'overwrite',\n 'woods',\n 'expression',\n 'kr',\n 'valid',\n 'left',\n 'variant',\n 'reasons',\n 'issuer',\n 'pect',\n 'appears',\n 'registry',\n 'services',\n 'thai',\n 'reason',\n 'resize',\n 'movemail',\n 'prompt',\n 'up',\n 'result',\n 'basic',\n 'lugins',\n 'feel',\n 'undefined',\n 'cachegrind',\n 'ins',\n 'ools',\n 'native',\n 'msg',\n 'building',\n 'maller',\n 'scheduling',\n 'making',\n 'bugs',\n 'sol',\n 'programs',\n 'correct',\n 'crl',\n 'across',\n 'obstructed',\n 'hardlinks',\n 'twos',\n 'coglobject',\n 'titled',\n 'blanc',\n 'cancel',\n 'z',\n 'copies',\n 'sysconf',\n 'ndjamena',\n 'graph',\n 'reporter',\n 'canadian',\n 'allowed',\n 'gameplay',\n 'contributor',\n 'gaps',\n 'pa',\n 'cmd',\n 'stls',\n 'inlined',\n 'opics',\n 'arguments',\n 'regular',\n 'meal',\n 'contacts',\n 'querying',\n 'sunday',\n 'independent',\n 'disp',\n 'brazilian',\n 'fold',\n 'win',\n 'maximum',\n 'languages',\n 'backrub',\n 'contact',\n 'graphical',\n 'txt',\n 'underline',\n 'specify',\n 'openh',\n 'deltas',\n 'netscape',\n 'edge',\n 'renderer',\n 'filenames',\n 'suggestions',\n 'dd',\n 'codecs',\n 'ght',\n 'bytes',\n 'cid',\n 'november',\n 'conflict',\n 'join…',\n 'alt',\n 'inheritance',\n 'background',\n 'save',\n 'rescan',\n 'zero',\n 'tourniquets',\n 'whether',\n 'if',\n 'vcs',\n 'slovak',\n 'microphone',\n 'burst',\n 'unified',\n 'purchase',\n 'clearing',\n 'chart',\n 'i–',\n 'mutt',\n 'seven',\n 'caribou',\n 'spool',\n 'consult',\n 'beagle',\n 'that',\n 'mobile',\n 'inaccurate',\n 'choosing',\n 'realm',\n 'connecting…',\n 'cogl',\n 'helper',\n 'cookies',\n 'araguaina',\n 'with',\n 'bottom',\n 'postscript',\n 'implied',\n 'jumbo',\n 'zoom',\n 'rica',\n 'much',\n 'carlo',\n 'pluginviews',\n 'tatistics',\n 'jabber',\n 'recover',\n 'blend',\n 'overburn',\n 'values',\n 'facebook',\n 'arabic',\n 'vfolder',\n 'preferences',\n 'transfer',\n 'also',\n 'globale',\n 'inexpensive',\n 'checks',\n 'macturkish',\n 'begins',\n 'rename',\n 'reporting',\n 'telephony',\n 'protocol',\n 'extract',\n 'inside',\n 'setup',\n 'clutterbackend',\n 'roster',\n 'simultaneously',\n 'greater',\n 'company',\n 'opengl',\n 'department',\n 'hardlink',\n 'bind',\n 'rcpt',\n 'reception',\n 'drive',\n 'occurence',\n 'converts',\n 'inline',\n 'outbound',\n 'categories',\n 'align',\n 'profiler',\n 'supports',\n 'transmitted',\n 'members',\n 'good',\n 'statement',\n 'detach',\n 'ole',\n 'reply',\n 'cluttergravity',\n 'distant',\n 'minute',\n 'wait',\n 'middle',\n 'line',\n 'original',\n ...}"
     },
     "metadata": {}
    }
   ]
  },
  {
   "cell_type": "code",
   "source": "all_hin_words",
   "metadata": {
    "execution": {
     "iopub.status.busy": "2023-04-28T11:12:36.533406Z",
     "iopub.execute_input": "2023-04-28T11:12:36.533884Z",
     "iopub.status.idle": "2023-04-28T11:12:36.556035Z",
     "shell.execute_reply.started": "2023-04-28T11:12:36.533795Z",
     "shell.execute_reply": "2023-04-28T11:12:36.555260Z"
    },
    "trusted": true
   },
   "execution_count": 53,
   "outputs": [
    {
     "execution_count": 53,
     "output_type": "execute_result",
     "data": {
      "text/plain": "{'अप्रत्याशित',\n 'एच',\n 'पुनर्संबंध',\n 'सृजन',\n 'दिनाँक',\n 'विभाजक',\n 'xml',\n 'सतत',\n 'individual',\n 'आनेवाली',\n 'फ़ॉन्टः',\n 'u',\n 'रिका',\n 'ssls',\n 'अनुपलब्ध',\n 'xover',\n 'चलाना',\n 'स्लाइडशो',\n 'आवरणdisc',\n 'संपर्कcategoryname',\n 'सूचनाaccepted',\n 'picture',\n 'करने',\n 'सड़क',\n 'मार्जिन',\n 'क़िस्मrgb',\n 'मेटाडेटा',\n 'गेलियन',\n 'libbalsamailboxpop',\n 'रूप',\n 'लपेटन',\n 'विट्रेट',\n 'सारा',\n 'start',\n 'ट्रेस',\n 'ppm',\n 'हिससे',\n 'प्रश्नः',\n 'सोर्सेज़',\n 'एपिफेनी',\n 'वाकई',\n 'संयोजक',\n 'libgnomeprintui',\n 'आँकड़ा',\n 'ठोस',\n 'परतें',\n 'समस्याओं',\n 'हार्डलिंक',\n 'स्पष्ट',\n 'जायेगे',\n 'encountered',\n 'ग्रुप',\n 'टूटी',\n 'फिटनेस',\n 'मददः',\n 'kbps',\n 'सिम्लिफाइड',\n 'फ्रेंकलिन',\n 'हस्ताक्षरः',\n 'सुविधा',\n 'मौन',\n 'फार्स्ट',\n 'आपसे',\n 'फ़ॉर्म',\n 'जोड़ते',\n 'gcrd',\n 'पढ़ना',\n 'वर्णनicalimp',\n 'पृष्ठो',\n 'रेकॉर्ड',\n 'क्लिक',\n 'पूछें',\n 'मनमाना',\n 'पाज',\n 'पदक्रम',\n 'rtlpredefinito',\n 'प्लगेबल',\n 'सोर्स',\n 'क्लिपबोर्ड',\n 'प्रिन्टर',\n 'class',\n 'चित्रों',\n 'यह',\n 'any',\n 'ग्नूजनरल',\n 'बड़ी',\n 'टाइमआउट',\n 'सिन्योर',\n 'अनडू',\n 'पठनीय',\n 'अंतर्गत',\n 'device',\n 'सम्पर्क',\n 'ग्रुपवाइज़',\n 'quit',\n 'स्टेटसबार',\n 'बायीं',\n 'प्लगइंस',\n 'वैधता',\n 'जुड़ें',\n 'विशेषताः',\n 'अंतर्राष्ट्रीयcategoryname',\n 'gssapi',\n 'tcp',\n 'मोबाईल',\n 'पद',\n 'इसे',\n 'ज्यार्जियाई',\n 'मुख्यतः',\n 'v',\n 'addrcheck',\n 'समुच्चय',\n 'निचला',\n 'एवं',\n 'प्रवेश',\n 'combined',\n 'तारे',\n 'बदलावों',\n 'बदलें',\n 'dslcable',\n 'ब्रैसेरोनक़ल',\n 'लिए',\n 'पारपथ',\n 'genisoimage',\n 'दृष्टिगोचर',\n 'झुकाव',\n 'rwformat',\n 'मिले',\n 'न',\n 'देता',\n 'फारसी',\n 'अफ्रीकासीयुटा',\n 'कॉन्फ़िगरेशन',\n 'durationofthemeeting',\n 'लिफाफा',\n 'भेजें',\n 'संगठनकर्ता',\n 'glsl',\n 'आयत',\n 'ब्राउजिंग',\n 'categoryname',\n 'टों',\n 'कार्ड्स',\n 'ellipsize',\n 'जंगम',\n 'फिल्टर',\n 'vcards',\n 'अफ्रीकान्ड्जामेना',\n 'जाना',\n 'असामान्य',\n 'साथः',\n 'offscreen',\n 'tmp',\n 'उन्नीसवां',\n 'तीसरे',\n 'सोच',\n 'अपेक्षित',\n 'आबंटित',\n 'nspr',\n 'एंटिटी',\n 'selected',\n 'डंप',\n 'environment',\n 'macos',\n 'मुलाकात',\n 'कनेक्टेविटी',\n 'shiftjis',\n 'आफको',\n 'पूर्वज',\n 'अस्वीकार्य',\n 'नक़्शा',\n 'अनुरोधित',\n 'चिन्ह',\n 'मिलें',\n 'फोरवर्ड',\n 'अपरकेस',\n 'coglobjects',\n 'झांकी',\n 'deutsch',\n 'जीवनसाथीः',\n 'मना',\n 'एंपैथी',\n 'पब्लिक',\n 'परिवर्तित',\n 'डिजीटल',\n 'ड्रुइड',\n 'classt',\n 'ड्रैग',\n 'दर्शक',\n 'पढने',\n 'दर',\n 'djvu',\n 'संपर्क',\n 'macgreek',\n 'तौर',\n 'पत्रसर्वर',\n 'उपतरू',\n 'व्यापार',\n 'आवेदन',\n 'यथावत्',\n 'क्रेडिट',\n 'ब्लाक',\n 'पुस्तकालय',\n 'निर्णय',\n 'पतों',\n 'लेटिन',\n 'असमर्थःtअवैध',\n 'डच',\n 'per',\n 'आपकाyahoo',\n 'आपस',\n 'सतह',\n 'आसानी',\n 'ekiga',\n 'क्रिप्टोग्राफी',\n 'पासा',\n 'वॉल्यूम',\n 'इंचेस',\n 'फेच',\n 'रहते',\n 'अपारदर्शिता।',\n 'अतंरफलक',\n 'अंगूठा',\n 'डिवायस',\n 'manually',\n 'असफलःcategoryname',\n 'checksum',\n 'ui',\n 'isoir',\n 'जरूरत',\n 'निगरानी',\n 'वापस',\n 'कॉन्टेन्ट',\n 'पुनर्लेखित',\n 'either',\n 'argument',\n 'बांयें',\n 'घुमाव',\n 'खंडः',\n 'or',\n 'डॉयलपेड',\n 'storage',\n 'rsvp',\n 'बढ़ाया',\n 'संपूर्ण',\n 'decrease',\n 'फाउन्डेशन',\n 'निर्माण',\n 'विसम',\n 'मोड',\n 'कनेक्टफिर',\n 'सकता',\n 'replacewith',\n 'काली',\n 'है…',\n 'कब',\n 'gurmukhi',\n 'दिखाएगा',\n 'system',\n 'लांच',\n 'cleanup',\n 'बहुपेज',\n 'टूटते',\n 'in',\n 'हल',\n 'onscreen',\n 'wireframes',\n 'त्रुटियांviewport',\n 'बिट्स',\n 'जन्मदिनcategoryname',\n 'दीवाना',\n 'पुनरावृत्ति',\n 'expression',\n 'व्यवसायcategoryname',\n 'प्रोजेक्ट',\n 'शरीर',\n 'मद',\n 'योग्यः',\n 'आयतों',\n 'मिटाएँः',\n 'पते',\n 'स्वीकार',\n 'प्ले',\n 'डिक्शनरी',\n 'ins',\n 'msg',\n 'सहायक',\n 'आपातकालीन',\n 'कूटशब्द',\n 'आटोडिटेक्टर्स',\n 'पंचांगः',\n 'रैण्डर',\n 'स्वर',\n 'कचरा',\n 'कालमों',\n 'coglobject',\n 'blanc',\n 'सुपुर्द',\n 'लॉग',\n 'डिब्बा',\n 'जाएँगी',\n 'आयटम्स',\n 'जुड़',\n 'अधिरोहित',\n 'सब',\n 'सहेजता',\n 'स्पॉट',\n 'बहाल',\n 'दाएँ',\n 'मिनट्स',\n 'edge',\n 'लगातार',\n 'हैbutton',\n 'alt',\n 'आपका',\n 'vcs',\n 'चरणों',\n 'स्थिर',\n 'फॉल्ट',\n 'postscript',\n 'implied',\n 'गारंटी',\n 'सभीbookmarks',\n 'zoom',\n 'एनटीएससी',\n 'अंतिमः',\n 'ब्लैंकिंग',\n 'निस्पंदन',\n 'डाउनलोड्स',\n 'vfolder',\n 'स्ट्रक्चर',\n 'मे',\n 'ट्रेडिशनल',\n 'hardlink',\n 'पाथः',\n 'मदों',\n 'rcpt',\n 'साईट',\n 'सूक्ति',\n 'वीकार्ड',\n 'फान्ट्स',\n 'रिकॉर्डिंग',\n 'डाकपेटी',\n 'अनुमापक',\n 'पीडीएफ',\n 'डोमेनmessages',\n 'त्रुटिe',\n 'line',\n 'minute',\n 'हेडर',\n 'रासता',\n 'एट',\n 'आनंद',\n 'absolute',\n 'तारीख',\n 'नोटिफिकेशन',\n 'पैक',\n 'असीमित',\n 'hours',\n 'वार्तालाप',\n 'टिकट',\n 'header',\n 'कचरे',\n 'project',\n 'सीडीआर',\n 'phpenable',\n 'use',\n 'प्राक्सी',\n 'बर्फ',\n 'बक्से',\n 'उपयुक्त',\n 'सक्रिय',\n 'निवेदित',\n 'आशा',\n 'प्रोटोकॉल',\n 'सेटिंग',\n 'सदर्भ',\n 'document',\n 'ग्लेड',\n 'userid',\n 'उनसे',\n 'xspf',\n 'cms',\n 'मेक्रो',\n 'स्थानांतरित',\n 'मुझसे',\n 'कैरेट',\n 'नामक',\n 'अलगानेवाला',\n 'हर',\n 'एंटलर',\n 'जटिलता',\n 'टैगः',\n 'दीजिए',\n 'ef',\n 'कमिटः',\n 'जोड़ने',\n 'रिबेस',\n 'अध्यारोहित',\n 'प्रतिनिधि',\n 'तेजी',\n 'व्रेप',\n 'परtableauslot',\n 'पहलू',\n 'व्यक्ति',\n 'मिश्रण',\n 'शैलीः',\n 'gdkcolor',\n 'gtk',\n 'संशोधन',\n 'txreceive',\n 'unable',\n 'सा',\n 'डिलीट',\n 'इसमें',\n 'xjohab',\n 'शुरूआत',\n 'बायीँ',\n 'जीटीके',\n 'परेशानी',\n 'टिप्पणी',\n 'स्टेटस',\n 'इंस्टेंट',\n 'उपशीर्षक',\n 'वितर्कः',\n 'अनुक्रमणिका',\n 'पट',\n 'timing',\n 'जाकर',\n 'isojp',\n 'कापी',\n 'नक़ल',\n 'सेरिफ़',\n 'एकवर्ण',\n 'पाया',\n 'अनियंत्रित',\n 'देर',\n 'आइसलैंडिक',\n 'अजीब',\n 'एक्सेसिबिलिटी',\n 'naba',\n 'स्पूलिंग',\n 'खोजा',\n 'समयseconds',\n 'unsafe',\n 'मैजिक',\n 'पुनर्प्राप्त',\n 'not',\n 'stdout',\n 'भरी',\n 'एकबार',\n 'license',\n 'अमेरिकानिपिगन',\n 'अनुलग्नक',\n 'साराटोगा',\n 'uसर्वर',\n 'so',\n 'चौका',\n 'पन्नों',\n 'चिपचिपा',\n 'अन्य',\n 'शक्तिशाली',\n 'रिकवर',\n 'स्वतःपूर्णpurge',\n 'indentincrease',\n 'विभेदनः',\n 'विभाग',\n 'ओफ्फ',\n 'स्वीकारता',\n 'gtksourceview',\n 'तंत्रः',\n 'sampleplugin',\n 'विकल्पb',\n 'ट्रांसपोर्टः',\n 'अग्यात',\n 'अमेरिकानोरोन्हा',\n 'कुंजीः',\n 'संयोजन',\n 'क्रास',\n 'संभालें',\n 'रिजोल्यूशन',\n 'अधिष्ठापन',\n 'आइ',\n 'वालों',\n 'लॉगिंग',\n 'अमेरिकाबगोटा',\n 'फ्लैग्सः',\n 'शिशुओं',\n 'मिलाने',\n 'अधिकतर',\n 'खण्डन',\n 'वितरणः',\n 'ja',\n 'निर्गत',\n 'बात',\n 'rsh',\n 'select',\n 'प्लगइनों',\n 'पायूँगा',\n 'अमेरिकामेसीओ',\n 'ब्रैसेरोडिस्क',\n 'सिमुलेट',\n 'driver',\n 'हिल',\n 'चलें',\n 'निरन्तर',\n 'uncompress',\n 'बिगाड़ा',\n 'पहचानकर्ता',\n 'पंहुचा',\n 'सेण्टबाक्स',\n 'लिएrecurrpage',\n 'कैशेड',\n 'कार्यान्वित',\n 'प्रतिध्वनि',\n 'नाम',\n 'कोट',\n 'अंशों',\n 'लक्ष्यउद्देश्यcategoryname',\n 'data',\n 'permission',\n 'samp',\n 'पठन',\n 'nick',\n 'सेंटर',\n 'इटालियन',\n 'download',\n 'वार्निंग',\n 'बाइट',\n 'सकती',\n 'moving',\n 'अक्षांशः',\n 'अमेरिकामेंडोजा',\n 'खोल',\n 'पँहुच',\n 'groupwise',\n 'पूरे',\n 'दिखाएँछुपाएँी',\n 'छुपाओ',\n 'अफ्रीकाकिंशासा',\n 'व्यूयर',\n 'पुनः',\n 'रंगपट्टिका',\n 'अक्टूबर',\n 'पूर्व',\n 'कोलैप्स',\n 'कुँजीपट',\n 'क्लिपिंग',\n 'डिबगर',\n 'डिबगरः',\n 'भूलभुलैया',\n 'संजीवन',\n 'वेबकैल',\n 'बैकेंड',\n 'रखेंस्थगित',\n 'शहरः',\n 'slocation',\n 'फुलस्क्रीन',\n 'दुग्गी',\n 'रिवीजन',\n 'गतिः',\n 'लिया',\n 'इनमें',\n 'कोडः',\n 'बजने',\n 'sendmail',\n 'settingsautoformat',\n 'प्रतिनिधित्व',\n 'पताcodec',\n 'cdrw',\n 'देंगे।',\n 'सूचनाओं',\n 'french',\n 'इसकी',\n 'बंधन',\n 'खाताः',\n 'downloads',\n 'पेजर',\n 'प्रोग्राम्स',\n 'खींचा',\n 'viscii',\n 'छाँटें',\n 'hyperbolic',\n 'doc',\n 'कोतेजी',\n 'घर',\n 'दृश्यमान',\n 'रहेगी',\n 'सिग्नलः',\n 'been',\n 'पाठactiongroupeditorinsert',\n 'ip',\n 'श्रीमान्',\n 'चिपकाएं',\n 'पहुँचा',\n 'पथः',\n 'लागू',\n 'अतरफलकः',\n 'संसाधन',\n 'नहींtype',\n 'पाश्व',\n 'मानचित्र',\n 'लेन',\n 'प्रकारों',\n 'इंजन',\n 'जमाएँ',\n 'उपकरण',\n 'टाइल',\n 'जायेगी',\n 'पश्च',\n 'जायें',\n 'पोस्टपोन',\n 'प्रिन्ट',\n 'कितना',\n 'आबंटन',\n 'घुमाया',\n 'अनचाहे',\n 'पैमानाactiongroupeditorinsert',\n 'बल्क',\n 'हटाना',\n 'संसाधक',\n 'सुरक्षाः',\n 'उपयोगकर्ता',\n 'डिफाल्ट',\n 'कमरा',\n 'लड़ी',\n 'उन्मुखीकरण',\n 'चाल',\n 'नुस्खे',\n 'entry',\n 'cdrom',\n 'लाॅगइन',\n 'नों',\n 'गहराईश्रृंखला',\n 'forwarding',\n 'उम्मीद',\n 'xvietvps',\n 'सूचनाltbgt',\n 'कुँजी',\n 'gdkdisplay',\n 'स्वीकारना',\n 'रैखिक',\n 'चल',\n 'सुनो',\n 'स्पेन',\n 'स्पैन',\n 'proof',\n 'दस्तावेज',\n 'बढ़ना',\n 'किस',\n 'ब्रिस्टल',\n 'सूर्य',\n 'सैलेट',\n 'filtering',\n 'बोलें',\n 'बाल्स',\n 'अपारिभाषित',\n 'resizable',\n 'access',\n 'औजार',\n 'हार्ड',\n 'शिशु',\n 'स्टाकslot',\n 'बहिर्गमन',\n 'सौदों',\n 'कन्सोल',\n 'आउटबॉक्स',\n 'तथा',\n 'tube',\n 'स्वैप',\n 'छोड़ेंगैर',\n 'छोडेगा',\n 'प्रदाय',\n 'एक्सवेस्टर्न',\n 'दोहराएं',\n 'मिश्रित',\n 'events',\n 'कैमरे',\n 'actions',\n 'प्यार',\n 'पैमाना',\n 'पूरा',\n 'glossy',\n 'परplay',\n 'बायां',\n 'पता',\n 'तरीकों',\n 'उपहार',\n 'path',\n 'मात्राएँ',\n 'जैबर',\n 'अंकः',\n 'दिखा',\n 'वर्णित',\n 'गयाbookmarks',\n 'निष्पादन',\n 'आपूर्ति',\n 'योग',\n 'प्रगतिशील',\n 'समान',\n 'त्रुटियों',\n 'am',\n 'ताला',\n 'बरतें',\n 'विक्रेता',\n 'gr',\n 'नहला',\n 'viewtodo',\n 'thus',\n 'ओके',\n 'कठोर',\n 'ऊपर',\n 'संख्या',\n 'एआईएम',\n 'खत्म',\n 'ट्रैड',\n 'rajesh',\n 'growisofs',\n 'गलियां',\n 'ई',\n 'डाक',\n 'होते',\n 'तल',\n 'घटाने',\n 'आयटम',\n 'संकेतों',\n 'xunicode',\n 'समय',\n 'निवेदन',\n 'जुड़ा',\n 'index',\n 'हटाया',\n 'classification',\n 'ओप्शन्स',\n 'खोजी',\n 'प्रतीकdisc',\n 'अनुकूलित',\n 'निवास',\n 'commit',\n 'निस्पादन',\n 'होम',\n 'लान्चर',\n 'png',\n 'से',\n 'डेलिवरी',\n 'स्क्रीन',\n 'संकुलः',\n 'sdl',\n 'पढ़ें',\n 'बनाता',\n 'आईकन',\n 'पुस्तक',\n 'प्रविष्टinsertinsert',\n 'हैdefault',\n 'सप्ताहrecurrpage',\n 'संचार',\n 'भंडारित',\n 'परियोजना',\n 'बांटा',\n 'older',\n 'शीर्षों',\n 'संरेखित',\n 'भरण',\n 'बहिवेर्षित',\n 'घरेलू',\n 'worst',\n 'मुझे',\n 'नामकरण',\n 'निष्पादित',\n 'मिटाना',\n 'स्थानicalimp',\n 'डॉयलपैड',\n 'क्वेरी',\n 'देखते',\n 'प्रोग्राम',\n 'दिमागी',\n 'विषय',\n 'फ़ोल्डर…',\n 'सामान्यीकृत',\n 'फाइ',\n 'uplink',\n 'जाया',\n 'संभावित',\n 'दस्ताबेज',\n 'राजा',\n 'शून्य',\n 'दल',\n 'क्लाइंट',\n 'merchantability',\n 'scroll',\n 'सांगठनिक',\n 'अमेरिकाक्यूराकाओ',\n 'हैडर',\n 'आयडेंटीटी',\n 'संहत',\n 'औऱ',\n 'स्क्रैचबाक्स',\n 'ताशः',\n 'टीयर',\n 'विसम्मेलन',\n 'सहनशीलता',\n 'प्रॉक्सी',\n 'फ्रैगमेंट',\n 'START_',\n 'संरेखण',\n 'visit',\n 'विंडोज़',\n 'टॉमी',\n 'वर्षगांठ',\n 'पीठ',\n 'रक्तबन्ध',\n 'माध्यम',\n 'noexistingsession',\n 'दाहिने',\n 'धीमा',\n 'हाट',\n 'खातेparent',\n 'हटाएँ',\n 'बुरा',\n 'डीटीएस',\n 'स्क्रीनकास्ट',\n 'स्तम्भ',\n 'यदि',\n 'क',\n 'सेकेण्ड',\n 'dock',\n 'प्रत्यक्ष',\n 'गुण',\n 'सप्लायर्स',\n 'अस्थाई',\n 'स्थान',\n 'रेजॉल्यूशन',\n 'आटोटूल',\n 'johab',\n 'हार्डवेयर',\n 'अपूर्ण',\n 'सफलता',\n 'फोल्ड',\n 'वाले',\n 'lineselection',\n 'धुरी',\n 'शासक',\n 'अधीन',\n 'निरसक',\n 'स्टार्टफास्ट',\n 'समीक्षक',\n 'तत्वों',\n 'पदव्याख्या',\n 'जीपीएस',\n 'कचरें',\n 'symbol',\n 'परिवर्धन',\n 'foo',\n 'विरोधीप्रस्ताव',\n 'mail',\n 'mbox',\n 'स्मार्ट',\n 'जीडीबी',\n 'घटक',\n 'अमेरिकालुइसविले',\n 'वितरित',\n 'व्रैप',\n 'licensed',\n 'उजलापन',\n 'month',\n 'कालम',\n 'हाइपरपाठ',\n 'लेखकतारीख़',\n 'अलिलेखन',\n 'hintfull',\n 'को',\n 'त्यागे',\n 'सैर',\n 'स्तरः',\n 'pqrs',\n 'टीसीपी',\n 'अपारदर्शी',\n 'खिसका',\n 'le',\n 'प्रतिभागी',\n 'विकल्पः',\n 'ms',\n 'अपंजीकृत',\n 'बढ़िया',\n 'कारणः',\n 'कालटिप्स',\n 'पच्चीसवां',\n 'कलम',\n 'अकेला',\n 'समस्या',\n 'अनजान',\n 'परिप्रेक्ष्य',\n 'होएं',\n 'सापेक्ष',\n 'esq',\n 'हंगेरियन',\n 'हापस्काच',\n 'makefiles',\n 'po',\n 'tx',\n 'तारीख़',\n 'सहेजेंfrench',\n 'ch',\n 'pythonhttp',\n 'xvideo',\n 'hulk',\n 'gps',\n 'डॉक',\n 'संपादित',\n 'author',\n 'विफल',\n 'menu',\n 'बढ़कर',\n 'दोस्तों',\n 'मौजूद',\n 'फिक्स',\n 'मेनूबार',\n 'विंजो',\n 'शॉर्टकट',\n 'पुनरावर्ती',\n 'खेलने',\n 'वहाँ',\n 'पदावनत',\n 'फेटल',\n 'पुनरीक्षण',\n 'हलः',\n 'process',\n 'जाँचा',\n 'वर्षगाँठ',\n 'बुलाएँ',\n 'वहां',\n 'बना',\n 'पढ़कर',\n 'कराने',\n 'सर्किल',\n 'अमेरिकाला',\n 'title',\n 'पिक्सबफ',\n 'संघठित',\n 'मूक',\n 'फिलहाल',\n 'eogplugin',\n 'काwें',\n 'भंडारः',\n 'भेजी',\n 'सेटअप',\n 'cvs',\n 'बाह्य',\n 'इसके',\n 'घातकः',\n 'ढूंढा',\n 'आरंभिक',\n 'चाहें',\n 'हुए',\n 'लिखते',\n 'smtp',\n 'ये',\n 'rajeshkajha',\n 'लिखने',\n 'चुनाब',\n 'समूहीकृत',\n 'एचटीटीपी',\n 'ठीक',\n 'xmacturkish',\n 'थे',\n 'प्रारंभिक',\n 'तिथिः',\n 'प्रतिबिंबित',\n 'संस्थापितः',\n 'सैलेबिक',\n 'खाली',\n 'एलीवेटर',\n 'rfc',\n 'बहिर्वेषित',\n 'परjabber',\n 'जोड़ी',\n 'ट्रैक्स',\n 'मेट्रिसेस',\n 'शृंखला',\n 'पीआईडी',\n 'सरह',\n 'जानते',\n 'डीवीडीआरडबल्यू',\n 'card',\n 'अमेरिकाइनुविक',\n 'एमयू',\n 'सहेज',\n 'रात्रि',\n 'ने',\n 'लकीर',\n 'रोका',\n 'फ़ाइलः',\n 'आवर्धन',\n 'लक्ष्यउद्देश्य',\n 'वेलग्रिंड',\n 'debug',\n 'शैल',\n 'रीलोड',\n 'अध्यक्ष',\n 'organizer',\n ...}"
     },
     "metadata": {}
    }
   ]
  },
  {
   "cell_type": "markdown",
   "source": "### Adding features to data",
   "metadata": {}
  },
  {
   "cell_type": "code",
   "source": "df['length_eng'] = df['english'].apply(lambda x:len(x.split(\" \")))\ndf['length_hin'] = df['hindi'].apply(lambda x:len(x.split(\" \")))",
   "metadata": {
    "execution": {
     "iopub.status.busy": "2023-04-28T11:12:36.557254Z",
     "iopub.execute_input": "2023-04-28T11:12:36.557780Z",
     "iopub.status.idle": "2023-04-28T11:12:36.680814Z",
     "shell.execute_reply.started": "2023-04-28T11:12:36.557742Z",
     "shell.execute_reply": "2023-04-28T11:12:36.680093Z"
    },
    "trusted": true
   },
   "execution_count": 54,
   "outputs": []
  },
  {
   "cell_type": "code",
   "source": "df.head()",
   "metadata": {
    "execution": {
     "iopub.status.busy": "2023-04-28T11:12:36.682275Z",
     "iopub.execute_input": "2023-04-28T11:12:36.682570Z",
     "iopub.status.idle": "2023-04-28T11:12:36.693949Z",
     "shell.execute_reply.started": "2023-04-28T11:12:36.682520Z",
     "shell.execute_reply": "2023-04-28T11:12:36.693218Z"
    },
    "trusted": true
   },
   "execution_count": 55,
   "outputs": [
    {
     "execution_count": 55,
     "output_type": "execute_result",
     "data": {
      "text/plain": "                                               hindi  \\\n0  START_ अपने अनुप्रयोग को पहुंचनीयता व्यायाम का...   \n1        START_ एक्सेर्साइसर पहुंचनीयता अन्वेषक _END   \n2   START_ निचले पटल के लिए डिफोल्ट प्लगइन खाका _END   \n3    START_ ऊपरी पटल के लिए डिफोल्ट प्लगइन खाका _END   \n4  START_ उन प्लगइनों की सूची जिन्हें डिफोल्ट रूप...   \n\n                                  english  length_eng  length_hin  \n0  give application accessibility workout           4          10  \n1       accerciser accessibility explorer           3           5  \n2      default plugin layout bottom panel           5           9  \n3         default plugin layout top panel           5           9  \n4           list plugins disabled default           4          14  ",
      "text/html": "<div>\n<style scoped>\n    .dataframe tbody tr th:only-of-type {\n        vertical-align: middle;\n    }\n\n    .dataframe tbody tr th {\n        vertical-align: top;\n    }\n\n    .dataframe thead th {\n        text-align: right;\n    }\n</style>\n<table border=\"1\" class=\"dataframe\">\n  <thead>\n    <tr style=\"text-align: right;\">\n      <th></th>\n      <th>hindi</th>\n      <th>english</th>\n      <th>length_eng</th>\n      <th>length_hin</th>\n    </tr>\n  </thead>\n  <tbody>\n    <tr>\n      <th>0</th>\n      <td>START_ अपने अनुप्रयोग को पहुंचनीयता व्यायाम का...</td>\n      <td>give application accessibility workout</td>\n      <td>4</td>\n      <td>10</td>\n    </tr>\n    <tr>\n      <th>1</th>\n      <td>START_ एक्सेर्साइसर पहुंचनीयता अन्वेषक _END</td>\n      <td>accerciser accessibility explorer</td>\n      <td>3</td>\n      <td>5</td>\n    </tr>\n    <tr>\n      <th>2</th>\n      <td>START_ निचले पटल के लिए डिफोल्ट प्लगइन खाका _END</td>\n      <td>default plugin layout bottom panel</td>\n      <td>5</td>\n      <td>9</td>\n    </tr>\n    <tr>\n      <th>3</th>\n      <td>START_ ऊपरी पटल के लिए डिफोल्ट प्लगइन खाका _END</td>\n      <td>default plugin layout top panel</td>\n      <td>5</td>\n      <td>9</td>\n    </tr>\n    <tr>\n      <th>4</th>\n      <td>START_ उन प्लगइनों की सूची जिन्हें डिफोल्ट रूप...</td>\n      <td>list plugins disabled default</td>\n      <td>4</td>\n      <td>14</td>\n    </tr>\n  </tbody>\n</table>\n</div>"
     },
     "metadata": {}
    }
   ]
  },
  {
   "cell_type": "code",
   "source": "df = df[df['length_eng']<=20]\ndf = df[df['length_hin']<=20]",
   "metadata": {
    "execution": {
     "iopub.status.busy": "2023-04-28T11:12:36.695058Z",
     "iopub.execute_input": "2023-04-28T11:12:36.695558Z",
     "iopub.status.idle": "2023-04-28T11:12:36.711259Z",
     "shell.execute_reply.started": "2023-04-28T11:12:36.695506Z",
     "shell.execute_reply": "2023-04-28T11:12:36.710498Z"
    },
    "trusted": true
   },
   "execution_count": 56,
   "outputs": []
  },
  {
   "cell_type": "code",
   "source": "max_length_src=max(df['length_hin'])\nmax_length_tar=max(df['length_eng'])\ninput_words = sorted(list(all_eng_words))\ntarget_words = sorted(list(all_hin_words))\nnum_encoder_tokens = len(all_eng_words)\nnum_decoder_tokens = len(all_hin_words)",
   "metadata": {
    "execution": {
     "iopub.status.busy": "2023-04-28T11:12:36.714151Z",
     "iopub.execute_input": "2023-04-28T11:12:36.714359Z",
     "iopub.status.idle": "2023-04-28T11:12:36.737879Z",
     "shell.execute_reply.started": "2023-04-28T11:12:36.714335Z",
     "shell.execute_reply": "2023-04-28T11:12:36.737231Z"
    },
    "trusted": true
   },
   "execution_count": 57,
   "outputs": []
  },
  {
   "cell_type": "code",
   "source": "num_decoder_tokens",
   "metadata": {
    "execution": {
     "iopub.status.busy": "2023-04-28T11:12:36.739331Z",
     "iopub.execute_input": "2023-04-28T11:12:36.739632Z",
     "iopub.status.idle": "2023-04-28T11:12:36.745889Z",
     "shell.execute_reply.started": "2023-04-28T11:12:36.739597Z",
     "shell.execute_reply": "2023-04-28T11:12:36.744982Z"
    },
    "trusted": true
   },
   "execution_count": 58,
   "outputs": [
    {
     "execution_count": 58,
     "output_type": "execute_result",
     "data": {
      "text/plain": "6999"
     },
     "metadata": {}
    }
   ]
  },
  {
   "cell_type": "code",
   "source": "num_decoder_tokens += 1\ninput_token_index = dict([(word, i+1) for i, word in enumerate(input_words)])\ntarget_token_index = dict([(word, i+1) for i, word in enumerate(target_words)])",
   "metadata": {
    "execution": {
     "iopub.status.busy": "2023-04-28T11:12:36.747517Z",
     "iopub.execute_input": "2023-04-28T11:12:36.747897Z",
     "iopub.status.idle": "2023-04-28T11:12:36.762306Z",
     "shell.execute_reply.started": "2023-04-28T11:12:36.747819Z",
     "shell.execute_reply": "2023-04-28T11:12:36.761519Z"
    },
    "trusted": true
   },
   "execution_count": 59,
   "outputs": []
  },
  {
   "cell_type": "markdown",
   "source": "",
   "metadata": {}
  },
  {
   "cell_type": "code",
   "source": "input_token_index",
   "metadata": {
    "execution": {
     "iopub.status.busy": "2023-04-28T11:12:37.298977Z",
     "iopub.execute_input": "2023-04-28T11:12:37.299246Z",
     "iopub.status.idle": "2023-04-28T11:12:37.329889Z",
     "shell.execute_reply.started": "2023-04-28T11:12:37.299216Z",
     "shell.execute_reply": "2023-04-28T11:12:37.329050Z"
    },
    "trusted": true
   },
   "execution_count": 60,
   "outputs": [
    {
     "execution_count": 60,
     "output_type": "execute_result",
     "data": {
      "text/plain": "{'a': 1,\n 'aaiun': 2,\n 'ababa': 3,\n 'abc': 4,\n 'abcdefghijk': 5,\n 'abidjan': 6,\n 'ability': 7,\n 'able': 8,\n 'abnormal': 9,\n 'abort': 10,\n 'aborted': 11,\n 'aborting': 12,\n 'about': 13,\n 'about…': 14,\n 'above': 15,\n 'absolute': 16,\n 'ac': 17,\n 'accelerated': 18,\n 'acceleration': 19,\n 'accelerator': 20,\n 'accelerator…': 21,\n 'accentuated': 22,\n 'accept': 23,\n 'acceptable': 24,\n 'accepted': 25,\n 'accerciser': 26,\n 'access': 27,\n 'accessed': 28,\n 'accessibility': 29,\n 'accessible': 30,\n 'accessibles': 31,\n 'accessing': 32,\n 'according': 33,\n 'accordion': 34,\n 'account': 35,\n 'accountapos': 36,\n 'accounts': 37,\n 'accra': 38,\n 'accuracy': 39,\n 'accurate': 40,\n 'ace': 41,\n 'aces': 42,\n 'across': 43,\n 'act': 44,\n 'acti': 45,\n 'action': 46,\n 'actionable': 47,\n 'actions': 48,\n 'activatable': 49,\n 'activate': 50,\n 'activated': 51,\n 'activation': 52,\n 'active': 53,\n 'actor': 54,\n 'actors': 55,\n 'actual': 56,\n 'actually': 57,\n 'adak': 58,\n 'adapt': 59,\n 'adaptation': 60,\n 'adaptive': 61,\n 'adapts': 62,\n 'adblock': 63,\n 'add': 64,\n 'added': 65,\n 'adding': 66,\n 'addis': 67,\n 'addition': 68,\n 'additional': 69,\n 'additions': 70,\n 'addrcheck': 71,\n 'address': 72,\n 'addressbook': 73,\n 'addresses': 74,\n 'adds': 75,\n 'add…': 76,\n 'adium': 77,\n 'adjust': 78,\n 'adjusted': 79,\n 'adjusts': 80,\n 'admin': 81,\n 'administrator': 82,\n 'advance': 83,\n 'advanced': 84,\n 'advertisements': 85,\n 'advertisers': 86,\n 'advised': 87,\n 'affect': 88,\n 'affects': 89,\n 'africa': 90,\n 'after': 91,\n 'again': 92,\n 'age': 93,\n 'agent': 94,\n 'agnes': 95,\n 'agree': 96,\n 'agreement': 97,\n 'aim': 98,\n 'aires': 99,\n 'aisleriot': 100,\n 'akid': 101,\n 'al': 102,\n 'alarm': 103,\n 'albert': 104,\n 'alert': 105,\n 'algiers': 106,\n 'algorithm': 107,\n 'alias': 108,\n 'alidate': 109,\n 'align': 110,\n 'alignment': 111,\n 'alive': 112,\n 'all': 113,\n 'alleys': 114,\n 'allocate': 115,\n 'allocated': 116,\n 'allocating': 117,\n 'allocation': 118,\n 'allow': 119,\n 'allowed': 120,\n 'allowing': 121,\n 'allows': 122,\n 'alone': 123,\n 'along': 124,\n 'alpha': 125,\n 'alphabet': 126,\n 'alphabetic': 127,\n 'alphabetical': 128,\n 'alphanumeric': 129,\n 'alphanumerics': 130,\n 'already': 131,\n 'also': 132,\n 'alt': 133,\n 'altered': 134,\n 'alternating': 135,\n 'alternative': 136,\n 'although': 137,\n 'altitude': 138,\n 'always': 139,\n 'ambiguous': 140,\n 'america': 141,\n 'american': 142,\n 'among': 143,\n 'amount': 144,\n 'amp': 145,\n 'analysed': 146,\n 'analyser': 147,\n 'analysing': 148,\n 'analyze': 149,\n 'analyzed': 150,\n 'analyzer': 151,\n 'ancestry': 152,\n 'anchor': 153,\n 'anchorage': 154,\n 'anchors': 155,\n 'and': 156,\n 'angeles': 157,\n 'angle': 158,\n 'anguage': 159,\n 'anguilla': 160,\n 'animatable': 161,\n 'animate': 162,\n 'animated': 163,\n 'animation': 164,\n 'animations': 165,\n 'anjuta': 166,\n 'anniversaries': 167,\n 'anniversary': 168,\n 'annotate': 169,\n 'annotation': 170,\n 'annotations': 171,\n 'anonymous': 172,\n 'anonymously': 173,\n 'another': 174,\n 'answer': 175,\n 'answered': 176,\n 'antialias': 177,\n 'antialiasing': 178,\n 'antigua': 179,\n 'antler': 180,\n 'any': 181,\n 'anymore': 182,\n 'anyone': 183,\n 'anything': 184,\n 'anytime': 185,\n 'anyway': 186,\n 'anywhere': 187,\n 'ap': 188,\n 'aperture': 189,\n 'api': 190,\n 'apop': 191,\n 'app': 192,\n 'appear': 193,\n 'appearance': 194,\n 'appears': 195,\n 'append': 196,\n 'appending': 197,\n 'applet': 198,\n 'application': 199,\n 'applications': 200,\n 'application…': 201,\n 'applied': 202,\n 'applies': 203,\n 'apply': 204,\n 'applying': 205,\n 'appname': 206,\n 'appointment': 207,\n 'appointments': 208,\n 'appropriate': 209,\n 'apps': 210,\n 'april': 211,\n 'ar': 212,\n 'arabic': 213,\n 'aracter': 214,\n 'araguaina': 215,\n 'arb': 216,\n 'arbfp': 217,\n 'arbitrary': 218,\n 'archive': 219,\n 'archived': 220,\n 'archives': 221,\n 'archiving': 222,\n 'are': 223,\n 'area': 224,\n 'areas': 225,\n 'args': 226,\n 'argument': 227,\n 'arguments': 228,\n 'armenian': 229,\n 'armscii': 230,\n 'around': 231,\n 'array': 232,\n 'arrives': 233,\n 'arrow': 234,\n 'arrows': 235,\n 'art': 236,\n 'artist': 237,\n 'artwork': 238,\n 'aruba': 239,\n 'as': 240,\n 'ascii': 241,\n 'ase': 242,\n 'asian': 243,\n 'ask': 244,\n 'asked': 245,\n 'asking': 246,\n 'asks': 247,\n 'asmera': 248,\n 'aspect': 249,\n 'assign': 250,\n 'assigned': 251,\n 'assistance': 252,\n 'assistant': 253,\n 'assistive': 254,\n 'assoc': 255,\n 'associate': 256,\n 'associated': 257,\n 'association': 258,\n 'associations': 259,\n 'assume': 260,\n 'assword': 261,\n 'asterisk': 262,\n 'asuncion': 263,\n 'asurl': 264,\n 'asynchronously': 265,\n 'as…': 266,\n 'at': 267,\n 'ata': 268,\n 'athena': 269,\n 'atk': 270,\n 'atkhyperlink': 271,\n 'atkhypertext': 272,\n 'atlas': 273,\n 'atlasing': 274,\n 'atomix': 275,\n 'atoms': 276,\n 'attach': 277,\n 'attached': 278,\n 'attachfile': 279,\n 'attaching': 280,\n 'attachment': 281,\n 'attachments': 282,\n 'attack': 283,\n 'atte': 284,\n 'attempt': 285,\n 'attempted': 286,\n 'attempting': 287,\n 'attempts': 288,\n 'attendee': 289,\n 'attendees': 290,\n 'attribute': 291,\n 'attributes': 292,\n 'atus': 293,\n 'atusbar': 294,\n 'au': 295,\n 'audi': 296,\n 'audience': 297,\n 'audio': 298,\n 'august': 299,\n 'auld': 300,\n 'aunt': 301,\n 'auth': 302,\n 'authentic': 303,\n 'authenticate': 304,\n 'authenticated': 305,\n 'authenticating': 306,\n 'authentication': 307,\n 'authentification': 308,\n 'author': 309,\n 'authorisation': 310,\n 'authorise': 311,\n 'authority': 312,\n 'authorization': 313,\n 'authors': 314,\n 'auto': 315,\n 'autocomplete': 316,\n 'autocompletion': 317,\n 'autoconf': 318,\n 'autodetect': 319,\n 'autodetected': 320,\n 'autodetector': 321,\n 'autodetectors': 322,\n 'autodiscover': 323,\n 'autoformat': 324,\n 'autogen': 325,\n 'autogenerate': 326,\n 'automake': 327,\n 'automatic': 328,\n 'automatically': 329,\n 'automation': 330,\n 'autopick': 331,\n 'autoplay': 332,\n 'autosave': 333,\n 'autotools': 334,\n 'autowrap': 335,\n 'available': 336,\n 'avatar': 337,\n 'avatars': 338,\n 'ave': 339,\n 'average': 340,\n 'avoid': 341,\n 'away': 342,\n 'axes': 343,\n 'axis': 344,\n 'b': 345,\n 'bac': 346,\n 'back': 347,\n 'backbone': 348,\n 'backend': 349,\n 'backends': 350,\n 'background': 351,\n 'backoff': 352,\n 'backrub': 353,\n 'backup': 354,\n 'backward': 355,\n 'bad': 356,\n 'badger': 357,\n 'bakers': 358,\n 'balance': 359,\n 'balances': 360,\n 'balsa': 361,\n 'baltic': 362,\n 'bamako': 363,\n 'bandwidth': 364,\n 'bangui': 365,\n 'banjul': 366,\n 'banned': 367,\n 'baobab': 368,\n 'bar': 369,\n 'barbados': 370,\n 'bars…': 371,\n 'base': 372,\n 'based': 373,\n 'baseline': 374,\n 'bases': 375,\n 'basic': 376,\n 'batched': 377,\n 'batching': 378,\n 'bay': 379,\n 'bcc': 380,\n 'bd': 381,\n 'bds': 382,\n 'be': 383,\n 'beagle': 384,\n 'bear': 385,\n 'bearing': 386,\n 'beautiful': 387,\n 'become': 388,\n 'becomes': 389,\n 'begin': 390,\n 'begining': 391,\n 'beginning': 392,\n 'begins': 393,\n 'behave': 394,\n 'behavior': 395,\n 'behaviour': 396,\n 'behavioural': 397,\n 'behind': 398,\n 'beleaguered': 399,\n 'belem': 400,\n 'belize': 401,\n 'belong': 402,\n 'belongs': 403,\n 'below': 404,\n 'bengali': 405,\n 'berkeley': 406,\n 'beside': 407,\n 'besides': 408,\n 'best': 409,\n 'better': 410,\n 'beyond': 411,\n 'bgr': 412,\n 'big': 413,\n 'bigger': 414,\n 'bilinear': 415,\n 'bin': 416,\n 'binary': 417,\n 'bind': 418,\n 'binding': 419,\n 'bindings': 420,\n 'binds': 421,\n 'bing': 422,\n 'birth': 423,\n 'birthday': 424,\n 'birthdays': 425,\n 'bisect': 426,\n 'bison': 427,\n 'bissau': 428,\n 'bitrate': 429,\n 'bits': 430,\n 'black': 431,\n 'blacklist': 432,\n 'blame': 433,\n 'blanc': 434,\n 'blank': 435,\n 'blanked': 436,\n 'blanking': 437,\n 'blanks': 438,\n 'blank…': 439,\n 'blantyre': 440,\n 'blend': 441,\n 'blending': 442,\n 'blic': 443,\n 'block': 444,\n 'blocked': 445,\n 'blocking': 446,\n 'blog': 447,\n 'blondes': 448,\n 'blow': 449,\n 'blu': 450,\n 'blue': 451,\n 'blurb': 452,\n 'blurry': 453,\n 'bo': 454,\n 'boa': 455,\n 'board': 456,\n 'body': 457,\n 'bogota': 458,\n 'boise': 459,\n 'bold': 460,\n 'bonobo': 461,\n 'boo': 462,\n 'book': 463,\n 'bookmar': 464,\n 'bookmark': 465,\n 'bookmarked': 466,\n 'bookmarks': 467,\n 'bookmarks…': 468,\n 'bookmark…': 469,\n 'books': 470,\n 'bool': 471,\n 'boolean': 472,\n 'booth': 473,\n 'border': 474,\n 'boston': 475,\n 'both': 476,\n 'bottom': 477,\n 'bound': 478,\n 'bounding': 479,\n 'box': 480,\n 'boxes': 481,\n 'brace': 482,\n 'braces': 483,\n 'brackets': 484,\n 'branch': 485,\n 'branches': 486,\n 'brasero': 487,\n 'brazilian': 488,\n 'brazzaville': 489,\n 'break': 490,\n 'breakfast': 491,\n 'breaking': 492,\n 'breakpoint': 493,\n 'breakpoints': 494,\n 'breakpoint…': 495,\n 'bridge': 496,\n 'brief': 497,\n 'brightness': 498,\n 'bring': 499,\n 'bristol': 500,\n 'broken': 501,\n 'browse': 502,\n 'browsed': 503,\n 'browser': 504,\n 'browse…': 505,\n 'browsing': 506,\n 'brunettes': 507,\n 'bs': 508,\n 'bsd': 509,\n 'bubble': 510,\n 'buddy': 511,\n 'buenos': 512,\n 'buffer': 513,\n 'buffers': 514,\n 'bug': 515,\n 'bugmaster': 516,\n 'bugreport': 517,\n 'bugs': 518,\n 'bugzilla': 519,\n 'build': 520,\n 'builder': 521,\n 'building': 522,\n 'built': 523,\n 'bujumbura': 524,\n 'bulk': 525,\n 'burn': 526,\n 'burned': 527,\n 'burner': 528,\n 'burning': 529,\n 'burns': 530,\n 'burnt': 531,\n 'burn…': 532,\n 'burst': 533,\n 'bus': 534,\n 'business': 535,\n 'busy': 536,\n 'button': 537,\n 'buttons': 538,\n 'buy': 539,\n 'by': 540,\n 'byte': 541,\n 'bytes': 542,\n 'c': 543,\n 'ca': 544,\n 'cable': 545,\n 'cache': 546,\n 'cached': 547,\n 'cachegrind': 548,\n 'caches': 549,\n 'cairo': 550,\n 'calculate': 551,\n 'calculating': 552,\n 'caldav': 553,\n 'calendar': 554,\n 'calendars': 555,\n 'calibration': 556,\n 'call': 557,\n 'callback': 558,\n 'called': 559,\n 'calling': 560,\n 'calls': 561,\n 'calltip': 562,\n 'calltips': 563,\n 'call…': 564,\n 'cambridge': 565,\n 'camel': 566,\n 'camelhttpstream': 567,\n 'camelot': 568,\n 'camelstreamfilter': 569,\n 'camera': 570,\n 'cameras': 571,\n 'can': 572,\n 'canadian': 573,\n 'cancel': 574,\n 'cancelation': 575,\n 'canceled': 576,\n 'cancellable': 577,\n 'cancellation': 578,\n 'cancelled': 579,\n 'cancun': 580,\n 'candidate': 581,\n 'canfield': 582,\n 'cannot': 583,\n 'canonical': 584,\n 'canonically': 585,\n 'cant': 586,\n 'canvas': 587,\n 'can’t': 588,\n 'capabilities': 589,\n 'capability': 590,\n 'capable': 591,\n 'capacity': 592,\n 'caps': 593,\n 'caption': 594,\n 'capture': 595,\n 'captured': 596,\n 'capulet': 597,\n 'car': 598,\n 'caracas': 599,\n 'card': 600,\n 'cards': 601,\n 'caret': 602,\n 'caribou': 603,\n 'carlo': 604,\n 'carpet': 605,\n 'carry': 606,\n 'casablanca': 607,\n 'case': 608,\n 'cast': 609,\n 'castle': 610,\n 'cat': 611,\n 'catalan': 612,\n 'catamarca': 613,\n 'cate': 614,\n 'categories': 615,\n 'categorized': 616,\n 'category': 617,\n 'cause': 618,\n 'caused': 619,\n 'causes': 620,\n 'caution': 621,\n 'cayenne': 622,\n 'cayman': 623,\n 'cc': 624,\n 'ccc': 625,\n 'cd': 626,\n 'cdrdao': 627,\n 'cdrecord': 628,\n 'cdrkit': 629,\n 'cdrom': 630,\n 'cdrtools': 631,\n 'cds': 632,\n 'ce': 633,\n 'celation': 634,\n 'cell': 635,\n 'cellphone': 636,\n 'cellular': 637,\n 'celtic': 638,\n 'center': 639,\n 'centered': 640,\n 'central': 641,\n 'centre': 642,\n 'certain': 643,\n 'certificate': 644,\n 'certificates': 645,\n 'certificate…': 646,\n 'certification': 647,\n 'ceuta': 648,\n 'ch': 649,\n 'chain': 650,\n 'chair': 651,\n 'challenge': 652,\n 'chan': 653,\n 'change': 654,\n 'changed': 655,\n 'changelog': 656,\n 'changes': 657,\n 'channel': 658,\n 'channels': 659,\n 'char': 660,\n 'character': 661,\n 'characters': 662,\n 'charset': 663,\n 'chart': 664,\n 'chat': 665,\n 'chatroom': 666,\n 'chats': 667,\n 'check': 668,\n 'checked': 669,\n 'checker': 670,\n 'checking': 671,\n 'checks': 672,\n 'checksum': 673,\n 'checksuming': 674,\n 'checksumming': 675,\n 'cheese': 676,\n 'cherry': 677,\n 'chessboard': 678,\n 'chicago': 679,\n 'chihuahua': 680,\n 'child': 681,\n 'children': 682,\n 'childs': 683,\n 'chinese': 684,\n 'choice': 685,\n 'choices': 686,\n 'choose': 687,\n 'choosen': 688,\n 'chooser': 689,\n 'choosing': 690,\n 'chose': 691,\n 'chosen': 692,\n 'chrome': 693,\n 'cid': 694,\n 'cif': 695,\n 'cipher': 696,\n 'circle': 697,\n 'circular': 698,\n 'city': 699,\n 'cjk': 700,\n 'cl': 701,\n 'claim': 702,\n 'clang': 703,\n 'claration': 704,\n 'class': 705,\n 'classes': 706,\n 'classic': 707,\n 'classification': 708,\n 'classify': 709,\n 'classt': 710,\n 'clean': 711,\n 'cleaning': 712,\n 'cleanup': 713,\n 'clear': 714,\n 'cleared': 715,\n 'clearer': 716,\n 'clearing': 717,\n 'click': 718,\n 'clickable': 719,\n 'clicked': 720,\n 'clicking': 721,\n 'clicks': 722,\n 'client': 723,\n 'clients': 724,\n 'climb': 725,\n 'clip': 726,\n 'clipboard': 727,\n 'clipping': 728,\n 'clock': 729,\n 'clockwise': 730,\n 'cloned': 731,\n 'clos': 732,\n 'close': 733,\n 'closed': 734,\n 'closing': 735,\n 'cloudy': 736,\n 'clubs': 737,\n 'clutter': 738,\n 'clutterbackend': 739,\n 'cluttergravity': 740,\n 'clutterpath': 741,\n 'cmd': 742,\n 'cms': 743,\n 'cn': 744,\n 'co': 745,\n 'coated': 746,\n 'code': 747,\n 'codec': 748,\n 'codecs': 749,\n 'codes': 750,\n 'codeset': 751,\n 'coffee': 752,\n 'cogl': 753,\n 'coglblendstring': 754,\n 'coglobject': 755,\n 'coglobjects': 756,\n 'cogltexturepixmap': 757,\n 'coglwinsys': 758,\n 'col': 759,\n 'collapse': 760,\n 'colleagues': 761,\n 'collect': 762,\n 'collected': 763,\n 'collecting': 764,\n 'collection': 765,\n 'collides': 766,\n 'color': 767,\n 'colorize': 768,\n 'colors': 769,\n 'colour': 770,\n 'column': 771,\n 'columns': 772,\n 'com': 773,\n 'combination': 774,\n 'combine': 775,\n 'combined': 776,\n 'combo': 777,\n 'come': 778,\n 'comes': 779,\n 'comic': 780,\n 'coming': 781,\n 'comma': 782,\n 'command': 783,\n 'commands': 784,\n 'command…': 785,\n 'comment': 786,\n 'commenting': 787,\n 'comments': 788,\n 'commit': 789,\n 'committed': 790,\n 'committing': 791,\n 'commit…': 792,\n 'common': 793,\n 'communication': 794,\n 'comp': 795,\n 'compact': 796,\n 'company': 797,\n 'compass': 798,\n 'compatibility': 799,\n 'compatible': 800,\n 'competition': 801,\n 'compilation': 802,\n 'compile': 803,\n 'compiled': 804,\n 'compiler': 805,\n 'complete': 806,\n 'completed': 807,\n 'completely': 808,\n 'completion': 809,\n 'complexity': 810,\n 'complie': 811,\n 'component': 812,\n 'components': 813,\n 'compose': 814,\n 'composed': 815,\n 'composer': 816,\n 'composing': 817,\n 'composite': 818,\n 'composition': 819,\n 'compressing': 820,\n 'compression': 821,\n 'compute': 822,\n 'computed': 823,\n 'computer': 824,\n 'computers': 825,\n 'con': 826,\n 'conakry': 827,\n 'concerned': 828,\n 'concerns': 829,\n 'concludes': 830,\n 'concurrent': 831,\n 'condition': 832,\n 'conditions': 833,\n 'conference': 834,\n 'conferencing': 835,\n 'confidential': 836,\n 'config': 837,\n 'configuration': 838,\n 'configurator': 839,\n 'configure': 840,\n 'configured': 841,\n 'confim': 842,\n 'confirm': 843,\n 'confirmation': 844,\n 'conflict': 845,\n 'conflicted': 846,\n 'conflicting': 847,\n 'conflicts': 848,\n 'conflicts…': 849,\n 'congested': 850,\n 'congratulations': 851,\n 'conjunction': 852,\n 'connect': 853,\n 'connected': 854,\n 'connecting': 855,\n 'connecting…': 856,\n 'connection': 857,\n 'connections': 858,\n 'connectivity': 859,\n 'consecutive': 860,\n 'consider': 861,\n 'considered': 862,\n 'consistency': 863,\n 'consistent': 864,\n 'console': 865,\n 'constants': 866,\n 'constrain': 867,\n 'constrains': 868,\n 'constraint': 869,\n 'constraints': 870,\n 'construct': 871,\n 'construction': 872,\n 'consult': 873,\n 'contact': 874,\n 'contacted': 875,\n 'contacting': 876,\n 'contacts': 877,\n 'contacts…': 878,\n 'contact…': 879,\n 'contain': 880,\n 'contained': 881,\n 'container': 882,\n 'containing': 883,\n 'contains': 884,\n 'content': 885,\n 'contents': 886,\n 'contents…': 887,\n 'context': 888,\n 'contexts': 889,\n 'continent': 890,\n 'continuation': 891,\n 'continue': 892,\n 'continued': 893,\n 'continuous': 894,\n 'contrast': 895,\n 'contributor': 896,\n 'contributors': 897,\n 'control': 898,\n 'controlling': 899,\n 'controls': 900,\n 'convenient': 901,\n 'conversation': 902,\n 'conversations': 903,\n 'conversation…': 904,\n 'convert': 905,\n 'converting': 906,\n 'converts': 907,\n 'cookie': 908,\n 'cookies': 909,\n 'coordinate': 910,\n 'coordinates': 911,\n 'cop': 912,\n 'copied': 913,\n 'copier': 914,\n 'copies': 915,\n 'copy': 916,\n 'copying': 917,\n 'copyright': 918,\n 'copy…': 919,\n 'corba': 920,\n 'cordoba': 921,\n 'core': 922,\n 'corner': 923,\n 'corporation': 924,\n 'correct': 925,\n 'correctly': 926,\n 'correspond': 927,\n 'correspondence': 928,\n 'corresponding': 929,\n 'corresponds': 930,\n 'corrupt': 931,\n 'corrupted': 932,\n 'costa': 933,\n 'could': 934,\n 'count': 935,\n 'countdown': 936,\n 'counter': 937,\n 'counterc': 938,\n 'counting': 939,\n 'country': 940,\n 'course': 941,\n 'cover': 942,\n 'covering': 943,\n 'covers': 944,\n 'coworkers': 945,\n 'cpp': 946,\n 'cpu': 947,\n 'cr': 948,\n 'cram': 949,\n 'crash': 950,\n 'crashed': 951,\n 'crashes': 952,\n 'crash…': 953,\n 'crazy': 954,\n 'crea': 955,\n 'create': 956,\n 'created': 957,\n 'creates': 958,\n 'creating': 959,\n 'creation': 960,\n 'creator': 961,\n 'creators': 962,\n 'credential': 963,\n 'credentials': 964,\n 'credit': 965,\n 'credits': 966,\n 'creek': 967,\n 'criterion': 968,\n 'criterium': 969,\n 'critical': 970,\n 'crl': 971,\n 'crlf': 972,\n 'croatian': 973,\n 'cross': 974,\n 'crosshairs': 975,\n 'crosswalk': 976,\n 'cruel': 977,\n 'cryptographic': 978,\n 'cryptographically': 979,\n 'cryptography': 980,\n 'csharp': 981,\n 'css': 982,\n 'csv': 983,\n 'ctivate': 984,\n 'ctrl': 985,\n 'cu': 986,\n 'cue': 987,\n 'cueing': 988,\n 'cuiaba': 989,\n 'curacao': 990,\n 'current': 991,\n 'currently': 992,\n 'cursor': 993,\n 'custom': 994,\n 'customer': 995,\n 'customize': 996,\n 'cut': 997,\n 'cvs': 998,\n 'cvsrc': 999,\n 'cvsroot': 1000,\n ...}"
     },
     "metadata": {}
    }
   ]
  },
  {
   "cell_type": "code",
   "source": "reverse_input_char_index = dict((i, word) for word, i in input_token_index.items())\nreverse_target_char_index = dict((i, word) for word, i in target_token_index.items())\nreverse_input_char_index",
   "metadata": {
    "execution": {
     "iopub.status.busy": "2023-04-28T11:12:37.589943Z",
     "iopub.execute_input": "2023-04-28T11:12:37.590215Z",
     "iopub.status.idle": "2023-04-28T11:12:37.627042Z",
     "shell.execute_reply.started": "2023-04-28T11:12:37.590185Z",
     "shell.execute_reply": "2023-04-28T11:12:37.625556Z"
    },
    "trusted": true
   },
   "execution_count": 61,
   "outputs": [
    {
     "execution_count": 61,
     "output_type": "execute_result",
     "data": {
      "text/plain": "{1: 'a',\n 2: 'aaiun',\n 3: 'ababa',\n 4: 'abc',\n 5: 'abcdefghijk',\n 6: 'abidjan',\n 7: 'ability',\n 8: 'able',\n 9: 'abnormal',\n 10: 'abort',\n 11: 'aborted',\n 12: 'aborting',\n 13: 'about',\n 14: 'about…',\n 15: 'above',\n 16: 'absolute',\n 17: 'ac',\n 18: 'accelerated',\n 19: 'acceleration',\n 20: 'accelerator',\n 21: 'accelerator…',\n 22: 'accentuated',\n 23: 'accept',\n 24: 'acceptable',\n 25: 'accepted',\n 26: 'accerciser',\n 27: 'access',\n 28: 'accessed',\n 29: 'accessibility',\n 30: 'accessible',\n 31: 'accessibles',\n 32: 'accessing',\n 33: 'according',\n 34: 'accordion',\n 35: 'account',\n 36: 'accountapos',\n 37: 'accounts',\n 38: 'accra',\n 39: 'accuracy',\n 40: 'accurate',\n 41: 'ace',\n 42: 'aces',\n 43: 'across',\n 44: 'act',\n 45: 'acti',\n 46: 'action',\n 47: 'actionable',\n 48: 'actions',\n 49: 'activatable',\n 50: 'activate',\n 51: 'activated',\n 52: 'activation',\n 53: 'active',\n 54: 'actor',\n 55: 'actors',\n 56: 'actual',\n 57: 'actually',\n 58: 'adak',\n 59: 'adapt',\n 60: 'adaptation',\n 61: 'adaptive',\n 62: 'adapts',\n 63: 'adblock',\n 64: 'add',\n 65: 'added',\n 66: 'adding',\n 67: 'addis',\n 68: 'addition',\n 69: 'additional',\n 70: 'additions',\n 71: 'addrcheck',\n 72: 'address',\n 73: 'addressbook',\n 74: 'addresses',\n 75: 'adds',\n 76: 'add…',\n 77: 'adium',\n 78: 'adjust',\n 79: 'adjusted',\n 80: 'adjusts',\n 81: 'admin',\n 82: 'administrator',\n 83: 'advance',\n 84: 'advanced',\n 85: 'advertisements',\n 86: 'advertisers',\n 87: 'advised',\n 88: 'affect',\n 89: 'affects',\n 90: 'africa',\n 91: 'after',\n 92: 'again',\n 93: 'age',\n 94: 'agent',\n 95: 'agnes',\n 96: 'agree',\n 97: 'agreement',\n 98: 'aim',\n 99: 'aires',\n 100: 'aisleriot',\n 101: 'akid',\n 102: 'al',\n 103: 'alarm',\n 104: 'albert',\n 105: 'alert',\n 106: 'algiers',\n 107: 'algorithm',\n 108: 'alias',\n 109: 'alidate',\n 110: 'align',\n 111: 'alignment',\n 112: 'alive',\n 113: 'all',\n 114: 'alleys',\n 115: 'allocate',\n 116: 'allocated',\n 117: 'allocating',\n 118: 'allocation',\n 119: 'allow',\n 120: 'allowed',\n 121: 'allowing',\n 122: 'allows',\n 123: 'alone',\n 124: 'along',\n 125: 'alpha',\n 126: 'alphabet',\n 127: 'alphabetic',\n 128: 'alphabetical',\n 129: 'alphanumeric',\n 130: 'alphanumerics',\n 131: 'already',\n 132: 'also',\n 133: 'alt',\n 134: 'altered',\n 135: 'alternating',\n 136: 'alternative',\n 137: 'although',\n 138: 'altitude',\n 139: 'always',\n 140: 'ambiguous',\n 141: 'america',\n 142: 'american',\n 143: 'among',\n 144: 'amount',\n 145: 'amp',\n 146: 'analysed',\n 147: 'analyser',\n 148: 'analysing',\n 149: 'analyze',\n 150: 'analyzed',\n 151: 'analyzer',\n 152: 'ancestry',\n 153: 'anchor',\n 154: 'anchorage',\n 155: 'anchors',\n 156: 'and',\n 157: 'angeles',\n 158: 'angle',\n 159: 'anguage',\n 160: 'anguilla',\n 161: 'animatable',\n 162: 'animate',\n 163: 'animated',\n 164: 'animation',\n 165: 'animations',\n 166: 'anjuta',\n 167: 'anniversaries',\n 168: 'anniversary',\n 169: 'annotate',\n 170: 'annotation',\n 171: 'annotations',\n 172: 'anonymous',\n 173: 'anonymously',\n 174: 'another',\n 175: 'answer',\n 176: 'answered',\n 177: 'antialias',\n 178: 'antialiasing',\n 179: 'antigua',\n 180: 'antler',\n 181: 'any',\n 182: 'anymore',\n 183: 'anyone',\n 184: 'anything',\n 185: 'anytime',\n 186: 'anyway',\n 187: 'anywhere',\n 188: 'ap',\n 189: 'aperture',\n 190: 'api',\n 191: 'apop',\n 192: 'app',\n 193: 'appear',\n 194: 'appearance',\n 195: 'appears',\n 196: 'append',\n 197: 'appending',\n 198: 'applet',\n 199: 'application',\n 200: 'applications',\n 201: 'application…',\n 202: 'applied',\n 203: 'applies',\n 204: 'apply',\n 205: 'applying',\n 206: 'appname',\n 207: 'appointment',\n 208: 'appointments',\n 209: 'appropriate',\n 210: 'apps',\n 211: 'april',\n 212: 'ar',\n 213: 'arabic',\n 214: 'aracter',\n 215: 'araguaina',\n 216: 'arb',\n 217: 'arbfp',\n 218: 'arbitrary',\n 219: 'archive',\n 220: 'archived',\n 221: 'archives',\n 222: 'archiving',\n 223: 'are',\n 224: 'area',\n 225: 'areas',\n 226: 'args',\n 227: 'argument',\n 228: 'arguments',\n 229: 'armenian',\n 230: 'armscii',\n 231: 'around',\n 232: 'array',\n 233: 'arrives',\n 234: 'arrow',\n 235: 'arrows',\n 236: 'art',\n 237: 'artist',\n 238: 'artwork',\n 239: 'aruba',\n 240: 'as',\n 241: 'ascii',\n 242: 'ase',\n 243: 'asian',\n 244: 'ask',\n 245: 'asked',\n 246: 'asking',\n 247: 'asks',\n 248: 'asmera',\n 249: 'aspect',\n 250: 'assign',\n 251: 'assigned',\n 252: 'assistance',\n 253: 'assistant',\n 254: 'assistive',\n 255: 'assoc',\n 256: 'associate',\n 257: 'associated',\n 258: 'association',\n 259: 'associations',\n 260: 'assume',\n 261: 'assword',\n 262: 'asterisk',\n 263: 'asuncion',\n 264: 'asurl',\n 265: 'asynchronously',\n 266: 'as…',\n 267: 'at',\n 268: 'ata',\n 269: 'athena',\n 270: 'atk',\n 271: 'atkhyperlink',\n 272: 'atkhypertext',\n 273: 'atlas',\n 274: 'atlasing',\n 275: 'atomix',\n 276: 'atoms',\n 277: 'attach',\n 278: 'attached',\n 279: 'attachfile',\n 280: 'attaching',\n 281: 'attachment',\n 282: 'attachments',\n 283: 'attack',\n 284: 'atte',\n 285: 'attempt',\n 286: 'attempted',\n 287: 'attempting',\n 288: 'attempts',\n 289: 'attendee',\n 290: 'attendees',\n 291: 'attribute',\n 292: 'attributes',\n 293: 'atus',\n 294: 'atusbar',\n 295: 'au',\n 296: 'audi',\n 297: 'audience',\n 298: 'audio',\n 299: 'august',\n 300: 'auld',\n 301: 'aunt',\n 302: 'auth',\n 303: 'authentic',\n 304: 'authenticate',\n 305: 'authenticated',\n 306: 'authenticating',\n 307: 'authentication',\n 308: 'authentification',\n 309: 'author',\n 310: 'authorisation',\n 311: 'authorise',\n 312: 'authority',\n 313: 'authorization',\n 314: 'authors',\n 315: 'auto',\n 316: 'autocomplete',\n 317: 'autocompletion',\n 318: 'autoconf',\n 319: 'autodetect',\n 320: 'autodetected',\n 321: 'autodetector',\n 322: 'autodetectors',\n 323: 'autodiscover',\n 324: 'autoformat',\n 325: 'autogen',\n 326: 'autogenerate',\n 327: 'automake',\n 328: 'automatic',\n 329: 'automatically',\n 330: 'automation',\n 331: 'autopick',\n 332: 'autoplay',\n 333: 'autosave',\n 334: 'autotools',\n 335: 'autowrap',\n 336: 'available',\n 337: 'avatar',\n 338: 'avatars',\n 339: 'ave',\n 340: 'average',\n 341: 'avoid',\n 342: 'away',\n 343: 'axes',\n 344: 'axis',\n 345: 'b',\n 346: 'bac',\n 347: 'back',\n 348: 'backbone',\n 349: 'backend',\n 350: 'backends',\n 351: 'background',\n 352: 'backoff',\n 353: 'backrub',\n 354: 'backup',\n 355: 'backward',\n 356: 'bad',\n 357: 'badger',\n 358: 'bakers',\n 359: 'balance',\n 360: 'balances',\n 361: 'balsa',\n 362: 'baltic',\n 363: 'bamako',\n 364: 'bandwidth',\n 365: 'bangui',\n 366: 'banjul',\n 367: 'banned',\n 368: 'baobab',\n 369: 'bar',\n 370: 'barbados',\n 371: 'bars…',\n 372: 'base',\n 373: 'based',\n 374: 'baseline',\n 375: 'bases',\n 376: 'basic',\n 377: 'batched',\n 378: 'batching',\n 379: 'bay',\n 380: 'bcc',\n 381: 'bd',\n 382: 'bds',\n 383: 'be',\n 384: 'beagle',\n 385: 'bear',\n 386: 'bearing',\n 387: 'beautiful',\n 388: 'become',\n 389: 'becomes',\n 390: 'begin',\n 391: 'begining',\n 392: 'beginning',\n 393: 'begins',\n 394: 'behave',\n 395: 'behavior',\n 396: 'behaviour',\n 397: 'behavioural',\n 398: 'behind',\n 399: 'beleaguered',\n 400: 'belem',\n 401: 'belize',\n 402: 'belong',\n 403: 'belongs',\n 404: 'below',\n 405: 'bengali',\n 406: 'berkeley',\n 407: 'beside',\n 408: 'besides',\n 409: 'best',\n 410: 'better',\n 411: 'beyond',\n 412: 'bgr',\n 413: 'big',\n 414: 'bigger',\n 415: 'bilinear',\n 416: 'bin',\n 417: 'binary',\n 418: 'bind',\n 419: 'binding',\n 420: 'bindings',\n 421: 'binds',\n 422: 'bing',\n 423: 'birth',\n 424: 'birthday',\n 425: 'birthdays',\n 426: 'bisect',\n 427: 'bison',\n 428: 'bissau',\n 429: 'bitrate',\n 430: 'bits',\n 431: 'black',\n 432: 'blacklist',\n 433: 'blame',\n 434: 'blanc',\n 435: 'blank',\n 436: 'blanked',\n 437: 'blanking',\n 438: 'blanks',\n 439: 'blank…',\n 440: 'blantyre',\n 441: 'blend',\n 442: 'blending',\n 443: 'blic',\n 444: 'block',\n 445: 'blocked',\n 446: 'blocking',\n 447: 'blog',\n 448: 'blondes',\n 449: 'blow',\n 450: 'blu',\n 451: 'blue',\n 452: 'blurb',\n 453: 'blurry',\n 454: 'bo',\n 455: 'boa',\n 456: 'board',\n 457: 'body',\n 458: 'bogota',\n 459: 'boise',\n 460: 'bold',\n 461: 'bonobo',\n 462: 'boo',\n 463: 'book',\n 464: 'bookmar',\n 465: 'bookmark',\n 466: 'bookmarked',\n 467: 'bookmarks',\n 468: 'bookmarks…',\n 469: 'bookmark…',\n 470: 'books',\n 471: 'bool',\n 472: 'boolean',\n 473: 'booth',\n 474: 'border',\n 475: 'boston',\n 476: 'both',\n 477: 'bottom',\n 478: 'bound',\n 479: 'bounding',\n 480: 'box',\n 481: 'boxes',\n 482: 'brace',\n 483: 'braces',\n 484: 'brackets',\n 485: 'branch',\n 486: 'branches',\n 487: 'brasero',\n 488: 'brazilian',\n 489: 'brazzaville',\n 490: 'break',\n 491: 'breakfast',\n 492: 'breaking',\n 493: 'breakpoint',\n 494: 'breakpoints',\n 495: 'breakpoint…',\n 496: 'bridge',\n 497: 'brief',\n 498: 'brightness',\n 499: 'bring',\n 500: 'bristol',\n 501: 'broken',\n 502: 'browse',\n 503: 'browsed',\n 504: 'browser',\n 505: 'browse…',\n 506: 'browsing',\n 507: 'brunettes',\n 508: 'bs',\n 509: 'bsd',\n 510: 'bubble',\n 511: 'buddy',\n 512: 'buenos',\n 513: 'buffer',\n 514: 'buffers',\n 515: 'bug',\n 516: 'bugmaster',\n 517: 'bugreport',\n 518: 'bugs',\n 519: 'bugzilla',\n 520: 'build',\n 521: 'builder',\n 522: 'building',\n 523: 'built',\n 524: 'bujumbura',\n 525: 'bulk',\n 526: 'burn',\n 527: 'burned',\n 528: 'burner',\n 529: 'burning',\n 530: 'burns',\n 531: 'burnt',\n 532: 'burn…',\n 533: 'burst',\n 534: 'bus',\n 535: 'business',\n 536: 'busy',\n 537: 'button',\n 538: 'buttons',\n 539: 'buy',\n 540: 'by',\n 541: 'byte',\n 542: 'bytes',\n 543: 'c',\n 544: 'ca',\n 545: 'cable',\n 546: 'cache',\n 547: 'cached',\n 548: 'cachegrind',\n 549: 'caches',\n 550: 'cairo',\n 551: 'calculate',\n 552: 'calculating',\n 553: 'caldav',\n 554: 'calendar',\n 555: 'calendars',\n 556: 'calibration',\n 557: 'call',\n 558: 'callback',\n 559: 'called',\n 560: 'calling',\n 561: 'calls',\n 562: 'calltip',\n 563: 'calltips',\n 564: 'call…',\n 565: 'cambridge',\n 566: 'camel',\n 567: 'camelhttpstream',\n 568: 'camelot',\n 569: 'camelstreamfilter',\n 570: 'camera',\n 571: 'cameras',\n 572: 'can',\n 573: 'canadian',\n 574: 'cancel',\n 575: 'cancelation',\n 576: 'canceled',\n 577: 'cancellable',\n 578: 'cancellation',\n 579: 'cancelled',\n 580: 'cancun',\n 581: 'candidate',\n 582: 'canfield',\n 583: 'cannot',\n 584: 'canonical',\n 585: 'canonically',\n 586: 'cant',\n 587: 'canvas',\n 588: 'can’t',\n 589: 'capabilities',\n 590: 'capability',\n 591: 'capable',\n 592: 'capacity',\n 593: 'caps',\n 594: 'caption',\n 595: 'capture',\n 596: 'captured',\n 597: 'capulet',\n 598: 'car',\n 599: 'caracas',\n 600: 'card',\n 601: 'cards',\n 602: 'caret',\n 603: 'caribou',\n 604: 'carlo',\n 605: 'carpet',\n 606: 'carry',\n 607: 'casablanca',\n 608: 'case',\n 609: 'cast',\n 610: 'castle',\n 611: 'cat',\n 612: 'catalan',\n 613: 'catamarca',\n 614: 'cate',\n 615: 'categories',\n 616: 'categorized',\n 617: 'category',\n 618: 'cause',\n 619: 'caused',\n 620: 'causes',\n 621: 'caution',\n 622: 'cayenne',\n 623: 'cayman',\n 624: 'cc',\n 625: 'ccc',\n 626: 'cd',\n 627: 'cdrdao',\n 628: 'cdrecord',\n 629: 'cdrkit',\n 630: 'cdrom',\n 631: 'cdrtools',\n 632: 'cds',\n 633: 'ce',\n 634: 'celation',\n 635: 'cell',\n 636: 'cellphone',\n 637: 'cellular',\n 638: 'celtic',\n 639: 'center',\n 640: 'centered',\n 641: 'central',\n 642: 'centre',\n 643: 'certain',\n 644: 'certificate',\n 645: 'certificates',\n 646: 'certificate…',\n 647: 'certification',\n 648: 'ceuta',\n 649: 'ch',\n 650: 'chain',\n 651: 'chair',\n 652: 'challenge',\n 653: 'chan',\n 654: 'change',\n 655: 'changed',\n 656: 'changelog',\n 657: 'changes',\n 658: 'channel',\n 659: 'channels',\n 660: 'char',\n 661: 'character',\n 662: 'characters',\n 663: 'charset',\n 664: 'chart',\n 665: 'chat',\n 666: 'chatroom',\n 667: 'chats',\n 668: 'check',\n 669: 'checked',\n 670: 'checker',\n 671: 'checking',\n 672: 'checks',\n 673: 'checksum',\n 674: 'checksuming',\n 675: 'checksumming',\n 676: 'cheese',\n 677: 'cherry',\n 678: 'chessboard',\n 679: 'chicago',\n 680: 'chihuahua',\n 681: 'child',\n 682: 'children',\n 683: 'childs',\n 684: 'chinese',\n 685: 'choice',\n 686: 'choices',\n 687: 'choose',\n 688: 'choosen',\n 689: 'chooser',\n 690: 'choosing',\n 691: 'chose',\n 692: 'chosen',\n 693: 'chrome',\n 694: 'cid',\n 695: 'cif',\n 696: 'cipher',\n 697: 'circle',\n 698: 'circular',\n 699: 'city',\n 700: 'cjk',\n 701: 'cl',\n 702: 'claim',\n 703: 'clang',\n 704: 'claration',\n 705: 'class',\n 706: 'classes',\n 707: 'classic',\n 708: 'classification',\n 709: 'classify',\n 710: 'classt',\n 711: 'clean',\n 712: 'cleaning',\n 713: 'cleanup',\n 714: 'clear',\n 715: 'cleared',\n 716: 'clearer',\n 717: 'clearing',\n 718: 'click',\n 719: 'clickable',\n 720: 'clicked',\n 721: 'clicking',\n 722: 'clicks',\n 723: 'client',\n 724: 'clients',\n 725: 'climb',\n 726: 'clip',\n 727: 'clipboard',\n 728: 'clipping',\n 729: 'clock',\n 730: 'clockwise',\n 731: 'cloned',\n 732: 'clos',\n 733: 'close',\n 734: 'closed',\n 735: 'closing',\n 736: 'cloudy',\n 737: 'clubs',\n 738: 'clutter',\n 739: 'clutterbackend',\n 740: 'cluttergravity',\n 741: 'clutterpath',\n 742: 'cmd',\n 743: 'cms',\n 744: 'cn',\n 745: 'co',\n 746: 'coated',\n 747: 'code',\n 748: 'codec',\n 749: 'codecs',\n 750: 'codes',\n 751: 'codeset',\n 752: 'coffee',\n 753: 'cogl',\n 754: 'coglblendstring',\n 755: 'coglobject',\n 756: 'coglobjects',\n 757: 'cogltexturepixmap',\n 758: 'coglwinsys',\n 759: 'col',\n 760: 'collapse',\n 761: 'colleagues',\n 762: 'collect',\n 763: 'collected',\n 764: 'collecting',\n 765: 'collection',\n 766: 'collides',\n 767: 'color',\n 768: 'colorize',\n 769: 'colors',\n 770: 'colour',\n 771: 'column',\n 772: 'columns',\n 773: 'com',\n 774: 'combination',\n 775: 'combine',\n 776: 'combined',\n 777: 'combo',\n 778: 'come',\n 779: 'comes',\n 780: 'comic',\n 781: 'coming',\n 782: 'comma',\n 783: 'command',\n 784: 'commands',\n 785: 'command…',\n 786: 'comment',\n 787: 'commenting',\n 788: 'comments',\n 789: 'commit',\n 790: 'committed',\n 791: 'committing',\n 792: 'commit…',\n 793: 'common',\n 794: 'communication',\n 795: 'comp',\n 796: 'compact',\n 797: 'company',\n 798: 'compass',\n 799: 'compatibility',\n 800: 'compatible',\n 801: 'competition',\n 802: 'compilation',\n 803: 'compile',\n 804: 'compiled',\n 805: 'compiler',\n 806: 'complete',\n 807: 'completed',\n 808: 'completely',\n 809: 'completion',\n 810: 'complexity',\n 811: 'complie',\n 812: 'component',\n 813: 'components',\n 814: 'compose',\n 815: 'composed',\n 816: 'composer',\n 817: 'composing',\n 818: 'composite',\n 819: 'composition',\n 820: 'compressing',\n 821: 'compression',\n 822: 'compute',\n 823: 'computed',\n 824: 'computer',\n 825: 'computers',\n 826: 'con',\n 827: 'conakry',\n 828: 'concerned',\n 829: 'concerns',\n 830: 'concludes',\n 831: 'concurrent',\n 832: 'condition',\n 833: 'conditions',\n 834: 'conference',\n 835: 'conferencing',\n 836: 'confidential',\n 837: 'config',\n 838: 'configuration',\n 839: 'configurator',\n 840: 'configure',\n 841: 'configured',\n 842: 'confim',\n 843: 'confirm',\n 844: 'confirmation',\n 845: 'conflict',\n 846: 'conflicted',\n 847: 'conflicting',\n 848: 'conflicts',\n 849: 'conflicts…',\n 850: 'congested',\n 851: 'congratulations',\n 852: 'conjunction',\n 853: 'connect',\n 854: 'connected',\n 855: 'connecting',\n 856: 'connecting…',\n 857: 'connection',\n 858: 'connections',\n 859: 'connectivity',\n 860: 'consecutive',\n 861: 'consider',\n 862: 'considered',\n 863: 'consistency',\n 864: 'consistent',\n 865: 'console',\n 866: 'constants',\n 867: 'constrain',\n 868: 'constrains',\n 869: 'constraint',\n 870: 'constraints',\n 871: 'construct',\n 872: 'construction',\n 873: 'consult',\n 874: 'contact',\n 875: 'contacted',\n 876: 'contacting',\n 877: 'contacts',\n 878: 'contacts…',\n 879: 'contact…',\n 880: 'contain',\n 881: 'contained',\n 882: 'container',\n 883: 'containing',\n 884: 'contains',\n 885: 'content',\n 886: 'contents',\n 887: 'contents…',\n 888: 'context',\n 889: 'contexts',\n 890: 'continent',\n 891: 'continuation',\n 892: 'continue',\n 893: 'continued',\n 894: 'continuous',\n 895: 'contrast',\n 896: 'contributor',\n 897: 'contributors',\n 898: 'control',\n 899: 'controlling',\n 900: 'controls',\n 901: 'convenient',\n 902: 'conversation',\n 903: 'conversations',\n 904: 'conversation…',\n 905: 'convert',\n 906: 'converting',\n 907: 'converts',\n 908: 'cookie',\n 909: 'cookies',\n 910: 'coordinate',\n 911: 'coordinates',\n 912: 'cop',\n 913: 'copied',\n 914: 'copier',\n 915: 'copies',\n 916: 'copy',\n 917: 'copying',\n 918: 'copyright',\n 919: 'copy…',\n 920: 'corba',\n 921: 'cordoba',\n 922: 'core',\n 923: 'corner',\n 924: 'corporation',\n 925: 'correct',\n 926: 'correctly',\n 927: 'correspond',\n 928: 'correspondence',\n 929: 'corresponding',\n 930: 'corresponds',\n 931: 'corrupt',\n 932: 'corrupted',\n 933: 'costa',\n 934: 'could',\n 935: 'count',\n 936: 'countdown',\n 937: 'counter',\n 938: 'counterc',\n 939: 'counting',\n 940: 'country',\n 941: 'course',\n 942: 'cover',\n 943: 'covering',\n 944: 'covers',\n 945: 'coworkers',\n 946: 'cpp',\n 947: 'cpu',\n 948: 'cr',\n 949: 'cram',\n 950: 'crash',\n 951: 'crashed',\n 952: 'crashes',\n 953: 'crash…',\n 954: 'crazy',\n 955: 'crea',\n 956: 'create',\n 957: 'created',\n 958: 'creates',\n 959: 'creating',\n 960: 'creation',\n 961: 'creator',\n 962: 'creators',\n 963: 'credential',\n 964: 'credentials',\n 965: 'credit',\n 966: 'credits',\n 967: 'creek',\n 968: 'criterion',\n 969: 'criterium',\n 970: 'critical',\n 971: 'crl',\n 972: 'crlf',\n 973: 'croatian',\n 974: 'cross',\n 975: 'crosshairs',\n 976: 'crosswalk',\n 977: 'cruel',\n 978: 'cryptographic',\n 979: 'cryptographically',\n 980: 'cryptography',\n 981: 'csharp',\n 982: 'css',\n 983: 'csv',\n 984: 'ctivate',\n 985: 'ctrl',\n 986: 'cu',\n 987: 'cue',\n 988: 'cueing',\n 989: 'cuiaba',\n 990: 'curacao',\n 991: 'current',\n 992: 'currently',\n 993: 'cursor',\n 994: 'custom',\n 995: 'customer',\n 996: 'customize',\n 997: 'cut',\n 998: 'cvs',\n 999: 'cvsrc',\n 1000: 'cvsroot',\n ...}"
     },
     "metadata": {}
    }
   ]
  },
  {
   "cell_type": "markdown",
   "source": "### Splitting data",
   "metadata": {}
  },
  {
   "cell_type": "code",
   "source": "X = df['english'] \ny = df['hindi']\nX_train, X_test, y_train, y_test = train_test_split(X, y, test_size = 0.006, random_state=101)\nprint(\"data has been split!\")",
   "metadata": {
    "execution": {
     "iopub.status.busy": "2023-04-28T11:12:38.024489Z",
     "iopub.execute_input": "2023-04-28T11:12:38.024754Z",
     "iopub.status.idle": "2023-04-28T11:12:38.052170Z",
     "shell.execute_reply.started": "2023-04-28T11:12:38.024728Z",
     "shell.execute_reply": "2023-04-28T11:12:38.051314Z"
    },
    "trusted": true
   },
   "execution_count": 62,
   "outputs": [
    {
     "name": "stdout",
     "text": "data has been split!\n",
     "output_type": "stream"
    }
   ]
  },
  {
   "cell_type": "code",
   "source": "encoder_input_data = np.zeros((2, max_length_src),dtype='float32')\ndecoder_input_data = np.zeros((2, max_length_tar),dtype='float32')\ndecoder_target_data = np.zeros((2, max_length_tar, num_decoder_tokens),dtype='float32')",
   "metadata": {
    "execution": {
     "iopub.status.busy": "2023-04-28T11:12:38.314958Z",
     "iopub.execute_input": "2023-04-28T11:12:38.315224Z",
     "iopub.status.idle": "2023-04-28T11:12:38.322088Z",
     "shell.execute_reply.started": "2023-04-28T11:12:38.315195Z",
     "shell.execute_reply": "2023-04-28T11:12:38.319751Z"
    },
    "trusted": true
   },
   "execution_count": 63,
   "outputs": []
  },
  {
   "cell_type": "code",
   "source": "def generate_batch(X = X_train, y = y_train, batch_size = 128):\n    ''' Generate a batch of data '''\n    while True:\n        for j in range(0, len(X), batch_size):\n            encoder_input_data = np.zeros((batch_size, max_length_src),dtype='float32')\n            decoder_input_data = np.zeros((batch_size, max_length_tar),dtype='float32')\n            decoder_target_data = np.zeros((batch_size, max_length_tar, num_decoder_tokens),dtype='float32')\n            for i, (input_text, target_text) in enumerate(zip(X[j:j+batch_size], y[j:j+batch_size])):\n                for t, word in enumerate(input_text.split()):\n                    encoder_input_data[i, t] = input_token_index[word] # encoder input seq\n                for t, word in enumerate(target_text.split()):\n                    if t<len(target_text.split())-1:\n                        decoder_input_data[i, t] = target_token_index[word] # decoder input seq\n                    if t>0:\n                        # decoder target sequence (one hot encoded)\n                        # does not include the START_ token\n                        # Offset by one timestep\n                        decoder_target_data[i, t - 1, target_token_index[word]] = 1.\n            yield([encoder_input_data, decoder_input_data], decoder_target_data)",
   "metadata": {
    "execution": {
     "iopub.status.busy": "2023-04-28T11:12:40.216936Z",
     "iopub.execute_input": "2023-04-28T11:12:40.217530Z",
     "iopub.status.idle": "2023-04-28T11:12:40.230109Z",
     "shell.execute_reply.started": "2023-04-28T11:12:40.217491Z",
     "shell.execute_reply": "2023-04-28T11:12:40.229319Z"
    },
    "trusted": true
   },
   "execution_count": 64,
   "outputs": []
  },
  {
   "cell_type": "code",
   "source": "latent_dim = 300\n# Encoder\nencoder_inputs = Input(shape=(None,))\nenc_emb =  Embedding(num_encoder_tokens+1, latent_dim, mask_zero = True)(encoder_inputs)\nencoder_lstm = LSTM(latent_dim, return_state=True)\nencoder_outputs, state_h, state_c = encoder_lstm(enc_emb)\n# We discard `encoder_outputs` and only keep the states.\nencoder_states = [state_h, state_c]\n",
   "metadata": {
    "execution": {
     "iopub.status.busy": "2023-04-28T11:12:41.440783Z",
     "iopub.execute_input": "2023-04-28T11:12:41.441057Z",
     "iopub.status.idle": "2023-04-28T11:12:42.174332Z",
     "shell.execute_reply.started": "2023-04-28T11:12:41.441026Z",
     "shell.execute_reply": "2023-04-28T11:12:42.173588Z"
    },
    "trusted": true
   },
   "execution_count": 65,
   "outputs": []
  },
  {
   "cell_type": "code",
   "source": "# Set up the decoder, using `encoder_states` as initial state.\ndecoder_inputs = Input(shape=(None,))\ndec_emb_layer = Embedding(num_decoder_tokens+1, latent_dim, mask_zero = True)\ndec_emb = dec_emb_layer(decoder_inputs)\n# We set up our decoder to return full output sequences,\n# and to return internal states as well. We don't use the\n# return states in the training model, but we will use them in inference.\ndecoder_lstm = LSTM(latent_dim, return_sequences=True, return_state=True)\ndecoder_outputs, _, _ = decoder_lstm(dec_emb,\n                                     initial_state=encoder_states)\ndecoder_dense = Dense(num_decoder_tokens, activation='softmax')\ndecoder_outputs = decoder_dense(decoder_outputs)\n\n# Define the model that will turn\n# `encoder_input_data` & `decoder_input_data` into `decoder_target_data`\nmodel = Model([encoder_inputs, decoder_inputs], decoder_outputs)",
   "metadata": {
    "execution": {
     "iopub.status.busy": "2023-04-28T11:12:42.176169Z",
     "iopub.execute_input": "2023-04-28T11:12:42.176455Z",
     "iopub.status.idle": "2023-04-28T11:12:42.920434Z",
     "shell.execute_reply.started": "2023-04-28T11:12:42.176407Z",
     "shell.execute_reply": "2023-04-28T11:12:42.919682Z"
    },
    "trusted": true
   },
   "execution_count": 66,
   "outputs": []
  },
  {
   "cell_type": "code",
   "source": "model.compile(optimizer='adam', loss='categorical_crossentropy',metrics=['accuracy'])\n",
   "metadata": {
    "execution": {
     "iopub.status.busy": "2023-04-28T11:12:42.921903Z",
     "iopub.execute_input": "2023-04-28T11:12:42.922144Z",
     "iopub.status.idle": "2023-04-28T11:12:42.931170Z",
     "shell.execute_reply.started": "2023-04-28T11:12:42.922109Z",
     "shell.execute_reply": "2023-04-28T11:12:42.930398Z"
    },
    "trusted": true
   },
   "execution_count": 67,
   "outputs": []
  },
  {
   "cell_type": "code",
   "source": "model.summary()\ntrain_samples = len(X_train)\nval_samples = len(X_test)\nbatch_size = 10\nepochs = 10\n",
   "metadata": {
    "execution": {
     "iopub.status.busy": "2023-04-28T11:12:43.470671Z",
     "iopub.execute_input": "2023-04-28T11:12:43.470917Z",
     "iopub.status.idle": "2023-04-28T11:12:43.484801Z",
     "shell.execute_reply.started": "2023-04-28T11:12:43.470889Z",
     "shell.execute_reply": "2023-04-28T11:12:43.483864Z"
    },
    "trusted": true
   },
   "execution_count": 68,
   "outputs": [
    {
     "name": "stdout",
     "text": "Model: \"model_1\"\n__________________________________________________________________________________________________\nLayer (type)                    Output Shape         Param #     Connected to                     \n==================================================================================================\ninput_3 (InputLayer)            [(None, None)]       0                                            \n__________________________________________________________________________________________________\ninput_4 (InputLayer)            [(None, None)]       0                                            \n__________________________________________________________________________________________________\nembedding_2 (Embedding)         (None, None, 300)    1433400     input_3[0][0]                    \n__________________________________________________________________________________________________\nembedding_3 (Embedding)         (None, None, 300)    2100300     input_4[0][0]                    \n__________________________________________________________________________________________________\nlstm_2 (LSTM)                   [(None, 300), (None, 721200      embedding_2[0][0]                \n__________________________________________________________________________________________________\nlstm_3 (LSTM)                   [(None, None, 300),  721200      embedding_3[0][0]                \n                                                                 lstm_2[0][1]                     \n                                                                 lstm_2[0][2]                     \n__________________________________________________________________________________________________\ndense_1 (Dense)                 (None, None, 7000)   2107000     lstm_3[0][0]                     \n==================================================================================================\nTotal params: 7,083,100\nTrainable params: 7,083,100\nNon-trainable params: 0\n__________________________________________________________________________________________________\n",
     "output_type": "stream"
    }
   ]
  },
  {
   "cell_type": "code",
   "source": "model.save('eng-to-hindi.h5')",
   "metadata": {
    "execution": {
     "iopub.status.busy": "2023-04-28T11:12:44.392878Z",
     "iopub.execute_input": "2023-04-28T11:12:44.393165Z",
     "iopub.status.idle": "2023-04-28T11:12:44.478071Z",
     "shell.execute_reply.started": "2023-04-28T11:12:44.393133Z",
     "shell.execute_reply": "2023-04-28T11:12:44.477173Z"
    },
    "trusted": true
   },
   "execution_count": 69,
   "outputs": []
  },
  {
   "cell_type": "code",
   "source": "a, b = next(generate_batch())",
   "metadata": {
    "execution": {
     "iopub.status.busy": "2023-04-28T11:12:45.439347Z",
     "iopub.execute_input": "2023-04-28T11:12:45.440107Z",
     "iopub.status.idle": "2023-04-28T11:12:45.448653Z",
     "shell.execute_reply.started": "2023-04-28T11:12:45.440068Z",
     "shell.execute_reply": "2023-04-28T11:12:45.447762Z"
    },
    "trusted": true
   },
   "execution_count": 70,
   "outputs": []
  },
  {
   "cell_type": "code",
   "source": "checkpoint_path = \"./training_1/cp.ckpt\"\ncheckpoint_dir = os.path.dirname(checkpoint_path)\n\n# Create a callback that saves the model's weights\ncp_callback = tf.keras.callbacks.ModelCheckpoint(filepath=checkpoint_path,\n                                                 save_weights_only=True,\n                                                 verbose=1)\nz=model.fit_generator(generator = generate_batch(X_train, y_train, batch_size = batch_size),\n                    steps_per_epoch = train_samples/batch_size,\n                    epochs=20,\n                    validation_data = generate_batch(X_test, y_test, batch_size = batch_size),\n                    validation_steps = val_samples/batch_size,\n                    callbacks = [cp_callback]  \n                     )",
   "metadata": {
    "execution": {
     "iopub.status.busy": "2023-04-28T11:12:47.054022Z",
     "iopub.execute_input": "2023-04-28T11:12:47.054292Z",
     "iopub.status.idle": "2023-04-28T12:18:15.033857Z",
     "shell.execute_reply.started": "2023-04-28T11:12:47.054263Z",
     "shell.execute_reply": "2023-04-28T12:18:15.033006Z"
    },
    "trusted": true
   },
   "execution_count": 71,
   "outputs": [
    {
     "name": "stderr",
     "text": "/opt/conda/lib/python3.7/site-packages/keras/engine/training.py:1972: UserWarning: `Model.fit_generator` is deprecated and will be removed in a future version. Please use `Model.fit`, which supports generators.\n  warnings.warn('`Model.fit_generator` is deprecated and '\n",
     "output_type": "stream"
    },
    {
     "name": "stdout",
     "text": "Epoch 1/20\n8271/8271 [==============================] - 199s 23ms/step - loss: 0.7509 - accuracy: 0.5336 - val_loss: 0.2932 - val_accuracy: 0.7854\n\nEpoch 00001: saving model to ./training_1/cp.ckpt\nEpoch 2/20\n8271/8271 [==============================] - 186s 23ms/step - loss: 0.1650 - accuracy: 0.8763 - val_loss: 0.1411 - val_accuracy: 0.9039\n\nEpoch 00002: saving model to ./training_1/cp.ckpt\nEpoch 3/20\n8271/8271 [==============================] - 187s 23ms/step - loss: 0.0866 - accuracy: 0.9301 - val_loss: 0.1182 - val_accuracy: 0.9172\n\nEpoch 00003: saving model to ./training_1/cp.ckpt\nEpoch 4/20\n8271/8271 [==============================] - 187s 23ms/step - loss: 0.0633 - accuracy: 0.9449 - val_loss: 0.1094 - val_accuracy: 0.9224\n\nEpoch 00004: saving model to ./training_1/cp.ckpt\nEpoch 5/20\n8271/8271 [==============================] - 187s 23ms/step - loss: 0.0529 - accuracy: 0.9516 - val_loss: 0.0999 - val_accuracy: 0.9277\n\nEpoch 00005: saving model to ./training_1/cp.ckpt\nEpoch 6/20\n8271/8271 [==============================] - 187s 23ms/step - loss: 0.0468 - accuracy: 0.9555 - val_loss: 0.0994 - val_accuracy: 0.9289\n\nEpoch 00006: saving model to ./training_1/cp.ckpt\nEpoch 7/20\n8271/8271 [==============================] - 198s 24ms/step - loss: 0.0433 - accuracy: 0.9580 - val_loss: 0.0972 - val_accuracy: 0.9301\n\nEpoch 00007: saving model to ./training_1/cp.ckpt\nEpoch 8/20\n8271/8271 [==============================] - 210s 25ms/step - loss: 0.0408 - accuracy: 0.9592 - val_loss: 0.0965 - val_accuracy: 0.9273\n\nEpoch 00008: saving model to ./training_1/cp.ckpt\nEpoch 9/20\n8271/8271 [==============================] - 208s 25ms/step - loss: 0.0389 - accuracy: 0.9601 - val_loss: 0.0957 - val_accuracy: 0.9277\n\nEpoch 00009: saving model to ./training_1/cp.ckpt\nEpoch 10/20\n8271/8271 [==============================] - 208s 25ms/step - loss: 0.0373 - accuracy: 0.9609 - val_loss: 0.0932 - val_accuracy: 0.9289\n\nEpoch 00010: saving model to ./training_1/cp.ckpt\nEpoch 11/20\n8271/8271 [==============================] - 203s 24ms/step - loss: 0.0362 - accuracy: 0.9613 - val_loss: 0.0963 - val_accuracy: 0.9325\n\nEpoch 00011: saving model to ./training_1/cp.ckpt\nEpoch 12/20\n8271/8271 [==============================] - 193s 23ms/step - loss: 0.0349 - accuracy: 0.9621 - val_loss: 0.0996 - val_accuracy: 0.9285\n\nEpoch 00012: saving model to ./training_1/cp.ckpt\nEpoch 13/20\n8271/8271 [==============================] - 193s 23ms/step - loss: 0.0339 - accuracy: 0.9624 - val_loss: 0.1002 - val_accuracy: 0.9313\n\nEpoch 00013: saving model to ./training_1/cp.ckpt\nEpoch 14/20\n8271/8271 [==============================] - 194s 23ms/step - loss: 0.0329 - accuracy: 0.9631 - val_loss: 0.1047 - val_accuracy: 0.9317\n\nEpoch 00014: saving model to ./training_1/cp.ckpt\nEpoch 15/20\n8271/8271 [==============================] - 188s 23ms/step - loss: 0.0322 - accuracy: 0.9633 - val_loss: 0.1015 - val_accuracy: 0.9317\n\nEpoch 00015: saving model to ./training_1/cp.ckpt\nEpoch 16/20\n8271/8271 [==============================] - 188s 23ms/step - loss: 0.0313 - accuracy: 0.9640 - val_loss: 0.1012 - val_accuracy: 0.9321\n\nEpoch 00016: saving model to ./training_1/cp.ckpt\nEpoch 17/20\n8271/8271 [==============================] - 193s 23ms/step - loss: 0.0307 - accuracy: 0.9642 - val_loss: 0.1029 - val_accuracy: 0.9321\n\nEpoch 00017: saving model to ./training_1/cp.ckpt\nEpoch 18/20\n8271/8271 [==============================] - 194s 23ms/step - loss: 0.0301 - accuracy: 0.9647 - val_loss: 0.1033 - val_accuracy: 0.9329\n\nEpoch 00018: saving model to ./training_1/cp.ckpt\nEpoch 19/20\n8271/8271 [==============================] - 189s 23ms/step - loss: 0.0294 - accuracy: 0.9652 - val_loss: 0.1007 - val_accuracy: 0.9293\n\nEpoch 00019: saving model to ./training_1/cp.ckpt\nEpoch 20/20\n8271/8271 [==============================] - 191s 23ms/step - loss: 0.0291 - accuracy: 0.9654 - val_loss: 0.1058 - val_accuracy: 0.9309\n\nEpoch 00020: saving model to ./training_1/cp.ckpt\n",
     "output_type": "stream"
    }
   ]
  },
  {
   "cell_type": "code",
   "source": "import matplotlib.pyplot as plt\nplt.plot(z.history['accuracy'])\nplt.plot(z.history['val_accuracy'])\nplt.title('model accuracy')\nplt.ylabel('accuracy')\nplt.xlabel('epoch')\nplt.legend(['train', 'test'], loc='upper left')\nplt.show()",
   "metadata": {
    "execution": {
     "iopub.status.busy": "2023-04-28T12:18:15.035966Z",
     "iopub.execute_input": "2023-04-28T12:18:15.036221Z",
     "iopub.status.idle": "2023-04-28T12:18:15.268098Z",
     "shell.execute_reply.started": "2023-04-28T12:18:15.036187Z",
     "shell.execute_reply": "2023-04-28T12:18:15.267387Z"
    },
    "trusted": true
   },
   "execution_count": 72,
   "outputs": [
    {
     "output_type": "display_data",
     "data": {
      "text/plain": "<Figure size 432x288 with 1 Axes>",
      "image/png": "[encoded data removed]"
     },
     "metadata": {
      "needs_background": "light"
     }
    }
   ]
  },
  {
   "cell_type": "code",
   "source": "import matplotlib.pyplot as plt\nplt.plot(z.history['loss'])\nplt.plot(z.history['val_loss'])\nplt.title('model loss')\nplt.ylabel('loss')\nplt.xlabel('epoch')\nplt.legend(['train', 'test'], loc='upper left')\nplt.show()",
   "metadata": {
    "execution": {
     "iopub.status.busy": "2023-04-28T12:18:15.269424Z",
     "iopub.execute_input": "2023-04-28T12:18:15.269861Z",
     "iopub.status.idle": "2023-04-28T12:18:15.487944Z",
     "shell.execute_reply.started": "2023-04-28T12:18:15.269820Z",
     "shell.execute_reply": "2023-04-28T12:18:15.487205Z"
    },
    "trusted": true
   },
   "execution_count": 73,
   "outputs": [
    {
     "output_type": "display_data",
     "data": {
      "text/plain": "<Figure size 432x288 with 1 Axes>",
      "image/png": "[encoded data removed]"
     },
     "metadata": {
      "needs_background": "light"
     }
    }
   ]
  },
  {
   "cell_type": "code",
   "source": "train_gen = generate_batch(X_train, y_train, batch_size = 1)\nk=-1",
   "metadata": {
    "execution": {
     "iopub.status.busy": "2023-04-28T12:18:15.490043Z",
     "iopub.execute_input": "2023-04-28T12:18:15.490481Z",
     "iopub.status.idle": "2023-04-28T12:18:15.495257Z",
     "shell.execute_reply.started": "2023-04-28T12:18:15.490440Z",
     "shell.execute_reply": "2023-04-28T12:18:15.494460Z"
    },
    "trusted": true
   },
   "execution_count": 74,
   "outputs": []
  },
  {
   "cell_type": "code",
   "source": "# Encode the input sequence to get the \"thought vectors\"\nencoder_model = Model(encoder_inputs, encoder_states)\n\n# Decoder setup\n# Below tensors will hold the states of the previous time step\ndecoder_state_input_h = Input(shape=(latent_dim,))\ndecoder_state_input_c = Input(shape=(latent_dim,))\ndecoder_states_inputs = [decoder_state_input_h, decoder_state_input_c]\n\ndec_emb2= dec_emb_layer(decoder_inputs) # Get the embeddings of the decoder sequence\n\n# To predict the next word in the sequence, set the initial states to the states from the previous time step\ndecoder_outputs2, state_h2, state_c2 = decoder_lstm(dec_emb2, initial_state=decoder_states_inputs)\ndecoder_states2 = [state_h2, state_c2]\ndecoder_outputs2 = decoder_dense(decoder_outputs2) # A dense softmax layer to generate prob dist. over the target vocabulary\n\n# Final decoder model\ndecoder_model = Model(\n    [decoder_inputs] + decoder_states_inputs,\n    [decoder_outputs2] + decoder_states2)",
   "metadata": {
    "execution": {
     "iopub.status.busy": "2023-04-28T12:18:15.496520Z",
     "iopub.execute_input": "2023-04-28T12:18:15.496856Z",
     "iopub.status.idle": "2023-04-28T12:18:16.256259Z",
     "shell.execute_reply.started": "2023-04-28T12:18:15.496821Z",
     "shell.execute_reply": "2023-04-28T12:18:16.255503Z"
    },
    "trusted": true
   },
   "execution_count": 75,
   "outputs": []
  },
  {
   "cell_type": "code",
   "source": "def decode_sequence(input_seq):\n    # Encode the input as state vectors.\n    states_value = encoder_model.predict(input_seq)\n    # Generate empty target sequence of length 1.\n    target_seq = np.zeros((1,1))\n    # Populate the first character of target sequence with the start character.\n    target_seq[0, 0] = target_token_index['START_']\n\n    # Sampling loop for a batch of sequences\n    # (to simplify, here we assume a batch of size 1).\n    stop_condition = False\n    decoded_sentence = ''\n    while not stop_condition:\n        output_tokens, h, c = decoder_model.predict([target_seq] + states_value)\n\n        # Sample a token\n        sampled_token_index = np.argmax(output_tokens[0, -1, :])\n        sampled_char = reverse_target_char_index[sampled_token_index]\n        decoded_sentence += ' '+sampled_char\n\n        # Exit condition: either hit max length\n        # or find stop character.\n        if (sampled_char == '_END' or\n           len(decoded_sentence) > 50):\n            stop_condition = True\n\n        # Update the target sequence (of length 1).\n        target_seq = np.zeros((1,1))\n        target_seq[0, 0] = sampled_token_index\n\n        # Update states\n        states_value = [h, c]\n\n    return decoded_sentence",
   "metadata": {
    "execution": {
     "iopub.status.busy": "2023-04-28T12:18:16.257462Z",
     "iopub.execute_input": "2023-04-28T12:18:16.258310Z",
     "iopub.status.idle": "2023-04-28T12:18:16.266872Z",
     "shell.execute_reply.started": "2023-04-28T12:18:16.258271Z",
     "shell.execute_reply": "2023-04-28T12:18:16.265944Z"
    },
    "trusted": true
   },
   "execution_count": 76,
   "outputs": []
  },
  {
   "cell_type": "markdown",
   "source": "### BLEU Score",
   "metadata": {}
  },
  {
   "cell_type": "code",
   "source": "from nltk.translate.bleu_score import sentence_bleu\nref = [\n    'this is moonlight'.split(),\n    'Look, this is moonlight'.split(),\n    'moonlight it is'.split()\n]\ntest = 'it is moonlight'.split()\nprint('BLEU score for test-> {}'.format(sentence_bleu(ref, test)))\n \ntest01 = 'it is cat and moonlight'.split()\nprint('BLEU score for test01-> {}'.format(sentence_bleu(ref, test01)))",
   "metadata": {
    "execution": {
     "iopub.status.busy": "2023-04-28T12:18:16.268265Z",
     "iopub.execute_input": "2023-04-28T12:18:16.268794Z",
     "iopub.status.idle": "2023-04-28T12:18:16.299279Z",
     "shell.execute_reply.started": "2023-04-28T12:18:16.268757Z",
     "shell.execute_reply": "2023-04-28T12:18:16.298676Z"
    },
    "trusted": true
   },
   "execution_count": 77,
   "outputs": [
    {
     "name": "stdout",
     "text": "BLEU score for test-> 1.0\nBLEU score for test01-> 0.6223329772884784\n",
     "output_type": "stream"
    },
    {
     "name": "stderr",
     "text": "/opt/conda/lib/python3.7/site-packages/nltk/translate/bleu_score.py:490: UserWarning: \nCorpus/Sentence contains 0 counts of 3-gram overlaps.\nBLEU scores might be undesirable; use SmoothingFunction().\n  warnings.warn(_msg)\n",
     "output_type": "stream"
    }
   ]
  },
  {
   "cell_type": "markdown",
   "source": "### Prediction",
   "metadata": {}
  },
  {
   "cell_type": "code",
   "source": "k+=1\n(input_seq, actual_output), _ = next(train_gen)\ndecoded_sentence = decode_sequence(input_seq)\nprint('Input English sentence:', X_train[k:k+1].values[0])\nprint('Actual Hindi Translation:', y_train[k:k+1].values[0][6:-4])\nprint('Predicted Hindi Translation:', decoded_sentence[:-4])",
   "metadata": {
    "execution": {
     "iopub.status.busy": "2023-04-28T13:41:12.955560Z",
     "iopub.execute_input": "2023-04-28T13:41:12.956355Z",
     "iopub.status.idle": "2023-04-28T13:41:13.382081Z",
     "shell.execute_reply.started": "2023-04-28T13:41:12.956314Z",
     "shell.execute_reply": "2023-04-28T13:41:13.380556Z"
    },
    "trusted": true
   },
   "execution_count": 121,
   "outputs": [
    {
     "name": "stdout",
     "text": "Input English sentence: select avatar image\nActual Hindi Translation:  अवतार चित्र चुनें \nPredicted Hindi Translation:  कार्ड थीम “ s” के साथ कार्ड दिखाएं \n",
     "output_type": "stream"
    }
   ]
  },
  {
   "cell_type": "code",
   "source": "test_gen = generate_batch(X_test, y_test, batch_size = 1)",
   "metadata": {
    "execution": {
     "iopub.status.busy": "2023-04-28T12:18:18.770485Z",
     "iopub.execute_input": "2023-04-28T12:18:18.770714Z",
     "iopub.status.idle": "2023-04-28T12:18:18.775374Z",
     "shell.execute_reply.started": "2023-04-28T12:18:18.770688Z",
     "shell.execute_reply": "2023-04-28T12:18:18.774615Z"
    },
    "trusted": true
   },
   "execution_count": 79,
   "outputs": []
  },
  {
   "cell_type": "code",
   "source": "from nltk.translate.bleu_score import sentence_bleu\n",
   "metadata": {
    "execution": {
     "iopub.status.busy": "2023-04-28T12:18:18.777755Z",
     "iopub.execute_input": "2023-04-28T12:18:18.778380Z",
     "iopub.status.idle": "2023-04-28T12:18:18.787033Z",
     "shell.execute_reply.started": "2023-04-28T12:18:18.778344Z",
     "shell.execute_reply": "2023-04-28T12:18:18.786240Z"
    },
    "trusted": true
   },
   "execution_count": 80,
   "outputs": []
  },
  {
   "cell_type": "code",
   "source": "output=[]\ninputz=[]\nk=0\nfor i in range(len(X_test)):\n    (input_seq, actual_output), _ = next(test_gen)\n    decoded_sentence = decode_sequence(input_seq)\n    q=y_test[k:k+1].values[0][6:-4]\n    K+=1\n    x=decoded_sentence[:-4]\n    inputz.append(q)\n    output.append(x)    ",
   "metadata": {
    "execution": {
     "iopub.status.busy": "2023-04-28T12:53:02.205216Z",
     "iopub.execute_input": "2023-04-28T12:53:02.205495Z",
     "iopub.status.idle": "2023-04-28T12:54:58.560377Z",
     "shell.execute_reply.started": "2023-04-28T12:53:02.205458Z",
     "shell.execute_reply": "2023-04-28T12:54:58.559606Z"
    },
    "trusted": true
   },
   "execution_count": 88,
   "outputs": []
  },
  {
   "cell_type": "code",
   "source": "bleu = 0\n\nfor i in range(len(output)):\n    bleu += sentence_bleu([inputz[i].split()], output[i].split(), weights = (0.5, 0.5))\n\nprint(\"BLEU score is : \", bleu / len(output))",
   "metadata": {
    "execution": {
     "iopub.status.busy": "2023-04-28T13:23:37.402697Z",
     "iopub.execute_input": "2023-04-28T13:23:37.403101Z",
     "iopub.status.idle": "2023-04-28T13:23:37.435347Z",
     "shell.execute_reply.started": "2023-04-28T13:23:37.403056Z",
     "shell.execute_reply": "2023-04-28T13:23:37.434619Z"
    },
    "trusted": true
   },
   "execution_count": 118,
   "outputs": [
    {
     "name": "stdout",
     "text": "BLEU score is :  0.014018302415201422\n",
     "output_type": "stream"
    }
   ]
  },
  {
   "cell_type": "code",
   "source": "bleu = 0\n\nfor i in range(len(output)):\n    bleu += sentence_bleu([inputz[i].split()], output[i].split(), weights = (0.5, 0.5))\n\nprint(\"BLEU score is : \", bleu)",
   "metadata": {
    "execution": {
     "iopub.status.busy": "2023-04-28T13:40:19.322146Z",
     "iopub.execute_input": "2023-04-28T13:40:19.322467Z",
     "iopub.status.idle": "2023-04-28T13:40:19.354411Z",
     "shell.execute_reply.started": "2023-04-28T13:40:19.322434Z",
     "shell.execute_reply": "2023-04-28T13:40:19.353661Z"
    },
    "trusted": true
   },
   "execution_count": 119,
   "outputs": [
    {
     "name": "stdout",
     "text": "BLEU score is :  7.009151207600711\n",
     "output_type": "stream"
    }
   ]
  },
  {
   "cell_type": "code",
   "source": "for i in range(10):\n    print(output[i],' -> ', inputz[i])",
   "metadata": {
    "execution": {
     "iopub.status.busy": "2023-04-28T13:41:43.313069Z",
     "iopub.execute_input": "2023-04-28T13:41:43.313339Z",
     "iopub.status.idle": "2023-04-28T13:41:43.323523Z",
     "shell.execute_reply.started": "2023-04-28T13:41:43.313309Z",
     "shell.execute_reply": "2023-04-28T13:41:43.322751Z"
    },
    "trusted": true
   },
   "execution_count": 122,
   "outputs": [
    {
     "name": "stdout",
     "text": " चुनें   ->   प्रतिः o \n अंत में जोड़ें को   ->   जैबर id सूची \n प्रयुक्त के लिए कार्यान्वयन फ़ाइल   ->   ईंट की बेगम \n प्रमाणपत्र क्रिप्टोग्राफी कमजोर है   ->   स्लाइस करें s \n फिर वैसे भी लोड करें   ->   headworking copy \n प्रोफ़ाइल नाम   ->   एकल आयामी मोड \n अपारिभाषित   ->   क्लाइंट ने ऑपरेशन रद्द कर दिया \n क्या बाल रूपांतरण गुण सेट है   ->   संदेश के लिए \n अज्ञात   ->   जब आप सड़क पार करें तो दोनों तरफ देखें \n अनुमोदन असफल   ->   विसम्मेलन \n",
     "output_type": "stream"
    }
   ]
  }
 ]
}
