{
 "cells": [
  {
   "cell_type": "code",
   "execution_count": 16,
   "id": "4cde47c3",
   "metadata": {},
   "outputs": [],
   "source": [
    "import os\n",
    "import pickle\n",
    "import pandas as pd\n",
    "from tqdm import tqdm\n",
    "\n",
    "from doctr.models import ocr_predictor\n",
    "from doctr.io import DocumentFile"
   ]
  },
  {
   "cell_type": "code",
   "execution_count": 17,
   "id": "df066af9",
   "metadata": {},
   "outputs": [
    {
     "name": "stderr",
     "output_type": "stream",
     "text": [
      "WARNING:root:Invalid model URL, using default initialization.\n",
      "WARNING:root:Invalid model URL, using default initialization.\n"
     ]
    }
   ],
   "source": [
    "OCR_DATA_PATH  = './../../data/ocr/docbank/images/'\n",
    "TXT_DATA_PATH  = './../../results/ocr/linknet_master/'\n",
    "image_data_dir = os.listdir(OCR_DATA_PATH)\n",
    "\n",
    "# model = ocr_predictor(det_arch='db_mobilenet_v3_large', reco_arch='crnn_mobilenet_v3_large', pretrained=True)\n",
    "model = ocr_predictor(det_arch='linknet_resnet50', reco_arch='master', pretrained=True)"
   ]
  },
  {
   "cell_type": "code",
   "execution_count": 7,
   "id": "9eeda3ca",
   "metadata": {},
   "outputs": [
    {
     "name": "stdout",
     "output_type": "stream",
     "text": [
      "v0.6.0\n"
     ]
    }
   ],
   "source": [
    "import doctr\n",
    "print(doctr.__version__)"
   ]
  },
  {
   "cell_type": "code",
   "execution_count": 14,
   "id": "6e07cc96",
   "metadata": {},
   "outputs": [
    {
     "name": "stderr",
     "output_type": "stream",
     "text": [
      "100%|████████████████████████████████████████████████████████████████████████| 100/100 [17:25<00:00, 10.46s/it]\n"
     ]
    }
   ],
   "source": [
    "results = {}\n",
    "\n",
    "for image_file in tqdm(image_data_dir):\n",
    "    doc = DocumentFile.from_images(OCR_DATA_PATH + image_file)\n",
    "    result = model(doc)\n",
    "    results[image_file] = result\n",
    "    \n",
    "with open(TXT_DATA_PATH + 'results.pkl', 'wb') as outp:  # Overwrites any existing file.\n",
    "    pickle.dump(results, outp, pickle.HIGHEST_PROTOCOL)"
   ]
  },
  {
   "cell_type": "code",
   "execution_count": 15,
   "id": "7743a47b",
   "metadata": {},
   "outputs": [
    {
     "name": "stderr",
     "output_type": "stream",
     "text": [
      "100%|██████████████████████████████████████████████████████████████████████| 100/100 [00:00<00:00, 1163.41it/s]\n",
      "100%|███████████████████████████████████████████████████████████████████████| 100/100 [00:00<00:00, 558.33it/s]\n"
     ]
    }
   ],
   "source": [
    "with open('../results_mobilenet.pkl', 'rb') as f:\n",
    "    results = pickle.load(f)\n",
    "\n",
    "total = {}\n",
    "for image,result in tqdm(results.items()):\n",
    "    dim = tuple(reversed(result.pages[0].dimensions))\n",
    "    predictions = []\n",
    "    block_id = 0\n",
    "    for block in result.pages[0].blocks:\n",
    "        line_id = 0\n",
    "        for line in block.lines:\n",
    "            for word in line.words:\n",
    "                values = []\n",
    "                geo = word.geometry\n",
    "                a = list(int(a*b) for a,b in zip(geo[0],dim))\n",
    "                b = list(int(a*b) for a,b in zip(geo[1],dim))\n",
    "                values.append(block_id)\n",
    "                values.append(line_id)\n",
    "                values.append(word.confidence)\n",
    "                values.append(a[0])\n",
    "                values.append(a[1])\n",
    "                values.append(b[0])\n",
    "                values.append(b[1])\n",
    "                values.append(word.value)\n",
    "                predictions.append(values)\n",
    "            line_id += 1\n",
    "        block_id += 1\n",
    "    total[image] = predictions\n",
    "    \n",
    "    \n",
    "for image,result in tqdm(total.items()):\n",
    "    name = image[:len(image) - 4]\n",
    "    df = pd.DataFrame(result, columns = ['block', 'line', 'confidence', 'X1', 'Y1', 'X2', 'Y2', 'token'])\n",
    "    df.to_csv(TXT_DATA_PATH + name + '.txt', sep=' ',index=False)"
   ]
  },
  {
   "cell_type": "code",
   "execution_count": null,
   "id": "99b5fb31",
   "metadata": {},
   "outputs": [],
   "source": []
  }
 ],
 "metadata": {
  "kernelspec": {
   "display_name": "Python 3 (ipykernel)",
   "language": "python",
   "name": "python3"
  },
  "language_info": {
   "codemirror_mode": {
    "name": "ipython",
    "version": 3
   },
   "file_extension": ".py",
   "mimetype": "text/x-python",
   "name": "python",
   "nbconvert_exporter": "python",
   "pygments_lexer": "ipython3",
   "version": "3.9.6"
  }
 },
 "nbformat": 4,
 "nbformat_minor": 5
}
