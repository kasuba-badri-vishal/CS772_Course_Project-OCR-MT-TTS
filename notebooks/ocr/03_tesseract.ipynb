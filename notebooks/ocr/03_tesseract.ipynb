{
 "cells": [
  {
   "cell_type": "code",
   "execution_count": 1,
   "id": "61559f27",
   "metadata": {},
   "outputs": [],
   "source": [
    "from pytesseract import image_to_data, Output\n",
    "import cv2\n",
    "from tqdm import tqdm\n",
    "import os\n",
    "import pickle"
   ]
  },
  {
   "cell_type": "code",
   "execution_count": 2,
   "id": "bf3f3017",
   "metadata": {},
   "outputs": [],
   "source": [
    "OCR_DATA_PATH  = './../../data/ocr/docbank/images_processed/'\n",
    "TXT_DATA_PATH  = './../../results/ocr/tesseract/'\n",
    "image_data_dir = os.listdir(OCR_DATA_PATH)"
   ]
  },
  {
   "cell_type": "code",
   "execution_count": 3,
   "id": "16359319",
   "metadata": {},
   "outputs": [
    {
     "name": "stderr",
     "output_type": "stream",
     "text": [
      "100%|██████████| 100/100 [03:44<00:00,  2.25s/it]\n"
     ]
    }
   ],
   "source": [
    "results = {}\n",
    "\n",
    "for image_file in tqdm(image_data_dir):\n",
    "    predictions = []\n",
    "    image = cv2.imread(OCR_DATA_PATH + image_file)\n",
    "    d = image_to_data(image, output_type=Output.DICT)\n",
    "    for i in range(len(d['level'])):\n",
    "        if d['level'][i]==5:\n",
    "            values = []\n",
    "            (x, y, w, h) = (d['left'][i], d['top'][i], d['width'][i], d['height'][i])\n",
    "            (x, y, w, h) = (int(x), int(y), int(w), int(h))\n",
    "\n",
    "            values.append(d['block_num'][i])\n",
    "            values.append(d['par_num'][i])\n",
    "            values.append(d['line_num'][i])\n",
    "            values.append(d['word_num'][i])\n",
    "            values.append(d['conf'][i])\n",
    "            values.append(d['left'][i])\n",
    "            values.append(d['top'][i])\n",
    "            values.append(d['left'][i] + d['width'][i])\n",
    "            values.append(d['top'][i] + d['height'][i])\n",
    "            values.append(d['text'][i])\n",
    "            predictions.append(values)\n",
    "    results[image_file] = predictions\n",
    "    \n",
    "    \n",
    "with open(TXT_DATA_PATH + 'results_processed.pkl', 'wb') as outp:  # Overwrites any existing file.\n",
    "    pickle.dump(results, outp, pickle.HIGHEST_PROTOCOL)"
   ]
  },
  {
   "cell_type": "code",
   "execution_count": 4,
   "id": "c2ee9e81",
   "metadata": {},
   "outputs": [
    {
     "ename": "NameError",
     "evalue": "name 'total' is not defined",
     "output_type": "error",
     "traceback": [
      "\u001B[0;31m---------------------------------------------------------------------------\u001B[0m",
      "\u001B[0;31mNameError\u001B[0m                                 Traceback (most recent call last)",
      "Cell \u001B[0;32mIn[4], line 1\u001B[0m\n\u001B[0;32m----> 1\u001B[0m \u001B[38;5;28;01mfor\u001B[39;00m image,result \u001B[38;5;129;01min\u001B[39;00m tqdm(\u001B[43mtotal\u001B[49m\u001B[38;5;241m.\u001B[39mitems()):\n\u001B[1;32m      2\u001B[0m     name \u001B[38;5;241m=\u001B[39m image[:\u001B[38;5;28mlen\u001B[39m(image) \u001B[38;5;241m-\u001B[39m \u001B[38;5;241m4\u001B[39m]\n\u001B[1;32m      3\u001B[0m     df \u001B[38;5;241m=\u001B[39m pd\u001B[38;5;241m.\u001B[39mDataFrame(result, columns \u001B[38;5;241m=\u001B[39m [\u001B[38;5;124m'\u001B[39m\u001B[38;5;124mblock\u001B[39m\u001B[38;5;124m'\u001B[39m, \u001B[38;5;124m'\u001B[39m\u001B[38;5;124mpara\u001B[39m\u001B[38;5;124m'\u001B[39m, \u001B[38;5;124m'\u001B[39m\u001B[38;5;124mline\u001B[39m\u001B[38;5;124m'\u001B[39m, \u001B[38;5;124m'\u001B[39m\u001B[38;5;124mconfidence\u001B[39m\u001B[38;5;124m'\u001B[39m, \u001B[38;5;124m'\u001B[39m\u001B[38;5;124mX1\u001B[39m\u001B[38;5;124m'\u001B[39m, \u001B[38;5;124m'\u001B[39m\u001B[38;5;124mY1\u001B[39m\u001B[38;5;124m'\u001B[39m, \u001B[38;5;124m'\u001B[39m\u001B[38;5;124mX2\u001B[39m\u001B[38;5;124m'\u001B[39m, \u001B[38;5;124m'\u001B[39m\u001B[38;5;124mY2\u001B[39m\u001B[38;5;124m'\u001B[39m, \u001B[38;5;124m'\u001B[39m\u001B[38;5;124mtoken\u001B[39m\u001B[38;5;124m'\u001B[39m])\n",
      "\u001B[0;31mNameError\u001B[0m: name 'total' is not defined"
     ]
    }
   ],
   "source": [
    "for image,result in tqdm(total.items()):\n",
    "    name = image[:len(image) - 4]\n",
    "    df = pd.DataFrame(result, columns = ['block', 'para', 'line', 'confidence', 'X1', 'Y1', 'X2', 'Y2', 'token'])\n",
    "    df.to_csv(TXT_DATA_PATH + 'txt_processed/' +  name + '.txt', sep=' ',index=False)"
   ]
  },
  {
   "cell_type": "code",
   "execution_count": null,
   "outputs": [],
   "source": [],
   "metadata": {
    "collapsed": false
   }
  }
 ],
 "metadata": {
  "kernelspec": {
   "display_name": "Python 3 (ipykernel)",
   "language": "python",
   "name": "python3"
  },
  "language_info": {
   "codemirror_mode": {
    "name": "ipython",
    "version": 3
   },
   "file_extension": ".py",
   "mimetype": "text/x-python",
   "name": "python",
   "nbconvert_exporter": "python",
   "pygments_lexer": "ipython3",
   "version": "3.9.6"
  }
 },
 "nbformat": 4,
 "nbformat_minor": 5
}
