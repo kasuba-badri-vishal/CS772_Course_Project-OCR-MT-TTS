{
 "cells": [
  {
   "cell_type": "code",
   "execution_count": 5,
   "id": "61559f27",
   "metadata": {},
   "outputs": [],
   "source": [
    "from pytesseract import image_to_data, Output\n",
    "import cv2\n",
    "from tqdm import tqdm\n",
    "import pandas as pd\n",
    "import os\n",
    "import pickle"
   ]
  },
  {
   "cell_type": "code",
   "execution_count": 6,
   "id": "bf3f3017",
   "metadata": {},
   "outputs": [],
   "source": [
    "OCR_DATA_PATH  = './../../data/ocr/docbank/images_processed/'\n",
    "TXT_DATA_PATH  = './../../results/ocr/tesseract/'\n",
    "image_data_dir = os.listdir(OCR_DATA_PATH)"
   ]
  },
  {
   "cell_type": "code",
   "execution_count": 3,
   "id": "16359319",
   "metadata": {},
   "outputs": [
    {
     "name": "stderr",
     "output_type": "stream",
     "text": [
      "100%|██████████| 100/100 [03:44<00:00,  2.25s/it]\n"
     ]
    }
   ],
   "source": [
    "results = {}\n",
    "\n",
    "for image_file in tqdm(image_data_dir):\n",
    "    predictions = []\n",
    "    image = cv2.imread(OCR_DATA_PATH + image_file)\n",
    "    d = image_to_data(image, output_type=Output.DICT)\n",
    "    for i in range(len(d['level'])):\n",
    "        if d['level'][i]==5:\n",
    "            values = []\n",
    "            (x, y, w, h) = (d['left'][i], d['top'][i], d['width'][i], d['height'][i])\n",
    "            (x, y, w, h) = (int(x), int(y), int(w), int(h))\n",
    "\n",
    "            values.append(d['block_num'][i])\n",
    "            values.append(d['par_num'][i])\n",
    "            values.append(d['line_num'][i])\n",
    "            values.append(d['word_num'][i])\n",
    "            values.append(d['conf'][i])\n",
    "            values.append(d['left'][i])\n",
    "            values.append(d['top'][i])\n",
    "            values.append(d['left'][i] + d['width'][i])\n",
    "            values.append(d['top'][i] + d['height'][i])\n",
    "            values.append(d['text'][i])\n",
    "            predictions.append(values)\n",
    "    results[image_file] = predictions\n",
    "    \n",
    "    \n",
    "with open(TXT_DATA_PATH + 'results_processed.pkl', 'wb') as outp:  # Overwrites any existing file.\n",
    "    pickle.dump(results, outp, pickle.HIGHEST_PROTOCOL)"
   ]
  },
  {
   "cell_type": "code",
   "execution_count": 7,
   "outputs": [],
   "source": [
    "with open(TXT_DATA_PATH + 'results_processed.pkl', 'rb') as f:\n",
    "    results = pickle.load(f)"
   ],
   "metadata": {
    "collapsed": false
   }
  },
  {
   "cell_type": "code",
   "execution_count": 10,
   "id": "c2ee9e81",
   "metadata": {},
   "outputs": [
    {
     "name": "stderr",
     "output_type": "stream",
     "text": [
      "100%|██████████| 100/100 [00:00<00:00, 428.35it/s]\n"
     ]
    }
   ],
   "source": [
    "for image,result in tqdm(results.items()):\n",
    "    name = image[:len(image) - 4]\n",
    "    df = pd.DataFrame(result, columns = ['block', 'para', 'line', 'word','confidence', 'X1', 'Y1', 'X2', 'Y2', 'token'])\n",
    "    df.to_csv(TXT_DATA_PATH + 'txt_processed/' +  name + '.txt', sep=' ',index=False)"
   ]
  },
  {
   "cell_type": "code",
   "execution_count": null,
   "outputs": [],
   "source": [],
   "metadata": {
    "collapsed": false
   }
  }
 ],
 "metadata": {
  "kernelspec": {
   "display_name": "Python 3 (ipykernel)",
   "language": "python",
   "name": "python3"
  },
  "language_info": {
   "codemirror_mode": {
    "name": "ipython",
    "version": 3
   },
   "file_extension": ".py",
   "mimetype": "text/x-python",
   "name": "python",
   "nbconvert_exporter": "python",
   "pygments_lexer": "ipython3",
   "version": "3.9.6"
  }
 },
 "nbformat": 4,
 "nbformat_minor": 5
}
