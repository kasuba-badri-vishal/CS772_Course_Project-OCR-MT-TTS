{
 "cells": [
  {
   "cell_type": "code",
   "execution_count": 48,
   "metadata": {
    "collapsed": true
   },
   "outputs": [],
   "source": [
    "import os\n",
    "import pandas as pd\n",
    "from nltk.tokenize import sent_tokenize\n",
    "import re"
   ]
  },
  {
   "cell_type": "code",
   "execution_count": 49,
   "outputs": [],
   "source": [
    "model = 'tesseract'\n",
    "\n",
    "txt_path = './../../results/ocr/' + model + '/txt_processed/'\n",
    "sent_path = './../../results/ocr/' + model + '/para_results/'\n",
    "\n",
    "if not os.path.exists(sent_path):\n",
    "    os.mkdir(sent_path)"
   ],
   "metadata": {
    "collapsed": false
   }
  },
  {
   "cell_type": "code",
   "execution_count": 50,
   "outputs": [],
   "source": [
    "brac_text_pattern = r\"[\\(\\[].*?[\\)\\]]\"\n",
    "brac_pattern = r'[()\\[\\]{}]'\n",
    "eqn_pattern = r'\\b[\\w\\.\\-]+\\s*[+\\-\\.]\\s*[\\w\\.\\-]+\\s*=\\s*[\\w\\.\\-]+\\b'\n",
    "space_pattern = r'[/\\s]{2,}'"
   ],
   "metadata": {
    "collapsed": false
   }
  },
  {
   "cell_type": "code",
   "execution_count": 51,
   "outputs": [],
   "source": [
    "for file in os.listdir(txt_path):\n",
    "    df = pd.read_csv(txt_path + file, sep=' ')\n",
    "    df['token'] = df['token'].astype(str)\n",
    "    x = df['token'].tolist()\n",
    "    val = ' '.join(x)\n",
    "    val = val.replace(\"- \", \"\")\n",
    "    val = re.sub(brac_text_pattern, \"\", val)\n",
    "    val = re.sub(brac_pattern, '', val)\n",
    "    val = re.sub(eqn_pattern, \"\", val, 0, re.MULTILINE)\n",
    "    val = re.sub(space_pattern, ' ', val)\n",
    "    with open(sent_path + file, \"w\") as text_file:\n",
    "        text_file.write(val)\n"
   ],
   "metadata": {
    "collapsed": false
   }
  },
  {
   "cell_type": "code",
   "execution_count": null,
   "outputs": [],
   "source": [],
   "metadata": {
    "collapsed": false
   }
  }
 ],
 "metadata": {
  "kernelspec": {
   "display_name": "Python 3",
   "language": "python",
   "name": "python3"
  },
  "language_info": {
   "codemirror_mode": {
    "name": "ipython",
    "version": 2
   },
   "file_extension": ".py",
   "mimetype": "text/x-python",
   "name": "python",
   "nbconvert_exporter": "python",
   "pygments_lexer": "ipython2",
   "version": "2.7.6"
  }
 },
 "nbformat": 4,
 "nbformat_minor": 0
}
