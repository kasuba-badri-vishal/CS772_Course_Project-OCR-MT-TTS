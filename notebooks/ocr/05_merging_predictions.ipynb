{
 "cells": [
  {
   "cell_type": "code",
   "execution_count": 3,
   "metadata": {
    "collapsed": true
   },
   "outputs": [],
   "source": [
    "import os\n",
    "import pandas as pd\n",
    "from nltk.tokenize import sent_tokenize"
   ]
  },
  {
   "cell_type": "code",
   "execution_count": 4,
   "outputs": [],
   "source": [
    "df = pd.read_csv('./../../results/ocr/dbnet_vgg16/txt/20.tar_1801.07927.gz_Manuscript_V5_0.txt', sep=' ')"
   ],
   "metadata": {
    "collapsed": false
   }
  },
  {
   "cell_type": "code",
   "execution_count": 5,
   "outputs": [],
   "source": [
    "df['token'] = df['token'].astype(str)\n",
    "x = df['token'].tolist()\n",
    "val = ' '.join(x)"
   ],
   "metadata": {
    "collapsed": false
   }
  },
  {
   "cell_type": "code",
   "execution_count": 6,
   "outputs": [
    {
     "data": {
      "text/plain": "['(Dated: January 24, 2018) We present a comprehensible introduction to tight informationally complete mea- surements for arbitrarily large multipartite systems and study their allowed entan- glement configurations, focusing on those requiring simplest possible quantum re- sources.',\n 'We demonstrate that tight measurements cannot be exclusively composed neither by fully separable nor maximally entangled states, according to a selected measure.',\n 'of entanglement.',\n 'We establish an upper bound on the maximal number of fully separable states allowed by tight measurements and we study the distinguished case in which every measurement operator has the same amount of entanglement.',\n 'Furthermore, we introduce the notion of nested tight measurements, i.e.',\n 'multipartite tight informationally complete measurements such that every reduction to a certain number of parties induces a lower dimensional tight measurement, proving that they exist for any number of parties and internal levels.',\n 'Keywords: Informationally complete quantum measurements, SIC-POVM, mutually un- biased bases, quantum entanglement.',\n 'I.',\n 'INTRODUCTION Information stored in physical systems can be retrieved by choosing a suitable set of measurements.',\n 'In quantum mechanics this information can be obtained by considering positive operator valued measures (POVM).',\n 'By implementing a set of measurements over an ensemble of particles it is possible to tomographically reconstruct quantum states.',\n 'The information gained from some special sets of measurements is enough to reconstruct any state of a quantum system.',\n 'Such kind of measurements are called informationally complete (IC)-POVM and the process to reconstruct the state is called quantum state tomography.',\n 'These general measurements have a fundamental importance in quantum information theory, as they find applications in quantum processes tomography I, quantum cryptography 2 Among existing schemes of generalised quantum measurements one distinguishes a class called tight IC-POVM nan 5, having some remarkable properties: (i) they provide a simple and quantum fingerprinting 3.']"
     },
     "execution_count": 6,
     "metadata": {},
     "output_type": "execute_result"
    }
   ],
   "source": [
    "sent_tokenize(val)"
   ],
   "metadata": {
    "collapsed": false
   }
  },
  {
   "cell_type": "code",
   "execution_count": null,
   "outputs": [],
   "source": [
    "from nltk.tokenize import sent_tokenize"
   ],
   "metadata": {
    "collapsed": false
   }
  },
  {
   "cell_type": "code",
   "execution_count": null,
   "outputs": [],
   "source": [
    "pip inst"
   ],
   "metadata": {
    "collapsed": false
   }
  },
  {
   "cell_type": "code",
   "execution_count": null,
   "outputs": [],
   "source": [
    "sent"
   ],
   "metadata": {
    "collapsed": false
   }
  },
  {
   "cell_type": "code",
   "execution_count": null,
   "outputs": [],
   "source": [],
   "metadata": {
    "collapsed": false
   }
  }
 ],
 "metadata": {
  "kernelspec": {
   "display_name": "Python 3",
   "language": "python",
   "name": "python3"
  },
  "language_info": {
   "codemirror_mode": {
    "name": "ipython",
    "version": 2
   },
   "file_extension": ".py",
   "mimetype": "text/x-python",
   "name": "python",
   "nbconvert_exporter": "python",
   "pygments_lexer": "ipython2",
   "version": "2.7.6"
  }
 },
 "nbformat": 4,
 "nbformat_minor": 0
}
