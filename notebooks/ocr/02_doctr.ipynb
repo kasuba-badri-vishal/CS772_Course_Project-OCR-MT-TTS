{
 "cells": [
  {
   "cell_type": "code",
   "execution_count": 2,
   "id": "4cde47c3",
   "metadata": {},
   "outputs": [],
   "source": [
    "import os\n",
    "import pickle\n",
    "import pandas as pd\n",
    "from tqdm import tqdm\n",
    "\n",
    "from doctr.models import ocr_predictor\n",
    "from doctr.io import DocumentFile"
   ]
  },
  {
   "cell_type": "code",
   "execution_count": 3,
   "id": "df066af9",
   "metadata": {
    "scrolled": true
   },
   "outputs": [
    {
     "name": "stderr",
     "output_type": "stream",
     "text": [
      "/Users/badri/Desktop/sem2/CS772/project/venv/lib/python3.9/site-packages/torchvision/models/_utils.py:135: UserWarning: Using 'weights' as positional parameter(s) is deprecated since 0.13 and may be removed in the future. Please use keyword parameter(s) instead.\n",
      "  warnings.warn(\n",
      "/Users/badri/Desktop/sem2/CS772/project/venv/lib/python3.9/site-packages/torchvision/models/_utils.py:223: UserWarning: Arguments other than a weight enum or `None` for 'weights' are deprecated since 0.13 and may be removed in the future. The current behavior is equivalent to passing `weights=None`.\n",
      "  warnings.warn(msg)\n"
     ]
    },
    {
     "name": "stdout",
     "output_type": "stream",
     "text": [
      "Downloading https://doctr-static.mindee.com/models?id=v0.3.1/db_resnet50-ac60cadc.pt&src=0 to /Users/badri/.cache/doctr/models/db_resnet50-ac60cadc.pt\n"
     ]
    },
    {
     "data": {
      "text/plain": "  0%|          | 0/101971449 [00:00<?, ?it/s]",
      "application/vnd.jupyter.widget-view+json": {
       "version_major": 2,
       "version_minor": 0,
       "model_id": "339b42dec9744e628a87d44335792471"
      }
     },
     "metadata": {},
     "output_type": "display_data"
    },
    {
     "name": "stdout",
     "output_type": "stream",
     "text": [
      "Downloading https://doctr-static.mindee.com/models?id=v0.3.1/crnn_vgg16_bn-9762b0b0.pt&src=0 to /Users/badri/.cache/doctr/models/crnn_vgg16_bn-9762b0b0.pt\n"
     ]
    },
    {
     "data": {
      "text/plain": "  0%|          | 0/63286381 [00:00<?, ?it/s]",
      "application/vnd.jupyter.widget-view+json": {
       "version_major": 2,
       "version_minor": 0,
       "model_id": "548c5d642c044fc4abbd86f73b8db3c3"
      }
     },
     "metadata": {},
     "output_type": "display_data"
    }
   ],
   "source": [
    "OCR_DATA_PATH  = './../../data/ocr/docbank/images_processed/'\n",
    "TXT_DATA_PATH  = './../../results/ocr/dbnet_vgg16/'\n",
    "image_data_dir = os.listdir(OCR_DATA_PATH)\n",
    "\n",
    "model = ocr_predictor(det_arch='db_resnet50', reco_arch='crnn_vgg16_bn', pretrained=True)\n",
    "\n",
    "### Available Pretrained\n",
    "#1. db_resnet50\n",
    "#2. db_mobilenet_v3_large\n",
    "\n",
    "#1. crnn_vgg16_bn\n",
    "#2. crnn_mobilenet_v3_large"
   ]
  },
  {
   "cell_type": "code",
   "execution_count": 4,
   "id": "6e07cc96",
   "metadata": {},
   "outputs": [
    {
     "name": "stderr",
     "output_type": "stream",
     "text": [
      "100%|██████████| 100/100 [10:39<00:00,  6.40s/it]\n"
     ]
    }
   ],
   "source": [
    "results = {}\n",
    "\n",
    "for image_file in tqdm(image_data_dir):\n",
    "    doc = DocumentFile.from_images(OCR_DATA_PATH + image_file)\n",
    "    result = model(doc)\n",
    "    results[image_file] = result\n",
    "    \n",
    "with open(TXT_DATA_PATH + 'results_processed.pkl', 'wb') as outp:  # Overwrites any existing file.\n",
    "    pickle.dump(results, outp, pickle.HIGHEST_PROTOCOL)"
   ]
  },
  {
   "cell_type": "code",
   "execution_count": 5,
   "outputs": [],
   "source": [
    "with open('./../../results/ocr/dbnet_vgg16/results_processed.pkl', 'rb') as f:\n",
    "    results = pickle.load(f)"
   ],
   "metadata": {
    "collapsed": false
   }
  },
  {
   "cell_type": "code",
   "execution_count": 6,
   "id": "7743a47b",
   "metadata": {},
   "outputs": [
    {
     "name": "stderr",
     "output_type": "stream",
     "text": [
      "100%|██████████| 100/100 [00:00<00:00, 1169.27it/s]\n",
      "100%|██████████| 100/100 [00:00<00:00, 588.40it/s]\n"
     ]
    }
   ],
   "source": [
    "total = {}\n",
    "for image,result in tqdm(results.items()):\n",
    "    dim = tuple(reversed(result.pages[0].dimensions))\n",
    "    predictions = []\n",
    "    block_id = 0\n",
    "    for block in result.pages[0].blocks:\n",
    "        line_id = 0\n",
    "        for line in block.lines:\n",
    "            for word in line.words:\n",
    "                values = []\n",
    "                geo = word.geometry\n",
    "                a = list(int(a*b) for a,b in zip(geo[0],dim))\n",
    "                b = list(int(a*b) for a,b in zip(geo[1],dim))\n",
    "                values.append(block_id)\n",
    "                values.append(line_id)\n",
    "                values.append(word.confidence)\n",
    "                values.append(a[0])\n",
    "                values.append(a[1])\n",
    "                values.append(b[0])\n",
    "                values.append(b[1])\n",
    "                values.append(word.value)\n",
    "                predictions.append(values)\n",
    "            line_id += 1\n",
    "        block_id += 1\n",
    "    total[image] = predictions\n",
    "    \n",
    "    \n",
    "for image,result in tqdm(total.items()):\n",
    "    name = image[:len(image) - 4]\n",
    "    df = pd.DataFrame(result, columns = ['block', 'line', 'confidence', 'X1', 'Y1', 'X2', 'Y2', 'token'])\n",
    "    df.to_csv(TXT_DATA_PATH + 'txt_processed/' + name + '.txt', sep=' ',index=False)"
   ]
  },
  {
   "cell_type": "code",
   "execution_count": null,
   "id": "99b5fb31",
   "metadata": {},
   "outputs": [],
   "source": []
  }
 ],
 "metadata": {
  "kernelspec": {
   "display_name": "Python 3 (ipykernel)",
   "language": "python",
   "name": "python3"
  },
  "language_info": {
   "codemirror_mode": {
    "name": "ipython",
    "version": 3
   },
   "file_extension": ".py",
   "mimetype": "text/x-python",
   "name": "python",
   "nbconvert_exporter": "python",
   "pygments_lexer": "ipython3",
   "version": "3.9.6"
  }
 },
 "nbformat": 4,
 "nbformat_minor": 5
}
