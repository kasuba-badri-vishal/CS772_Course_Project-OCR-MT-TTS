{
 "cells": [
  {
   "cell_type": "markdown",
   "id": "8e5a3c75",
   "metadata": {},
   "source": [
    "### Imports"
   ]
  },
  {
   "cell_type": "code",
   "execution_count": 12,
   "id": "045c6908",
   "metadata": {},
   "outputs": [
    {
     "data": {
      "text/plain": [
       "({'raw': 0.0, 'caseless': 0.0, 'unidecode': 0.0, 'unicase': 0.0},\n",
       " {'raw': 0.0, 'caseless': 0.0, 'unidecode': 0.0, 'unicase': 0.0},\n",
       " 0.63)"
      ]
     },
     "execution_count": 12,
     "metadata": {},
     "output_type": "execute_result"
    }
   ],
   "source": [
    "import numpy as np\n",
    "from doctr.utils import OCRMetric\n",
    "metric = OCRMetric(iou_thresh=0.7)\n",
    "metric.update(np.asarray([[0, 0, 100, 100]]), np.asarray([[0, 0, 90, 70]]),\n",
    "              ['hello'], ['hello'])\n",
    "metric.summary()"
   ]
  },
  {
   "cell_type": "code",
   "execution_count": 13,
   "id": "6b489e22",
   "metadata": {},
   "outputs": [
    {
     "data": {
      "text/plain": [
       "0"
      ]
     },
     "execution_count": 13,
     "metadata": {},
     "output_type": "execute_result"
    }
   ],
   "source": [
    "metric.caseless_matches"
   ]
  },
  {
   "cell_type": "code",
   "execution_count": null,
   "id": "9c02df42",
   "metadata": {},
   "outputs": [],
   "source": []
  }
 ],
 "metadata": {
  "kernelspec": {
   "display_name": "Python 3 (ipykernel)",
   "language": "python",
   "name": "python3"
  },
  "language_info": {
   "codemirror_mode": {
    "name": "ipython",
    "version": 3
   },
   "file_extension": ".py",
   "mimetype": "text/x-python",
   "name": "python",
   "nbconvert_exporter": "python",
   "pygments_lexer": "ipython3",
   "version": "3.9.6"
  }
 },
 "nbformat": 4,
 "nbformat_minor": 5
}
