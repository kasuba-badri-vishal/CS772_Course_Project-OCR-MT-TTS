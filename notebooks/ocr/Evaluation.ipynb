{
 "cells": [
  {
   "cell_type": "markdown",
   "id": "8e5a3c75",
   "metadata": {},
   "source": [
    "### Imports"
   ]
  },
  {
   "cell_type": "code",
   "execution_count": 27,
   "id": "045c6908",
   "metadata": {},
   "outputs": [],
   "source": [
    "import numpy as np\n",
    "import pandas as pd\n",
    "import fastwer\n",
    "import os"
   ]
  },
  {
   "cell_type": "markdown",
   "id": "5883edd1",
   "metadata": {},
   "source": [
    "### Functions"
   ]
  },
  {
   "cell_type": "code",
   "execution_count": 28,
   "id": "f19aef55",
   "metadata": {},
   "outputs": [],
   "source": [
    "import numpy as np\n",
    "\n",
    "def calculate_iou(boxes1, boxes2):\n",
    "    \"\"\"Calculate intersection over union (IOU) between two sets of bounding boxes\"\"\"\n",
    "    boxes1 = np.array(boxes1)\n",
    "    boxes2 = np.array(boxes2)\n",
    "\n",
    "    x1 = np.maximum(boxes1[:, 0], boxes2[:, 0])\n",
    "    y1 = np.maximum(boxes1[:, 1], boxes2[:, 1])\n",
    "    x2 = np.minimum(boxes1[:, 0] + boxes1[:, 2], boxes2[:, 0] + boxes2[:, 2])\n",
    "    y2 = np.minimum(boxes1[:, 1] + boxes1[:, 3], boxes2[:, 1] + boxes2[:, 3])\n",
    "\n",
    "    intersection = np.maximum(x2 - x1, 0) * np.maximum(y2 - y1, 0)\n",
    "    area1 = boxes1[:, 2] * boxes1[:, 3]\n",
    "    area2 = boxes2[:, 2] * boxes2[:, 3]\n",
    "    union = area1 + area2 - intersection\n",
    "    iou = intersection / union\n",
    "\n",
    "    return iou\n",
    "\n",
    "def calculate_metrics(ground_truth, predictions, iou_threshold):\n",
    "    \"\"\"Calculate mAP, precision, recall, and f1score given ground truth and predicted bounding boxes\"\"\"\n",
    "    ground_truth = np.array(ground_truth)\n",
    "    predictions = np.array(predictions)\n",
    "\n",
    "    iou = calculate_iou(ground_truth, predictions)\n",
    "    iou_above_threshold = iou >= iou_threshold\n",
    "\n",
    "    true_positives = set()\n",
    "    false_positives = set(range(predictions.shape[0]))\n",
    "    false_negatives = set(range(ground_truth.shape[0]))\n",
    "\n",
    "    while np.any(iou_above_threshold):\n",
    "        gt_idx, pred_idx = np.unravel_index(np.argmax(iou), iou.shape)\n",
    "        if gt_idx not in false_negatives and pred_idx not in false_positives:\n",
    "            true_positives.add((gt_idx, pred_idx))\n",
    "        iou_above_threshold[gt_idx, :] = False\n",
    "        iou_above_threshold[:, pred_idx] = False\n",
    "\n",
    "    tp_count = len(true_positives)\n",
    "    fp_count = predictions.shape[0] - tp_count\n",
    "    fn_count = ground_truth.shape[0] - tp_count\n",
    "\n",
    "    precision = tp_count / (tp_count + fp_count)\n",
    "    recall = tp_count / (tp_count + fn_count)\n",
    "    f1score = 2 * precision * recall / (precision + recall)\n",
    "    average_iou = np.sum(np.max(iou, axis=1)) / iou.shape[0]\n",
    "\n",
    "    return precision, recall, f1score, average_iou"
   ]
  },
  {
   "cell_type": "code",
   "execution_count": 29,
   "outputs": [],
   "source": [
    "pred_dir = './../../results/ocr/dbnet_vgg16/txt/'\n",
    "gt_dir = './../../data/ocr/docbank/txt/'"
   ],
   "metadata": {
    "collapsed": false
   }
  },
  {
   "cell_type": "code",
   "execution_count": 30,
   "outputs": [
    {
     "ename": "ValueError",
     "evalue": "operands could not be broadcast together with shapes (446,) (337,) ",
     "output_type": "error",
     "traceback": [
      "\u001B[0;31m---------------------------------------------------------------------------\u001B[0m",
      "\u001B[0;31mValueError\u001B[0m                                Traceback (most recent call last)",
      "Cell \u001B[0;32mIn[30], line 7\u001B[0m\n\u001B[1;32m      5\u001B[0m preds \u001B[38;5;241m=\u001B[39m df[[\u001B[38;5;124m'\u001B[39m\u001B[38;5;124mX1\u001B[39m\u001B[38;5;124m'\u001B[39m,\u001B[38;5;124m'\u001B[39m\u001B[38;5;124mY1\u001B[39m\u001B[38;5;124m'\u001B[39m,\u001B[38;5;124m'\u001B[39m\u001B[38;5;124mX2\u001B[39m\u001B[38;5;124m'\u001B[39m,\u001B[38;5;124m'\u001B[39m\u001B[38;5;124mY2\u001B[39m\u001B[38;5;124m'\u001B[39m]]\u001B[38;5;241m.\u001B[39mvalues\u001B[38;5;241m.\u001B[39mtolist()\n\u001B[1;32m      6\u001B[0m gts \u001B[38;5;241m=\u001B[39m  gt_df[[\u001B[38;5;124m'\u001B[39m\u001B[38;5;124mX1\u001B[39m\u001B[38;5;124m'\u001B[39m,\u001B[38;5;124m'\u001B[39m\u001B[38;5;124mY1\u001B[39m\u001B[38;5;124m'\u001B[39m,\u001B[38;5;124m'\u001B[39m\u001B[38;5;124mX2\u001B[39m\u001B[38;5;124m'\u001B[39m,\u001B[38;5;124m'\u001B[39m\u001B[38;5;124mY2\u001B[39m\u001B[38;5;124m'\u001B[39m]]\u001B[38;5;241m.\u001B[39mvalues\u001B[38;5;241m.\u001B[39mtolist()\n\u001B[0;32m----> 7\u001B[0m \u001B[38;5;28mprint\u001B[39m(\u001B[43mcalculate_metrics\u001B[49m\u001B[43m(\u001B[49m\u001B[43mgts\u001B[49m\u001B[43m,\u001B[49m\u001B[43m \u001B[49m\u001B[43mpreds\u001B[49m\u001B[43m,\u001B[49m\u001B[43m \u001B[49m\u001B[38;5;241;43m0.7\u001B[39;49m\u001B[43m)\u001B[49m)\n",
      "Cell \u001B[0;32mIn[28], line 26\u001B[0m, in \u001B[0;36mcalculate_metrics\u001B[0;34m(ground_truth, predictions, iou_threshold)\u001B[0m\n\u001B[1;32m     23\u001B[0m ground_truth \u001B[38;5;241m=\u001B[39m np\u001B[38;5;241m.\u001B[39marray(ground_truth)\n\u001B[1;32m     24\u001B[0m predictions \u001B[38;5;241m=\u001B[39m np\u001B[38;5;241m.\u001B[39marray(predictions)\n\u001B[0;32m---> 26\u001B[0m iou \u001B[38;5;241m=\u001B[39m \u001B[43mcalculate_iou\u001B[49m\u001B[43m(\u001B[49m\u001B[43mground_truth\u001B[49m\u001B[43m,\u001B[49m\u001B[43m \u001B[49m\u001B[43mpredictions\u001B[49m\u001B[43m)\u001B[49m\n\u001B[1;32m     27\u001B[0m iou_above_threshold \u001B[38;5;241m=\u001B[39m iou \u001B[38;5;241m>\u001B[39m\u001B[38;5;241m=\u001B[39m iou_threshold\n\u001B[1;32m     29\u001B[0m true_positives \u001B[38;5;241m=\u001B[39m \u001B[38;5;28mset\u001B[39m()\n",
      "Cell \u001B[0;32mIn[28], line 8\u001B[0m, in \u001B[0;36mcalculate_iou\u001B[0;34m(boxes1, boxes2)\u001B[0m\n\u001B[1;32m      5\u001B[0m boxes1 \u001B[38;5;241m=\u001B[39m np\u001B[38;5;241m.\u001B[39marray(boxes1)\n\u001B[1;32m      6\u001B[0m boxes2 \u001B[38;5;241m=\u001B[39m np\u001B[38;5;241m.\u001B[39marray(boxes2)\n\u001B[0;32m----> 8\u001B[0m x1 \u001B[38;5;241m=\u001B[39m \u001B[43mnp\u001B[49m\u001B[38;5;241;43m.\u001B[39;49m\u001B[43mmaximum\u001B[49m\u001B[43m(\u001B[49m\u001B[43mboxes1\u001B[49m\u001B[43m[\u001B[49m\u001B[43m:\u001B[49m\u001B[43m,\u001B[49m\u001B[43m \u001B[49m\u001B[38;5;241;43m0\u001B[39;49m\u001B[43m]\u001B[49m\u001B[43m,\u001B[49m\u001B[43m \u001B[49m\u001B[43mboxes2\u001B[49m\u001B[43m[\u001B[49m\u001B[43m:\u001B[49m\u001B[43m,\u001B[49m\u001B[43m \u001B[49m\u001B[38;5;241;43m0\u001B[39;49m\u001B[43m]\u001B[49m\u001B[43m)\u001B[49m\n\u001B[1;32m      9\u001B[0m y1 \u001B[38;5;241m=\u001B[39m np\u001B[38;5;241m.\u001B[39mmaximum(boxes1[:, \u001B[38;5;241m1\u001B[39m], boxes2[:, \u001B[38;5;241m1\u001B[39m])\n\u001B[1;32m     10\u001B[0m x2 \u001B[38;5;241m=\u001B[39m np\u001B[38;5;241m.\u001B[39mminimum(boxes1[:, \u001B[38;5;241m0\u001B[39m] \u001B[38;5;241m+\u001B[39m boxes1[:, \u001B[38;5;241m2\u001B[39m], boxes2[:, \u001B[38;5;241m0\u001B[39m] \u001B[38;5;241m+\u001B[39m boxes2[:, \u001B[38;5;241m2\u001B[39m])\n",
      "\u001B[0;31mValueError\u001B[0m: operands could not be broadcast together with shapes (446,) (337,) "
     ]
    }
   ],
   "source": [
    "for file in os.listdir(pred_dir):\n",
    "    df = pd.read_csv(pred_dir + file, sep=' ')\n",
    "    gt_df = pd.read_csv(gt_dir + file, sep=' ')\n",
    "\n",
    "    preds = df[['X1','Y1','X2','Y2']].values.tolist()\n",
    "    gts =  gt_df[['X1','Y1','X2','Y2']].values.tolist()\n",
    "    print(calculate_metrics(gts, preds, 0.7))"
   ],
   "metadata": {
    "collapsed": false
   }
  },
  {
   "cell_type": "code",
   "execution_count": 32,
   "id": "b59de284",
   "metadata": {},
   "outputs": [
    {
     "data": {
      "text/plain": "446"
     },
     "execution_count": 32,
     "metadata": {},
     "output_type": "execute_result"
    }
   ],
   "source": [
    "len(gts)"
   ]
  },
  {
   "cell_type": "code",
   "execution_count": 26,
   "outputs": [
    {
     "data": {
      "text/plain": "     block  line  confidence    X1    Y1    X2    Y2     token\n0        0     0    0.999791  1542    75  1566   109         9\n1        1     0    0.999841   176   182   251   210     where\n2        1     0    0.999616   253   178   302   214       the\n3        1     0    0.999145   302   182   411   216  operator\n4        1     0    0.970303   413   180   444   212         D\n..     ...   ...         ...   ...   ...   ...   ...       ...\n332     27     0    0.514569   825  1971   927  2005     u).a)\n333     27     0    0.995181   925  1973   956  2003         +\n334     27     0    0.571552   956  1971  1114  2003   (Vu):a-\n335     27     0    0.486981  1111  1971  1246  2005    Va:a),\n336     28     0    0.999792  1511  1968  1566  2010      (65)\n\n[337 rows x 8 columns]",
      "text/html": "<div>\n<style scoped>\n    .dataframe tbody tr th:only-of-type {\n        vertical-align: middle;\n    }\n\n    .dataframe tbody tr th {\n        vertical-align: top;\n    }\n\n    .dataframe thead th {\n        text-align: right;\n    }\n</style>\n<table border=\"1\" class=\"dataframe\">\n  <thead>\n    <tr style=\"text-align: right;\">\n      <th></th>\n      <th>block</th>\n      <th>line</th>\n      <th>confidence</th>\n      <th>X1</th>\n      <th>Y1</th>\n      <th>X2</th>\n      <th>Y2</th>\n      <th>token</th>\n    </tr>\n  </thead>\n  <tbody>\n    <tr>\n      <th>0</th>\n      <td>0</td>\n      <td>0</td>\n      <td>0.999791</td>\n      <td>1542</td>\n      <td>75</td>\n      <td>1566</td>\n      <td>109</td>\n      <td>9</td>\n    </tr>\n    <tr>\n      <th>1</th>\n      <td>1</td>\n      <td>0</td>\n      <td>0.999841</td>\n      <td>176</td>\n      <td>182</td>\n      <td>251</td>\n      <td>210</td>\n      <td>where</td>\n    </tr>\n    <tr>\n      <th>2</th>\n      <td>1</td>\n      <td>0</td>\n      <td>0.999616</td>\n      <td>253</td>\n      <td>178</td>\n      <td>302</td>\n      <td>214</td>\n      <td>the</td>\n    </tr>\n    <tr>\n      <th>3</th>\n      <td>1</td>\n      <td>0</td>\n      <td>0.999145</td>\n      <td>302</td>\n      <td>182</td>\n      <td>411</td>\n      <td>216</td>\n      <td>operator</td>\n    </tr>\n    <tr>\n      <th>4</th>\n      <td>1</td>\n      <td>0</td>\n      <td>0.970303</td>\n      <td>413</td>\n      <td>180</td>\n      <td>444</td>\n      <td>212</td>\n      <td>D</td>\n    </tr>\n    <tr>\n      <th>...</th>\n      <td>...</td>\n      <td>...</td>\n      <td>...</td>\n      <td>...</td>\n      <td>...</td>\n      <td>...</td>\n      <td>...</td>\n      <td>...</td>\n    </tr>\n    <tr>\n      <th>332</th>\n      <td>27</td>\n      <td>0</td>\n      <td>0.514569</td>\n      <td>825</td>\n      <td>1971</td>\n      <td>927</td>\n      <td>2005</td>\n      <td>u).a)</td>\n    </tr>\n    <tr>\n      <th>333</th>\n      <td>27</td>\n      <td>0</td>\n      <td>0.995181</td>\n      <td>925</td>\n      <td>1973</td>\n      <td>956</td>\n      <td>2003</td>\n      <td>+</td>\n    </tr>\n    <tr>\n      <th>334</th>\n      <td>27</td>\n      <td>0</td>\n      <td>0.571552</td>\n      <td>956</td>\n      <td>1971</td>\n      <td>1114</td>\n      <td>2003</td>\n      <td>(Vu):a-</td>\n    </tr>\n    <tr>\n      <th>335</th>\n      <td>27</td>\n      <td>0</td>\n      <td>0.486981</td>\n      <td>1111</td>\n      <td>1971</td>\n      <td>1246</td>\n      <td>2005</td>\n      <td>Va:a),</td>\n    </tr>\n    <tr>\n      <th>336</th>\n      <td>28</td>\n      <td>0</td>\n      <td>0.999792</td>\n      <td>1511</td>\n      <td>1968</td>\n      <td>1566</td>\n      <td>2010</td>\n      <td>(65)</td>\n    </tr>\n  </tbody>\n</table>\n<p>337 rows × 8 columns</p>\n</div>"
     },
     "execution_count": 26,
     "metadata": {},
     "output_type": "execute_result"
    }
   ],
   "source": [
    "gt_df"
   ],
   "metadata": {
    "collapsed": false
   }
  },
  {
   "cell_type": "code",
   "execution_count": 4,
   "id": "124ea28a",
   "metadata": {},
   "outputs": [
    {
     "name": "stdout",
     "output_type": "stream",
     "text": [
      "40.0\n",
      "25.5814\n",
      "40.0\n",
      "22.7273\n"
     ]
    }
   ],
   "source": [
    "hypo = ['This is an example .', 'This is another example .']\n",
    "ref = ['This is the example :)', 'That is the example .']\n",
    "\n",
    "# Corpus-Level WER: 40.0\n",
    "print(fastwer.score(hypo, ref))\n",
    "# Corpus-Level CER: 25.5814\n",
    "print(fastwer.score(hypo, ref, char_level=True))\n",
    "\n",
    "# Sentence-Level WER: 40.0\n",
    "print(fastwer.score_sent(hypo[0], ref[0]))\n",
    "# Sentence-Level CER: 22.7273\n",
    "print(fastwer.score_sent(hypo[0], ref[0], char_level=True))"
   ]
  },
  {
   "cell_type": "code",
   "execution_count": null,
   "id": "07d461af",
   "metadata": {},
   "outputs": [],
   "source": [
    "def calculate_iou(box1, box2):\n",
    "    \"\"\"Calculate intersection over union (IOU) of two bounding boxes\"\"\"\n",
    "    x1, y1, w1, h1 = box1\n",
    "    x2, y2, w2, h2 = box2\n",
    "    area1 = w1 * h1\n",
    "    area2 = w2 * h2\n",
    "    x_left = max(x1, x2)\n",
    "    y_top = max(y1, y2)\n",
    "    x_right = min(x1 + w1, x2 + w2)\n",
    "    y_bottom = min(y1 + h1, y2 + h2)\n",
    "    if x_right < x_left or y_bottom < y_top:\n",
    "        return 0.0\n",
    "    intersection_area = (x_right - x_left) * (y_bottom - y_top)\n",
    "    union_area = area1 + area2 - intersection_area\n",
    "    return intersection_area / union_area\n",
    "\n",
    "def calculate_metrics(ground_truth, predictions, iou_threshold):\n",
    "    \"\"\"Calculate mAP, precision, recall, and f1score given ground truth and predicted bounding boxes\"\"\"\n",
    "    tp, fp, fn = 0, 0, 0\n",
    "    iou_sum = 0.0\n",
    "    for gt_box in ground_truth:\n",
    "        iou_max = 0.0\n",
    "        for pred_box in predictions:\n",
    "            iou = calculate_iou(gt_box, pred_box)\n",
    "            if iou >= iou_threshold and iou > iou_max:\n",
    "                tp += 1\n",
    "                iou_sum += iou\n",
    "                iou_max = iou\n",
    "            elif iou >= iou_threshold:\n",
    "                fp += 1\n",
    "        if iou_max < iou_threshold:\n",
    "            fn += 1\n",
    "    precision = tp / (tp + fp)\n",
    "    recall = tp / (tp + fn)\n",
    "    f1score = 2 * precision * recall / (precision + recall)\n",
    "    if tp == 0:\n",
    "        average_iou = 0.0\n",
    "    else:\n",
    "        average_iou = iou_sum / tp\n",
    "    return precision, recall, f1score, average_iou\n"
   ]
  },
  {
   "cell_type": "code",
   "execution_count": null,
   "id": "87ecd914",
   "metadata": {},
   "outputs": [],
   "source": [
    "import numpy as np\n",
    "\n",
    "def calculate_iou(boxes1, boxes2):\n",
    "    \"\"\"Calculate intersection over union (IOU) between two sets of bounding boxes\"\"\"\n",
    "    boxes1 = np.array(boxes1)\n",
    "    boxes2 = np.array(boxes2)\n",
    "\n",
    "    x1 = np.maximum(boxes1[:, 0], boxes2[:, 0])\n",
    "    y1 = np.maximum(boxes1[:, 1], boxes2[:, 1])\n",
    "    x2 = np.minimum(boxes1[:, 0] + boxes1[:, 2], boxes2[:, 0] + boxes2[:, 2])\n",
    "    y2 = np.minimum(boxes1[:, 1] + boxes1[:, 3], boxes2[:, 1] + boxes2[:, 3])\n",
    "\n",
    "    intersection = np.maximum(x2 - x1, 0) * np.maximum(y2 - y1, 0)\n",
    "    area1 = boxes1[:, 2] * boxes1[:, 3]\n",
    "    area2 = boxes2[:, 2] * boxes2[:, 3]\n",
    "    union = area1 + area2 - intersection\n",
    "    iou = intersection / union\n",
    "\n",
    "    return iou\n",
    "\n",
    "def calculate_metrics(ground_truth, predictions, iou_threshold):\n",
    "    \"\"\"Calculate mAP, precision, recall, and f1score given ground truth and predicted bounding boxes\"\"\"\n",
    "    ground_truth = np.array(ground_truth)\n",
    "    predictions = np.array(predictions)\n",
    "\n",
    "    iou = calculate_iou(ground_truth, predictions)\n",
    "    tp = 0\n",
    "    fp = 0\n",
    "    fn = 0\n",
    "    iou_sum = 0.0\n",
    "\n",
    "    for i in range(len(ground_truth)):\n",
    "        iou_gt = iou[i]\n",
    "        tp_pred = np.sum(iou_gt >= iou_threshold)\n",
    "        fp_pred = np.sum(iou_gt < iou_threshold)\n",
    "        tp += tp_pred\n",
    "        fp += fp_pred\n",
    "\n",
    "        if tp_pred == 0:\n",
    "            fn += 1\n",
    "        else:\n",
    "            iou_sum += np.max(iou_gt)\n",
    "\n",
    "    precision = tp / (tp + fp)\n",
    "    recall = tp / (tp + fn)\n",
    "    f1score = 2 * precision * recall / (precision + recall)\n",
    "    if tp == 0:\n",
    "        average_iou = 0.0\n",
    "    else:\n",
    "        average_iou = iou_sum / tp\n",
    "\n",
    "    return precision, recall, f1score, average_iou\n"
   ]
  }
 ],
 "metadata": {
  "kernelspec": {
   "display_name": "Python 3 (ipykernel)",
   "language": "python",
   "name": "python3"
  },
  "language_info": {
   "codemirror_mode": {
    "name": "ipython",
    "version": 3
   },
   "file_extension": ".py",
   "mimetype": "text/x-python",
   "name": "python",
   "nbconvert_exporter": "python",
   "pygments_lexer": "ipython3",
   "version": "3.9.6"
  }
 },
 "nbformat": 4,
 "nbformat_minor": 5
}
