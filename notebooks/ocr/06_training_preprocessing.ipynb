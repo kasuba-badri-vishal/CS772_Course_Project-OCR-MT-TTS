{
 "cells": [
  {
   "cell_type": "code",
   "execution_count": 8,
   "metadata": {
    "collapsed": true
   },
   "outputs": [],
   "source": [
    "import pandas as pd\n",
    "import numpy as np\n",
    "import os\n",
    "import cv2\n",
    "from PIL import Image\n",
    "import json\n",
    "import shutil"
   ]
  },
  {
   "cell_type": "code",
   "execution_count": 9,
   "metadata": {
    "collapsed": false
   },
   "outputs": [],
   "source": [
    "txtpath = './../../data/ocr/docbank/txt_processed/'\n",
    "imgpath = './../../data/ocr/docbank/images_processed/'\n",
    "\n",
    "txt_files = os.listdir(txtpath)\n",
    "rec_train_path = './../../data/ocr/docbank/train/recognition_train/'\n",
    "det_train_path = './../../data/ocr/docbank/train/detection_train/'\n",
    "rec_val_path = './../../data/ocr/docbank/val/recognition_val/'\n",
    "det_val_path = './../../data/ocr/docbank/val/detection_val/'"
   ]
  },
  {
   "cell_type": "markdown",
   "metadata": {
    "collapsed": false
   },
   "source": [
    "### Make Directories"
   ]
  },
  {
   "cell_type": "code",
   "execution_count": 10,
   "metadata": {
    "collapsed": false
   },
   "outputs": [],
   "source": [
    "if not (os.path.exists(rec_train_path + 'images/')):\n",
    "    os.makedirs(rec_train_path + 'images/')\n",
    "\n",
    "if not (os.path.exists(det_train_path + 'images/')):\n",
    "    os.makedirs(det_train_path + 'images/')\n",
    "\n",
    "if not (os.path.exists(rec_val_path + 'images/')):\n",
    "    os.makedirs(rec_val_path + 'images/')\n",
    "\n",
    "if not (os.path.exists(det_val_path + 'images/')):\n",
    "    os.makedirs(det_val_path + 'images/')"
   ]
  },
  {
   "cell_type": "markdown",
   "metadata": {
    "collapsed": false
   },
   "source": [
    "## Get Train Labels"
   ]
  },
  {
   "cell_type": "code",
   "execution_count": 11,
   "metadata": {
    "collapsed": false
   },
   "outputs": [],
   "source": [
    "val_files = txt_files[:len(txt_files)//10]\n",
    "train_files = txt_files[len(txt_files)//10:]"
   ]
  },
  {
   "cell_type": "markdown",
   "metadata": {
    "collapsed": false
   },
   "source": [
    "### Get Cropped Images"
   ]
  },
  {
   "cell_type": "code",
   "execution_count": 13,
   "metadata": {
    "collapsed": false
   },
   "outputs": [],
   "source": [
    "count = 0\n",
    "labels = {}\n",
    "\n",
    "imgs_path = rec_train_path + 'images/'\n",
    "for file in train_files:\n",
    "    df = pd.read_csv(txtpath + file, delimiter=' ')\n",
    "    img = Image.open(imgpath + file[:-4] + \".jpg\")\n",
    "    for i in range(df.shape[0]):\n",
    "        X1, Y1, X2, Y2  = (df['X1'][i], df['Y1'][i], df['X2'][i], df['Y2'][i])\n",
    "        crop = img.crop((X1, Y1, X2, Y2))\n",
    "        try:\n",
    "            file_name = str(count) + '.jpg'\n",
    "            crop.save(imgs_path + file_name)\n",
    "            count +=1\n",
    "            labels[file_name] = str(df['token'][i])\n",
    "        except:\n",
    "            continue\n",
    "\n",
    "with open(rec_train_path + 'labels.json', 'w', encoding='utf-8') as f:\n",
    "    json.dump(labels, f, ensure_ascii=False, indent=4)"
   ]
  },
  {
   "cell_type": "markdown",
   "metadata": {
    "collapsed": false
   },
   "source": [
    "### Save Detection Data"
   ]
  },
  {
   "cell_type": "code",
   "execution_count": 14,
   "metadata": {
    "collapsed": false
   },
   "outputs": [],
   "source": [
    "det_labels = {}\n",
    "\n",
    "for file in train_files:\n",
    "    df = pd.read_csv(txtpath + file, delimiter=' ')\n",
    "    file_name = file[:-4] + \".jpg\"\n",
    "    img = cv2.imread(imgpath + file_name)\n",
    "    shutil.copy(imgpath+file_name, det_train_path+'images/' + file_name)\n",
    "    temp = {}\n",
    "    temp['img_dimensions'] = img.shape\n",
    "\n",
    "    boxes = []\n",
    "    for _, row in df.iterrows():\n",
    "        box = []\n",
    "        box.append([row['X1'], row['Y1']])\n",
    "        box.append([row['X2'], row['Y1']])\n",
    "        box.append([row['X1'], row['Y2']])\n",
    "        box.append([row['X2'], row['Y2']])\n",
    "        boxes.append(box)\n",
    "\n",
    "    temp['img_hash'] = ''\n",
    "    temp['polygons'] = boxes\n",
    "\n",
    "    det_labels[file[:-4] + \".jpg\"] = temp\n",
    "\n",
    "with open(det_train_path + 'labels.json', 'w', encoding='utf-8') as f:\n",
    "    json.dump(det_labels, f, ensure_ascii=False, indent=4)\n"
   ]
  },
  {
   "cell_type": "markdown",
   "metadata": {
    "collapsed": false
   },
   "source": [
    "## Get Val Labels"
   ]
  },
  {
   "cell_type": "code",
   "execution_count": 15,
   "metadata": {
    "collapsed": false
   },
   "outputs": [],
   "source": [
    "count = 0\n",
    "labels = {}\n",
    "\n",
    "imgs_path = rec_val_path + 'images/'\n",
    "for file in val_files:\n",
    "    df = pd.read_csv(txtpath + file, delimiter=' ')\n",
    "    img = Image.open(imgpath + file[:-4] + \".jpg\")\n",
    "    for i in range(df.shape[0]):\n",
    "        X1, Y1, X2, Y2  = (df['X1'][i], df['Y1'][i], df['X2'][i], df['Y2'][i])\n",
    "        crop = img.crop((X1, Y1, X2, Y2))\n",
    "        try:\n",
    "            file_name = str(count) + '.jpg'\n",
    "            crop.save(imgs_path + file_name)\n",
    "            count +=1\n",
    "            value = str(df['token'][i])\n",
    "            labels[file_name] = value\n",
    "        except:\n",
    "            continue\n",
    "\n",
    "with open(rec_val_path + 'labels.json', 'w', encoding='utf-8') as f:\n",
    "    json.dump(labels, f, ensure_ascii=False, indent=4)"
   ]
  },
  {
   "cell_type": "code",
   "execution_count": 16,
   "metadata": {
    "collapsed": false
   },
   "outputs": [],
   "source": [
    "det_labels = {}\n",
    "\n",
    "for file in val_files:\n",
    "    df = pd.read_csv(txtpath + file, delimiter=' ')\n",
    "    file_name = file[:-4] + \".jpg\"\n",
    "    img = cv2.imread(imgpath + file_name)\n",
    "    shutil.copy2(imgpath+file_name, det_val_path+'images/' + file_name)\n",
    "    temp = {}\n",
    "    temp['img_dimensions'] = img.shape\n",
    "\n",
    "    boxes = []\n",
    "    for _, row in df.iterrows():\n",
    "        box = []\n",
    "        box.append([row['X1'], row['Y1']])\n",
    "        box.append([row['X2'], row['Y1']])\n",
    "        box.append([row['X1'], row['Y2']])\n",
    "        box.append([row['X2'], row['Y2']])\n",
    "        boxes.append(box)\n",
    "\n",
    "    temp['img_hash'] = ''\n",
    "    temp['polygons'] = boxes\n",
    "\n",
    "    det_labels[file_name] = temp\n",
    "\n",
    "with open(det_val_path + 'labels.json', 'w', encoding='utf-8') as f:\n",
    "    json.dump(det_labels, f, ensure_ascii=False, indent=4)\n"
   ]
  },
  {
   "cell_type": "code",
   "execution_count": null,
   "metadata": {
    "collapsed": false
   },
   "outputs": [],
   "source": []
  }
 ],
 "metadata": {
  "kernelspec": {
   "display_name": "Python 3",
   "language": "python",
   "name": "python3"
  },
  "language_info": {
   "codemirror_mode": {
    "name": "ipython",
    "version": 3
   },
   "file_extension": ".py",
   "mimetype": "text/x-python",
   "name": "python",
   "nbconvert_exporter": "python",
   "pygments_lexer": "ipython3",
   "version": "3.9.6"
  }
 },
 "nbformat": 4,
 "nbformat_minor": 0
}
