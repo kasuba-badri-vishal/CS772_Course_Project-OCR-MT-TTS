{
 "cells": [
  {
   "cell_type": "code",
   "execution_count": 81,
   "metadata": {
    "collapsed": true
   },
   "outputs": [],
   "source": [
    "import pandas as pd\n",
    "import numpy as np\n",
    "import os\n",
    "import cv2\n",
    "from PIL import Image\n",
    "import json\n",
    "import shutil"
   ]
  },
  {
   "cell_type": "code",
   "execution_count": 82,
   "outputs": [],
   "source": [
    "txtpath = './../../data/ocr/docbank/txt_processed/'\n",
    "imgpath = './../../data/ocr/docbank/images_processed/'\n",
    "\n",
    "txt_files = os.listdir(txtpath)\n",
    "rec_train_path = './../../data/ocr/docbank/train/recognition_train/'\n",
    "det_train_path = './../../data/ocr/docbank/train/detection_train/'\n",
    "rec_val_path = './../../data/ocr/docbank/val/recognition_train/'\n",
    "det_val_path = './../../data/ocr/docbank/val/detection_train/'"
   ],
   "metadata": {
    "collapsed": false
   }
  },
  {
   "cell_type": "markdown",
   "source": [
    "### Make Directories"
   ],
   "metadata": {
    "collapsed": false
   }
  },
  {
   "cell_type": "code",
   "execution_count": 83,
   "outputs": [],
   "source": [
    "if not (os.path.exists(rec_train_path + 'images/')):\n",
    "    os.makedirs(rec_train_path + 'images/')\n",
    "\n",
    "if not (os.path.exists(det_train_path + 'images/')):\n",
    "    os.makedirs(det_train_path + 'images/')\n",
    "\n",
    "if not (os.path.exists(rec_val_path + 'images/')):\n",
    "    os.makedirs(rec_val_path + 'images/')\n",
    "\n",
    "if not (os.path.exists(det_val_path + 'images/')):\n",
    "    os.makedirs(det_val_path + 'images/')"
   ],
   "metadata": {
    "collapsed": false
   }
  },
  {
   "cell_type": "markdown",
   "source": [
    "## Get Train Labels"
   ],
   "metadata": {
    "collapsed": false
   }
  },
  {
   "cell_type": "code",
   "execution_count": 84,
   "outputs": [],
   "source": [
    "val_files = txt_files[:len(txt_files)//5]\n",
    "train_files = txt_files[len(txt_files)//5:]"
   ],
   "metadata": {
    "collapsed": false
   }
  },
  {
   "cell_type": "markdown",
   "source": [
    "### Get Cropped Images"
   ],
   "metadata": {
    "collapsed": false
   }
  },
  {
   "cell_type": "code",
   "execution_count": 85,
   "outputs": [],
   "source": [
    "count = 0\n",
    "labels = {}\n",
    "\n",
    "imgs_path = rec_train_path + 'images/'\n",
    "for file in train_files:\n",
    "    df = pd.read_csv(txtpath + file, delimiter=' ')\n",
    "    img = Image.open(imgpath + file[:-4] + \".jpg\")\n",
    "    for i in range(df.shape[0]):\n",
    "        X1, Y1, X2, Y2  = (df['X1'][i], df['Y1'][i], df['X2'][i], df['Y2'][i])\n",
    "        crop = img.crop((X1, Y1, X2, Y2))\n",
    "        try:\n",
    "            file_name = str(count) + '.jpg'\n",
    "            crop.save(imgs_path + file_name)\n",
    "            count +=1\n",
    "            labels[file_name] = df['token'][i]\n",
    "        except:\n",
    "            continue\n",
    "\n",
    "with open(rec_train_path + 'labels.json', 'w', encoding='utf-8') as f:\n",
    "    json.dump(labels, f, ensure_ascii=False, indent=4)"
   ],
   "metadata": {
    "collapsed": false
   }
  },
  {
   "cell_type": "markdown",
   "source": [
    "### Save Detection Data"
   ],
   "metadata": {
    "collapsed": false
   }
  },
  {
   "cell_type": "code",
   "execution_count": 86,
   "outputs": [],
   "source": [
    "det_labels = {}\n",
    "\n",
    "for file in train_files:\n",
    "    df = pd.read_csv(txtpath + file, delimiter=' ')\n",
    "    file_name = file[:-4] + \".jpg\"\n",
    "    img = cv2.imread(imgpath + file_name)\n",
    "    shutil.copy(imgpath+file_name, det_val_path+'images/' + file_name)\n",
    "    temp = {}\n",
    "    temp['img_dimensions'] = img.shape\n",
    "\n",
    "    boxes = []\n",
    "    for _, row in df.iterrows():\n",
    "        box = []\n",
    "        box.append([row['X1'], row['Y1']])\n",
    "        box.append([row['X2'], row['Y1']])\n",
    "        box.append([row['X1'], row['Y2']])\n",
    "        box.append([row['X2'], row['Y2']])\n",
    "        boxes.append(box)\n",
    "\n",
    "    temp['img_hash'] = ''\n",
    "    temp['polygons'] = boxes\n",
    "\n",
    "    det_labels[file[:-4] + \".jpg\"] = temp\n",
    "\n",
    "with open(det_train_path + 'labels.json', 'w', encoding='utf-8') as f:\n",
    "    json.dump(det_labels, f, ensure_ascii=False, indent=4)\n"
   ],
   "metadata": {
    "collapsed": false
   }
  },
  {
   "cell_type": "markdown",
   "source": [
    "## Get Val Labels"
   ],
   "metadata": {
    "collapsed": false
   }
  },
  {
   "cell_type": "code",
   "execution_count": 87,
   "outputs": [],
   "source": [
    "count = 0\n",
    "labels = {}\n",
    "\n",
    "imgs_path = rec_val_path + 'images/'\n",
    "for file in val_files:\n",
    "    df = pd.read_csv(txtpath + file, delimiter=' ')\n",
    "    img = Image.open(imgpath + file[:-4] + \".jpg\")\n",
    "    for i in range(df.shape[0]):\n",
    "        X1, Y1, X2, Y2  = (df['X1'][i], df['Y1'][i], df['X2'][i], df['Y2'][i])\n",
    "        crop = img.crop((X1, Y1, X2, Y2))\n",
    "        try:\n",
    "            file_name = str(count) + '.jpg'\n",
    "            crop.save(imgs_path + file_name)\n",
    "            count +=1\n",
    "            labels[file_name] = df['token'][i]\n",
    "        except:\n",
    "            continue\n",
    "\n",
    "with open(rec_val_path + 'labels.json', 'w', encoding='utf-8') as f:\n",
    "    json.dump(labels, f, ensure_ascii=False, indent=4)"
   ],
   "metadata": {
    "collapsed": false
   }
  },
  {
   "cell_type": "code",
   "execution_count": 88,
   "outputs": [],
   "source": [
    "det_labels = {}\n",
    "\n",
    "for file in val_files:\n",
    "    df = pd.read_csv(txtpath + file, delimiter=' ')\n",
    "    file_name = file[:-4] + \".jpg\"\n",
    "    img = cv2.imread(imgpath + file_name)\n",
    "    shutil.copy2(imgpath+file_name, det_val_path+'images/' + file_name)\n",
    "    temp = {}\n",
    "    temp['img_dimensions'] = img.shape\n",
    "\n",
    "    boxes = []\n",
    "    for _, row in df.iterrows():\n",
    "        box = []\n",
    "        box.append([row['X1'], row['Y1']])\n",
    "        box.append([row['X2'], row['Y1']])\n",
    "        box.append([row['X1'], row['Y2']])\n",
    "        box.append([row['X2'], row['Y2']])\n",
    "        boxes.append(box)\n",
    "\n",
    "    temp['img_hash'] = ''\n",
    "    temp['polygons'] = boxes\n",
    "\n",
    "    det_labels[file_name] = temp\n",
    "\n",
    "with open(det_val_path + 'labels.json', 'w', encoding='utf-8') as f:\n",
    "    json.dump(det_labels, f, ensure_ascii=False, indent=4)\n"
   ],
   "metadata": {
    "collapsed": false
   }
  },
  {
   "cell_type": "code",
   "execution_count": null,
   "outputs": [],
   "source": [],
   "metadata": {
    "collapsed": false
   }
  }
 ],
 "metadata": {
  "kernelspec": {
   "display_name": "Python 3",
   "language": "python",
   "name": "python3"
  },
  "language_info": {
   "codemirror_mode": {
    "name": "ipython",
    "version": 2
   },
   "file_extension": ".py",
   "mimetype": "text/x-python",
   "name": "python",
   "nbconvert_exporter": "python",
   "pygments_lexer": "ipython2",
   "version": "2.7.6"
  }
 },
 "nbformat": 4,
 "nbformat_minor": 0
}
