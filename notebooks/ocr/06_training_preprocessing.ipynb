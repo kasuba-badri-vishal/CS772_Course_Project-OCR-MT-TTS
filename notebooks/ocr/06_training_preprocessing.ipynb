{
 "cells": [
  {
   "cell_type": "code",
   "execution_count": 11,
   "metadata": {
    "collapsed": true
   },
   "outputs": [],
   "source": [
    "import pandas as pd\n",
    "import os\n",
    "import cv2"
   ]
  },
  {
   "cell_type": "code",
   "execution_count": 11,
   "outputs": [],
   "source": [],
   "metadata": {
    "collapsed": false
   }
  },
  {
   "cell_type": "code",
   "execution_count": 20,
   "outputs": [],
   "source": [
    "txtpath = './../../data/ocr/docbank/txt_processed/'\n",
    "imgpath = './../../data/ocr/docbank/images_processed/'\n",
    "\n",
    "train_path = './../../data/ocr/docbank/train/'"
   ],
   "metadata": {
    "collapsed": false
   }
  },
  {
   "cell_type": "code",
   "execution_count": 13,
   "outputs": [],
   "source": [
    "labels = {}\n",
    "\n",
    "for file in os.listdir(txtpath):\n",
    "    df = pd.read_csv(txtpath + file, delimiter=' ')\n",
    "    img = cv2.imread(imgpath + file[:-4] + \".jpg\")\n",
    "    temp = {}\n",
    "    temp['img_dimensions'] = img.shape\n",
    "\n",
    "    boxes = []\n",
    "    for _, row in df.iterrows():\n",
    "        box = []\n",
    "        box.append([row['X1'], row['Y1']])\n",
    "        box.append([row['X2'], row['Y1']])\n",
    "        box.append([row['X1'], row['Y2']])\n",
    "        box.append([row['X2'], row['Y2']])\n",
    "        boxes.append(box)\n",
    "\n",
    "    temp['img_hash'] = ''\n",
    "    temp['polygons'] = boxes\n",
    "\n",
    "    labels[file[:-4] + \".jpg\"] = temp"
   ],
   "metadata": {
    "collapsed": false
   }
  },
  {
   "cell_type": "code",
   "execution_count": 24,
   "outputs": [],
   "source": [
    "import json\n",
    "with open(train_path + 'labels.json', 'w', encoding='utf-8') as f:\n",
    "    json.dump(labels, f, ensure_ascii=False, indent=4)\n"
   ],
   "metadata": {
    "collapsed": false
   }
  },
  {
   "cell_type": "code",
   "execution_count": null,
   "outputs": [],
   "source": [],
   "metadata": {
    "collapsed": false
   }
  }
 ],
 "metadata": {
  "kernelspec": {
   "display_name": "Python 3",
   "language": "python",
   "name": "python3"
  },
  "language_info": {
   "codemirror_mode": {
    "name": "ipython",
    "version": 2
   },
   "file_extension": ".py",
   "mimetype": "text/x-python",
   "name": "python",
   "nbconvert_exporter": "python",
   "pygments_lexer": "ipython2",
   "version": "2.7.6"
  }
 },
 "nbformat": 4,
 "nbformat_minor": 0
}
