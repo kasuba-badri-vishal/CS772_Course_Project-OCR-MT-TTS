{
 "cells": [
  {
   "cell_type": "markdown",
   "id": "8e5a3c75",
   "metadata": {},
   "source": [
    "### Imports"
   ]
  },
  {
   "cell_type": "code",
   "execution_count": 4,
   "id": "045c6908",
   "metadata": {},
   "outputs": [],
   "source": [
    "import numpy as np\n",
    "import pandas as pd\n",
    "import fastwer\n",
    "import os\n",
    "from tqdm import tqdm"
   ]
  },
  {
   "cell_type": "markdown",
   "id": "5883edd1",
   "metadata": {},
   "source": [
    "### Functions"
   ]
  },
  {
   "cell_type": "code",
   "execution_count": 5,
   "id": "6788cd62",
   "metadata": {
    "pycharm": {
     "is_executing": true
    }
   },
   "outputs": [],
   "source": [
    "def calculate_iou(box1, box2):\n",
    "    \"\"\"\n",
    "    Calculate IOU between two bounding boxes.\n",
    "    box1: first bounding box (x1, y1, x2, y2)\n",
    "    box2: second bounding box (x1, y1, x2, y2)\n",
    "    \"\"\"\n",
    "    # determine the coordinates of the intersection rectangle\n",
    "    x_left = max(box1[0], box2[0])\n",
    "    y_top = max(box1[1], box2[1])\n",
    "    x_right = min(box1[2], box2[2])\n",
    "    y_bottom = min(box1[3], box2[3])\n",
    "\n",
    "    # if there is no intersection, return 0\n",
    "    if x_right < x_left or y_bottom < y_top:\n",
    "        return 0.0\n",
    "\n",
    "    # calculate the area of intersection rectangle\n",
    "    intersection_area = (x_right - x_left) * (y_bottom - y_top)\n",
    "\n",
    "    # calculate the area of both boxes\n",
    "    box1_area = (box1[2] - box1[0]) * (box1[3] - box1[1])\n",
    "    box2_area = (box2[2] - box2[0]) * (box2[3] - box2[1])\n",
    "\n",
    "    # calculate the IOU\n",
    "    iou = intersection_area / float(box1_area + box2_area - intersection_area)\n",
    "\n",
    "    return iou\n",
    "\n",
    "\n",
    "def compute_iou_lookup(pred_boxes, gt_boxes):\n",
    "    \"\"\"\n",
    "    Compute a lookup table of IOU values between predicted and ground truth bounding boxes.\n",
    "    pred_boxes: list of predicted bounding boxes\n",
    "    gt_boxes: list of ground truth bounding boxes\n",
    "    \"\"\"\n",
    "    # convert boxes to numpy arrays for faster computation\n",
    "    pred_boxes = np.array(pred_boxes)\n",
    "    gt_boxes = np.array(gt_boxes)\n",
    "\n",
    "    # determine the number of predicted and ground truth boxes\n",
    "    num_pred_boxes = len(pred_boxes)\n",
    "    num_gt_boxes = len(gt_boxes)\n",
    "\n",
    "    # initialize IOU lookup table with zeros\n",
    "    iou_lookup = np.zeros((num_pred_boxes, num_gt_boxes))\n",
    "\n",
    "    # calculate IOU between all pairs of boxes\n",
    "    for i in range(num_pred_boxes):\n",
    "        box1 = pred_boxes[i]\n",
    "        for j in range(num_gt_boxes):\n",
    "            box2 = gt_boxes[j]\n",
    "            iou = calculate_iou(box1, box2)\n",
    "            iou_lookup[i, j] = iou\n",
    "\n",
    "    return iou_lookup\n",
    "\n",
    "def calculate_precision_recall(pred_boxes, gt_boxes, iou_thresh, iou_lookup):\n",
    "    \"\"\"\n",
    "    Calculate precision and recall of predicted bounding boxes with respect to the ground truth boxes.\n",
    "    pred_boxes: list of predicted bounding boxes\n",
    "    gt_boxes: list of ground truth bounding boxes\n",
    "    iou_thresh: IOU threshold for considering a prediction as correct\n",
    "    iou_lookup: pre-calculated IOU lookup table between predicted and ground truth boxes\n",
    "    \"\"\"\n",
    "    # convert boxes to numpy arrays for faster computation\n",
    "    pred_boxes = np.array(pred_boxes)\n",
    "    gt_boxes = np.array(gt_boxes)\n",
    "\n",
    "    # handle cases with no predicted or no ground truth boxes\n",
    "    if len(pred_boxes) == 0:\n",
    "        return 0, 0\n",
    "    if len(gt_boxes) == 0:\n",
    "        return 0, 0\n",
    "\n",
    "    # count true positives, false positives, and false negatives\n",
    "    tp = 0\n",
    "    fp = 0\n",
    "    fn = 0\n",
    "    for i in range(len(pred_boxes)):\n",
    "        iou_max = np.max(iou_lookup[i])\n",
    "        if iou_max >= iou_thresh:\n",
    "            tp += 1\n",
    "        else:\n",
    "            fp += 1\n",
    "    for j in range(len(gt_boxes)):\n",
    "        iou_max = np.max(iou_lookup[:, j])\n",
    "        if iou_max < iou_thresh:\n",
    "            fn += 1\n",
    "\n",
    "    # calculate precision and recall\n",
    "    if tp + fp == 0:\n",
    "        precision = 0\n",
    "    else:\n",
    "        precision = tp / (tp + fp)\n",
    "    if tp + fn == 0:\n",
    "        recall = 0\n",
    "    else:\n",
    "        recall = tp / (tp + fn)\n",
    "    return precision, recall"
   ]
  },
  {
   "cell_type": "markdown",
   "id": "41fde0d5",
   "metadata": {},
   "source": [
    "### Input Files"
   ]
  },
  {
   "cell_type": "code",
   "execution_count": 6,
   "id": "2b268686",
   "metadata": {
    "pycharm": {
     "is_executing": true
    }
   },
   "outputs": [],
   "source": [
    "pred_dir = './../../results/ocr/dbnet_vgg16/txt/'\n",
    "gt_dir = './../../data/ocr/docbank/txt/'\n",
    "\n",
    "iou_threshold = 0.5"
   ]
  },
  {
   "cell_type": "code",
   "execution_count": 7,
   "id": "05f9bb60",
   "metadata": {
    "pycharm": {
     "is_executing": true
    }
   },
   "outputs": [
    {
     "name": "stderr",
     "output_type": "stream",
     "text": [
      "100%|█████████████████████████████████████████████████████████████████████████████████████████████████████████████████████████████████████████| 100/100 [00:41<00:00,  2.39it/s]"
     ]
    },
    {
     "name": "stdout",
     "output_type": "stream",
     "text": [
      "0.8623650352509504 0.7553533253143856\n"
     ]
    },
    {
     "name": "stderr",
     "output_type": "stream",
     "text": [
      "\n"
     ]
    }
   ],
   "source": [
    "precisions = np.array([])\n",
    "recalls = np.array([])\n",
    "for file in tqdm(os.listdir(pred_dir)):\n",
    "    df = pd.read_csv(pred_dir + file, sep=' ')\n",
    "    gt_df = pd.read_csv(gt_dir + file, sep=' ')\n",
    "\n",
    "    preds = df[['X1','Y1','X2','Y2']].values.tolist()\n",
    "    gts =  gt_df[['X1','Y1','X2','Y2']].values.tolist()\n",
    "    p,r = calculate_precision_recall(preds, gts, iou_threshold, compute_iou_lookup(preds, gts))\n",
    "    precisions = np.append(precisions,p)\n",
    "    recalls = np.append(recalls,r)\n",
    "\n",
    "print(np.mean(precisions), np.mean(recalls))"
   ]
  },
  {
   "cell_type": "code",
   "execution_count": 20,
   "id": "b7c9a99a",
   "metadata": {},
   "outputs": [],
   "source": [
    "import math"
   ]
  },
  {
   "cell_type": "code",
   "execution_count": 26,
   "id": "73e16497",
   "metadata": {
    "scrolled": true
   },
   "outputs": [
    {
     "name": "stderr",
     "output_type": "stream",
     "text": [
      "100%|█████████████████████████████████████████████████████████████████████████████████████████████████████████████████████████████████████████| 100/100 [00:08<00:00, 11.15it/s]"
     ]
    },
    {
     "name": "stdout",
     "output_type": "stream",
     "text": [
      "avg_CRR: 64.854679\n",
      "avg_WRR: 55.802972\n"
     ]
    },
    {
     "name": "stderr",
     "output_type": "stream",
     "text": [
      "\n"
     ]
    }
   ],
   "source": [
    "crrs = np.array([])\n",
    "wrrs = np.array([])\n",
    "\n",
    "for file in tqdm(os.listdir(pred_dir)):\n",
    "    df = pd.read_csv(pred_dir + file, sep=' ')\n",
    "    gt_df = pd.read_csv(gt_dir + file, sep=' ')\n",
    "    \n",
    "    y = gt_df['token'].to_list()\n",
    "    x = df['token'].to_list()\n",
    "\n",
    "    try:\n",
    "        pred_text = ' '.join(x)\n",
    "    except:\n",
    "        x = [a for a in x if isinstance(a,str)]\n",
    "        pred_text = ' '.join(x)\n",
    "    \n",
    "    try:\n",
    "        gt_text = ' '.join(y)\n",
    "    except:\n",
    "        y = [x for x in y if isinstance(x,str)]\n",
    "        gt_text = ' '.join(y)\n",
    "\n",
    "    CRR = 100 - fastwer.score_sent(pred_text, gt_text, char_level=True)\n",
    "    WRR = 100 - fastwer.score_sent(pred_text, gt_text)\n",
    "    crrs = np.append(crrs, CRR)\n",
    "    wrrs = np.append(wrrs, WRR)\n",
    "\n",
    "print(\"avg_CRR:\", np.mean(crrs))\n",
    "print(\"avg_WRR:\", np.mean(wrrs))"
   ]
  },
  {
   "cell_type": "code",
   "execution_count": null,
   "id": "124ea28a",
   "metadata": {},
   "outputs": [],
   "source": [
    "hypo = ['This is an example .', 'This is another example .']\n",
    "ref = ['This is the example :)', 'That is the example .']\n",
    "\n",
    "hypo = g\n",
    "\n",
    "# Corpus-Level WER: 40.0\n",
    "print(fastwer.score(hypo, ref))\n",
    "# Corpus-Level CER: 25.5814\n",
    "print(fastwer.score(hypo, ref, char_level=True))\n",
    "\n",
    "# Sentence-Level WER: 40.0\n",
    "print(fastwer.score_sent(hypo[0], ref[0]))\n",
    "# Sentence-Level CER: 22.7273\n",
    "print(fastwer.score_sent(hypo[0], ref[0], char_level=True))"
   ]
  }
 ],
 "metadata": {
  "kernelspec": {
   "display_name": "Python 3 (ipykernel)",
   "language": "python",
   "name": "python3"
  },
  "language_info": {
   "codemirror_mode": {
    "name": "ipython",
    "version": 3
   },
   "file_extension": ".py",
   "mimetype": "text/x-python",
   "name": "python",
   "nbconvert_exporter": "python",
   "pygments_lexer": "ipython3",
   "version": "3.9.6"
  }
 },
 "nbformat": 4,
 "nbformat_minor": 5
}
