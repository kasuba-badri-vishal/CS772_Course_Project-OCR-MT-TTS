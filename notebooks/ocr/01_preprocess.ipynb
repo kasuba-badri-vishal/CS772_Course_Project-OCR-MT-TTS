{
 "cells": [
  {
   "cell_type": "markdown",
   "source": [
    "### Imports"
   ],
   "metadata": {
    "collapsed": false
   }
  },
  {
   "cell_type": "code",
   "execution_count": 10,
   "metadata": {
    "collapsed": true
   },
   "outputs": [],
   "source": [
    "import os\n",
    "import cv2\n",
    "import pandas as pd\n",
    "from skimage import color"
   ]
  },
  {
   "cell_type": "code",
   "execution_count": 11,
   "outputs": [],
   "source": [
    "imgpath = './../../data/ocr/docbank/images/'\n",
    "txtpath = './../../data/ocr/docbank/ori_txt/'\n",
    "outpath = './../../data/ocr/docbank/txt/'"
   ],
   "metadata": {
    "collapsed": false
   }
  },
  {
   "cell_type": "markdown",
   "source": [
    "### Resize bboxes according to images"
   ],
   "metadata": {
    "collapsed": false
   }
  },
  {
   "cell_type": "code",
   "execution_count": 12,
   "outputs": [],
   "source": [
    "labels = set()\n",
    "for file in os.listdir(txtpath):\n",
    "    df = pd.read_csv(txtpath + file, delimiter='\\t',\n",
    "                     names=[\"token\", \"X1\", \"Y1\", \"X2\", \"Y2\", \"R\", \"G\", \"B\", \"font name\", \"label\"])\n",
    "    img = cv2.imread(imgpath + file[:-4] + \".jpg\")\n",
    "    height, width, _ = img.shape\n",
    "    df['X1'] = df['X1'].apply(lambda x : int(x * width / 1000))\n",
    "    df['Y1'] = df['Y1'].apply(lambda x : int(x * height / 1000))\n",
    "    df['X2'] = df['X2'].apply(lambda x : int(x * width / 1000))\n",
    "    df['Y2'] = df['Y2'].apply(lambda x : int(x * height / 1000))\n",
    "    labels = labels.union(set(df['label'].tolist()))\n",
    "    df.to_csv(outpath + file, index=False, sep=\" \")"
   ],
   "metadata": {
    "collapsed": false
   }
  },
  {
   "cell_type": "code",
   "execution_count": 13,
   "outputs": [
    {
     "name": "stdout",
     "output_type": "stream",
     "text": [
      "Unique labels are:\n",
      " {'list', 'table', 'reference', 'caption', 'abstract', 'author', 'title', 'section', 'paragraph', 'figure', 'date', 'equation', 'footer'}\n"
     ]
    }
   ],
   "source": [
    "###All Labels\n",
    "print(\"Unique labels are:\\n\", labels)"
   ],
   "metadata": {
    "collapsed": false
   }
  },
  {
   "cell_type": "markdown",
   "source": [
    "### Remove Unwanted Labels"
   ],
   "metadata": {
    "collapsed": false
   }
  },
  {
   "cell_type": "code",
   "execution_count": 14,
   "outputs": [],
   "source": [
    "unwanted_labels = ['table', 'equation', 'figure']\n",
    "\n",
    "imgpath = './../../data/ocr/docbank/images/'\n",
    "txtpath = './../../data/ocr/docbank/txt/'\n",
    "outpath = './../../data/ocr/docbank/txt_processed/'\n",
    "outimgs = './../../data/ocr/docbank/images_processed/'"
   ],
   "metadata": {
    "collapsed": false
   }
  },
  {
   "cell_type": "code",
   "execution_count": 17,
   "outputs": [
    {
     "data": {
      "text/plain": "2"
     },
     "execution_count": 17,
     "metadata": {},
     "output_type": "execute_result"
    }
   ],
   "source": [
    "len(img.shape)"
   ],
   "metadata": {
    "collapsed": false
   }
  },
  {
   "cell_type": "code",
   "execution_count": 19,
   "outputs": [],
   "source": [
    "for file in os.listdir(txtpath):\n",
    "    df = pd.read_csv(txtpath + file, delimiter=' ')\n",
    "    img = cv2.imread(imgpath + file[:-4] + \".jpg\")\n",
    "    for label in unwanted_labels:\n",
    "        df1 = df[df['label']==label].reset_index(drop=True)\n",
    "        df2 = df[df['label']!=label].reset_index(drop=True)\n",
    "        if(len(img.shape)==2):\n",
    "            height, width = img.shape\n",
    "        else:\n",
    "            height, width, _ = img.shape\n",
    "            img = color.rgb2gray(img)\n",
    "        for i in range(df1.shape[0]):\n",
    "            X1, Y1, X2, Y2  = (df1['X1'][i], df1['Y1'][i], df1['X2'][i], df1['Y2'][i])\n",
    "            df2.drop(df2[(df2['X1'] >= X1) & (df2['X2'] <= X2) & (df2['Y1'] >= Y1) & (df2['Y2'] <= Y2)].index, inplace = True)\n",
    "            df2 = df2.reset_index(drop=True)\n",
    "            cv2.rectangle(img, (X1, Y1), (X2, Y2), (255, 255, 255), cv2.FILLED)\n",
    "\n",
    "        cv2.imwrite(outimgs + file[:-4] + \".jpg\", img)\n",
    "        df.to_csv(outpath + file, index=False, sep=\" \")"
   ],
   "metadata": {
    "collapsed": false
   }
  },
  {
   "cell_type": "code",
   "execution_count": null,
   "outputs": [],
   "source": [],
   "metadata": {
    "collapsed": false
   }
  }
 ],
 "metadata": {
  "kernelspec": {
   "display_name": "Python 3",
   "language": "python",
   "name": "python3"
  },
  "language_info": {
   "codemirror_mode": {
    "name": "ipython",
    "version": 2
   },
   "file_extension": ".py",
   "mimetype": "text/x-python",
   "name": "python",
   "nbconvert_exporter": "python",
   "pygments_lexer": "ipython2",
   "version": "2.7.6"
  }
 },
 "nbformat": 4,
 "nbformat_minor": 0
}
