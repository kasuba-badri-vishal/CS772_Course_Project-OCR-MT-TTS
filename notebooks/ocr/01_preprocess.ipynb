{
 "cells": [
  {
   "cell_type": "code",
   "execution_count": 40,
   "metadata": {
    "collapsed": true
   },
   "outputs": [],
   "source": [
    "import os\n",
    "import cv2\n",
    "import pandas as pd"
   ]
  },
  {
   "cell_type": "code",
   "execution_count": 41,
   "outputs": [],
   "source": [
    "imgpath = './../../data/ocr/docbank/images/'\n",
    "txtpath = './../../data/ocr/docbank/ori_txt/'\n",
    "outpath = './../../data/ocr/docbank/txt/'"
   ],
   "metadata": {
    "collapsed": false
   }
  },
  {
   "cell_type": "code",
   "execution_count": 42,
   "outputs": [],
   "source": [
    "for file in os.listdir(txtpath):\n",
    "    df = pd.read_csv(txtpath + file, delimiter='\\t',\n",
    "                     names=[\"token\", \"X1\", \"Y1\", \"X2\", \"Y2\", \"R\", \"G\", \"B\", \"font name\", \"label\"])\n",
    "    img = cv2.imread(imgpath + file[:-4] + \".jpg\")\n",
    "    height, width, _ = img.shape\n",
    "    df['X1'] = df['X1'].apply(lambda x : int(x * width / 1000))\n",
    "    df['Y1'] = df['Y1'].apply(lambda x : int(x * height / 1000))\n",
    "    df['X2'] = df['X2'].apply(lambda x : int(x * width / 1000))\n",
    "    df['Y2'] = df['Y2'].apply(lambda x : int(x * height / 1000))\n",
    "    df.to_csv(outpath + file, index=False, sep=\" \")"
   ],
   "metadata": {
    "collapsed": false
   }
  },
  {
   "cell_type": "code",
   "execution_count": null,
   "outputs": [],
   "source": [],
   "metadata": {
    "collapsed": false
   }
  }
 ],
 "metadata": {
  "kernelspec": {
   "display_name": "Python 3",
   "language": "python",
   "name": "python3"
  },
  "language_info": {
   "codemirror_mode": {
    "name": "ipython",
    "version": 2
   },
   "file_extension": ".py",
   "mimetype": "text/x-python",
   "name": "python",
   "nbconvert_exporter": "python",
   "pygments_lexer": "ipython2",
   "version": "2.7.6"
  }
 },
 "nbformat": 4,
 "nbformat_minor": 0
}
