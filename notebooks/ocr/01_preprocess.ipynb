{
 "cells": [
  {
   "cell_type": "markdown",
   "source": [
    "### Imports"
   ],
   "metadata": {
    "collapsed": false
   }
  },
  {
   "cell_type": "code",
   "execution_count": 26,
   "metadata": {
    "collapsed": true
   },
   "outputs": [],
   "source": [
    "import os\n",
    "import cv2\n",
    "import pandas as pd"
   ]
  },
  {
   "cell_type": "code",
   "execution_count": 27,
   "outputs": [],
   "source": [
    "imgpath = './../../data/ocr/docbank/images/'\n",
    "txtpath = './../../data/ocr/docbank/ori_txt/'\n",
    "outpath = './../../data/ocr/docbank/txt/'"
   ],
   "metadata": {
    "collapsed": false
   }
  },
  {
   "cell_type": "markdown",
   "source": [
    "### Resize bboxes according to images"
   ],
   "metadata": {
    "collapsed": false
   }
  },
  {
   "cell_type": "code",
   "execution_count": 28,
   "outputs": [],
   "source": [
    "labels = set()\n",
    "for file in os.listdir(txtpath):\n",
    "    df = pd.read_csv(txtpath + file, delimiter='\\t',\n",
    "                     names=[\"token\", \"X1\", \"Y1\", \"X2\", \"Y2\", \"R\", \"G\", \"B\", \"font name\", \"label\"])\n",
    "    img = cv2.imread(imgpath + file[:-4] + \".jpg\")\n",
    "    height, width, _ = img.shape\n",
    "    df['X1'] = df['X1'].apply(lambda x : int(x * width / 1000))\n",
    "    df['Y1'] = df['Y1'].apply(lambda x : int(x * height / 1000))\n",
    "    df['X2'] = df['X2'].apply(lambda x : int(x * width / 1000))\n",
    "    df['Y2'] = df['Y2'].apply(lambda x : int(x * height / 1000))\n",
    "    labels = labels.union(set(df['label'].tolist()))\n",
    "    df.to_csv(outpath + file, index=False, sep=\" \")"
   ],
   "metadata": {
    "collapsed": false
   }
  },
  {
   "cell_type": "code",
   "execution_count": 29,
   "outputs": [
    {
     "name": "stdout",
     "output_type": "stream",
     "text": [
      "Unique labels are:\n",
      " {'list', 'figure', 'reference', 'title', 'abstract', 'date', 'author', 'equation', 'paragraph', 'footer', 'table', 'caption', 'section'}\n"
     ]
    }
   ],
   "source": [
    "###All Labels\n",
    "print(\"Unique labels are:\\n\", labels)"
   ],
   "metadata": {
    "collapsed": false
   }
  },
  {
   "cell_type": "markdown",
   "source": [
    "### Remove Unwanted Labels"
   ],
   "metadata": {
    "collapsed": false
   }
  },
  {
   "cell_type": "code",
   "execution_count": 30,
   "outputs": [],
   "source": [
    "unwanted_labels = ['table', 'equation', 'figure']\n",
    "\n",
    "imgpath = './../../data/ocr/docbank/images/'\n",
    "txtpath = './../../data/ocr/docbank/txt/'\n",
    "outpath = './../../data/ocr/docbank/txt_processed/'\n",
    "outimgs = './../../data/ocr/docbank/images_processed/'\n",
    "gtimgs  = './../../data/ocr/docbank/gt_images/'"
   ],
   "metadata": {
    "collapsed": false
   }
  },
  {
   "cell_type": "code",
   "execution_count": 31,
   "outputs": [],
   "source": [
    "for file in os.listdir(txtpath):\n",
    "    df = pd.read_csv(txtpath + file, delimiter=' ')\n",
    "    img = cv2.imread(imgpath + file[:-4] + \".jpg\")\n",
    "    for label in unwanted_labels:\n",
    "        df1 = df[df['label']==label].reset_index(drop=True)\n",
    "        df2 = df[df['label']!=label].reset_index(drop=True)\n",
    "        df = df2\n",
    "        height, width, _ = img.shape\n",
    "        for i in range(df1.shape[0]):\n",
    "            X1, Y1, X2, Y2  = (df1['X1'][i], df1['Y1'][i], df1['X2'][i], df1['Y2'][i])\n",
    "            df2.drop(df2[(df2['X1'] >= X1) & (df2['X2'] <= X2) & (df2['Y1'] >= Y1) & (df2['Y2'] <= Y2)].index, inplace = True)\n",
    "            df2 = df2.reset_index(drop=True)\n",
    "            cv2.rectangle(img, (X1, Y1), (X2, Y2), (255, 255, 255), cv2.FILLED)\n",
    "\n",
    "        cv2.imwrite(outimgs + file[:-4] + \".jpg\", img)\n",
    "        df.to_csv(outpath + file, index=False, sep=\" \")"
   ],
   "metadata": {
    "collapsed": false
   }
  },
  {
   "cell_type": "markdown",
   "source": [
    "### Image Ground Truths"
   ],
   "metadata": {
    "collapsed": false
   }
  },
  {
   "cell_type": "code",
   "execution_count": 32,
   "outputs": [],
   "source": [
    "for file in os.listdir(outpath):\n",
    "    df = pd.read_csv(outpath + file, delimiter=' ')\n",
    "    img = cv2.imread(outimgs + file[:-4] + \".jpg\")\n",
    "    for i in range(df.shape[0]):\n",
    "        X1, Y1, X2, Y2  = (df['X1'][i], df['Y1'][i], df['X2'][i], df['Y2'][i])\n",
    "        cv2.rectangle(img, (X1, Y1), (X2, Y2), (0, 255, 0), 2)\n",
    "\n",
    "    cv2.imwrite(gtimgs + file[:-4]+'.jpg', img)"
   ],
   "metadata": {
    "collapsed": false
   }
  },
  {
   "cell_type": "code",
   "execution_count": null,
   "outputs": [],
   "source": [],
   "metadata": {
    "collapsed": false
   }
  }
 ],
 "metadata": {
  "kernelspec": {
   "display_name": "Python 3",
   "language": "python",
   "name": "python3"
  },
  "language_info": {
   "codemirror_mode": {
    "name": "ipython",
    "version": 2
   },
   "file_extension": ".py",
   "mimetype": "text/x-python",
   "name": "python",
   "nbconvert_exporter": "python",
   "pygments_lexer": "ipython2",
   "version": "2.7.6"
  }
 },
 "nbformat": 4,
 "nbformat_minor": 0
}
