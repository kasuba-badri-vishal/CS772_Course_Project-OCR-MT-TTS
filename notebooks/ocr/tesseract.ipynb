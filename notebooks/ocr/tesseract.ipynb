{
 "cells": [
  {
   "cell_type": "code",
   "execution_count": 31,
   "id": "61559f27",
   "metadata": {},
   "outputs": [],
   "source": [
    "from pytesseract import image_to_data, Output\n",
    "import cv2\n",
    "from tqdm import tqdm\n",
    "import os"
   ]
  },
  {
   "cell_type": "code",
   "execution_count": 32,
   "id": "bf3f3017",
   "metadata": {},
   "outputs": [],
   "source": [
    "OCR_DATA_PATH  = './../../data/ocr/docbank/images/'\n",
    "TXT_DATA_PATH  = './../../results/ocr/tesseract/'\n",
    "image_data_dir = os.listdir(OCR_DATA_PATH)"
   ]
  },
  {
   "cell_type": "code",
   "execution_count": null,
   "id": "16359319",
   "metadata": {},
   "outputs": [
    {
     "name": "stderr",
     "output_type": "stream",
     "text": [
      " 28%|██████████████████████████████████████▋                                                                                                   | 28/100 [01:10<02:41,  2.24s/it]"
     ]
    }
   ],
   "source": [
    "total = {}\n",
    "\n",
    "for image_file in tqdm(image_data_dir):\n",
    "    predictions = []\n",
    "    image = cv2.imread(OCR_DATA_PATH + image_file)\n",
    "    d = image_to_data(image, output_type=Output.DICT)\n",
    "    for i in range(len(d['level'])):\n",
    "        if d['level'][i]==5:\n",
    "            values = []\n",
    "            (x, y, w, h) = (d['left'][i], d['top'][i], d['width'][i], d['height'][i])\n",
    "            (x, y, w, h) = (int(x), int(y), int(w), int(h))\n",
    "\n",
    "            values.append(d['block_num'][i])\n",
    "            values.append(d['par_num'][i])\n",
    "            values.append(d['line_num'][i])\n",
    "            values.append(d['word_num'][i])\n",
    "            values.append(d['conf'][i])\n",
    "            values.append(d['left'][i])\n",
    "            values.append(d['top'][i])\n",
    "            values.append(d['left'][i] + d['width'][i])\n",
    "            values.append(d['top'][i] + d['height'][i])\n",
    "            values.append(d['text'][i])\n",
    "            predictions.append(values)\n",
    "    total[image_file] = predictions"
   ]
  },
  {
   "cell_type": "code",
   "execution_count": null,
   "id": "c2ee9e81",
   "metadata": {},
   "outputs": [],
   "source": [
    "for image,result in tqdm(total.items()):\n",
    "    name = image[:len(image) - 4]\n",
    "    df = pd.DataFrame(result, columns = ['block', 'para', 'line', 'confidence', 'X1', 'Y1', 'X2', 'Y2', 'token'])\n",
    "    df.to_csv(TXT_DATA_PATH + name + '.txt', sep=' ',index=False)"
   ]
  }
 ],
 "metadata": {
  "kernelspec": {
   "display_name": "Python 3 (ipykernel)",
   "language": "python",
   "name": "python3"
  },
  "language_info": {
   "codemirror_mode": {
    "name": "ipython",
    "version": 3
   },
   "file_extension": ".py",
   "mimetype": "text/x-python",
   "name": "python",
   "nbconvert_exporter": "python",
   "pygments_lexer": "ipython3",
   "version": "3.9.6"
  }
 },
 "nbformat": 4,
 "nbformat_minor": 5
}
