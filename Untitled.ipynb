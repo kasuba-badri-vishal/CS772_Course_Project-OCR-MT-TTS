{
 "cells": [
  {
   "cell_type": "code",
   "execution_count": 1,
   "id": "e7123465",
   "metadata": {},
   "outputs": [],
   "source": [
    "import pickle\n",
    "\n",
    "with open('results/test_ocr.pkl', 'rb') as f:\n",
    "    result = pickle.load(f)"
   ]
  },
  {
   "cell_type": "code",
   "execution_count": null,
   "id": "babf3871",
   "metadata": {},
   "outputs": [],
   "source": [
    "result"
   ]
  },
  {
   "cell_type": "code",
   "execution_count": null,
   "id": "c7490b82",
   "metadata": {},
   "outputs": [],
   "source": [
    "dim = tuple(reversed(result.pages[0].dimensions))\n",
    "    predictions = []\n",
    "    block_id = 0\n",
    "    for block in result.pages[0].blocks:\n",
    "        line_id = 0\n",
    "        for line in block.lines:\n",
    "            for word in line.words:\n",
    "                values = []\n",
    "                geo = word.geometry\n",
    "                a = list(int(a*b) for a,b in zip(geo[0],dim))\n",
    "                b = list(int(a*b) for a,b in zip(geo[1],dim))\n",
    "                values.append(block_id)\n",
    "                values.append(line_id)\n",
    "                values.append(word.confidence)\n",
    "                values.append(a[0])\n",
    "                values.append(a[1])\n",
    "                values.append(b[0])\n",
    "                values.append(b[1])\n",
    "                values.append(word.value)\n",
    "                predictions.append(values)\n",
    "            line_id += 1\n",
    "        block_id += 1\n",
    "    total[image] = predictions"
   ]
  }
 ],
 "metadata": {
  "kernelspec": {
   "display_name": "Python 3 (ipykernel)",
   "language": "python",
   "name": "python3"
  },
  "language_info": {
   "codemirror_mode": {
    "name": "ipython",
    "version": 3
   },
   "file_extension": ".py",
   "mimetype": "text/x-python",
   "name": "python",
   "nbconvert_exporter": "python",
   "pygments_lexer": "ipython3",
   "version": "3.9.6"
  }
 },
 "nbformat": 4,
 "nbformat_minor": 5
}
